{
 "cells": [
  {
   "cell_type": "markdown",
   "metadata": {},
   "source": [
    "1. Pede ao usuário para digitar um número de 1 a 7 e imprime o dia da semana correspondente."
   ]
  },
  {
   "cell_type": "code",
   "execution_count": null,
   "metadata": {},
   "outputs": [],
   "source": [
    "numero = int(input('Digite um número de 1 a 7'))\n",
    "if numero == 1:\n",
    "    print('Segunda-feira')\n",
    "elif numero == 2:\n",
    "    print('Terça-feira')\n",
    "elif numero == 3:\n",
    "    print('Quarta-feira')\n",
    "elif numero == 4:\n",
    "    print('Quinta-feira')\n",
    "elif numero == 5:\n",
    "    print('Sexta-feira')\n",
    "elif numero == 6:\n",
    "    print('Sabado-feira')\n",
    "elif numero == 7:\n",
    "    print('Domingo-feira')"
   ]
  },
  {
   "cell_type": "markdown",
   "metadata": {},
   "source": [
    "2. Pede ao usuário o ano atual e o ano de nascimento e verifique em qual faixa etária ele\n",
    "pertence considerando (abaixo de 10 é criança, de 11 a 17 adolescente, de 18 a 59 adulto,\n",
    "acima de 60 idoso)"
   ]
  },
  {
   "cell_type": "code",
   "execution_count": null,
   "metadata": {},
   "outputs": [],
   "source": [
    "ano_atual = int(input('Digite o ano atual'))\n",
    "ano_nascimento = (int(input('Digite o seu ano de nascimento')))\n",
    "idade = ano_atual - ano_nascimento\n",
    "if idade <= 10:\n",
    "    print('Criança')\n",
    "elif idade > 10 and idade < 18:\n",
    "    print('Adolescente')\n",
    "elif idade > 17 and idade < 60:\n",
    "    print('Adulto')\n",
    "else:\n",
    "    print('Idoso')"
   ]
  },
  {
   "cell_type": "markdown",
   "metadata": {},
   "source": [
    "3. Pede ao usuário para digitar o nome de um mês e imprime o número de dias naquele mês."
   ]
  },
  {
   "cell_type": "code",
   "execution_count": null,
   "metadata": {},
   "outputs": [],
   "source": [
    "mes = input('Digite o mês')\n",
    "if mes == 'abril' or mes == 'junho' or mes == 'setembro' or mes == 'novembro':\n",
    "    print('30 dias')\n",
    "elif mes == 'janeiro' or mes == 'março' or mes == 'maio' or mes == 'julho' or mes == 'agosto' or mes == 'outubro' or mes == 'dezembro':\n",
    "    print('31 dias')\n",
    "else:\n",
    "    print('28 dias')"
   ]
  },
  {
   "cell_type": "markdown",
   "metadata": {},
   "source": [
    "4. Pede ao usuário para digitar 2 notas e calcule sua média, e considere a média acima de 7\n",
    "aprovado, entre 5 e 7, em recuperação, abaixo de 5 reprovado."
   ]
  },
  {
   "cell_type": "code",
   "execution_count": 1,
   "metadata": {},
   "outputs": [
    {
     "name": "stdout",
     "output_type": "stream",
     "text": [
      "Reprovado\n"
     ]
    }
   ],
   "source": [
    "nota1 = float(input('Digite a primeira nota:'))\n",
    "nota2 = float(input('Digite a segunda nota:'))\n",
    "media = (nota1 + nota2) / 2\n",
    "if media > 7:\n",
    "    print('Aprovado')\n",
    "elif media > 4 and media < 8:\n",
    "    print('Em recuperação')\n",
    "else:\n",
    "    print('Reprovado')"
   ]
  },
  {
   "cell_type": "markdown",
   "metadata": {},
   "source": [
    "5. Pede o salário do funcionário, e calcular o aumento que ele terá, considerando se ganhar até\n",
    "2000, reajuste de 12%, até 4000, reajuste de 10%, acima de 4000 reajuste de 8%, exibir o\n",
    "novo salário"
   ]
  },
  {
   "cell_type": "code",
   "execution_count": 5,
   "metadata": {},
   "outputs": [
    {
     "name": "stdout",
     "output_type": "stream",
     "text": [
      "2240.0\n",
      "240.0\n"
     ]
    }
   ],
   "source": [
    "salario = float(input('Digite o salario'))\n",
    "porcentagem = 0\n",
    "if salario <= 2000:\n",
    "    porcentagem = 12\n",
    "elif salario > 2000 and salario <= 4000:\n",
    "    porcentagem = 10\n",
    "else:\n",
    "    porcentagem = 8\n",
    "novo_salario = salario * porcentagem / 100\n",
    "print(salario + novo_salario)"
   ]
  },
  {
   "cell_type": "markdown",
   "metadata": {},
   "source": [
    "1. Peça o salário do funcionário e calcule o valor do IRPF e INSS do funcionário e quanto ele irá\n",
    "receber no final do mês, considerando a seguinte tabela:"
   ]
  },
  {
   "cell_type": "code",
   "execution_count": 16,
   "metadata": {},
   "outputs": [
    {
     "name": "stdout",
     "output_type": "stream",
     "text": [
      "15 %\n",
      "12 %\n",
      "2190.0\n",
      "o valor de desconto do INSS 328.5, o valor do desconto do IRPF 262.8 e o seu salario com o desconto é 2190.0\n"
     ]
    }
   ],
   "source": [
    "salario = float(input('Digite o salario'))\n",
    "ultimo = 0\n",
    "if salario <= 2259.20:\n",
    "    IRPF = 0\n",
    "elif salario > 2259.20 and salario <= 2826.65:\n",
    "    IRPF = 7.5\n",
    "elif salario > 2826.65 and salario <= 3751.05:\n",
    "    IRPF = 15\n",
    "elif salario > 3751.05 and salario <= 4664.68:\n",
    "    IRPF = 22.5\n",
    "else:\n",
    "    IRPF = 27.5\n",
    "if  salario <= 1412.00:\n",
    "    INSS = 7.5\n",
    "elif salario > 1412.00 and salario <= 2666.68:\n",
    "    INSS = 9\n",
    "elif salario > 2666.68 and salario <= 4000.03:\n",
    "    INSS = 12\n",
    "elif salario > 4000.03 and salario <= 7786.02:\n",
    "    INSS = 14\n",
    "else:\n",
    "    ultimo = 908,85\n",
    "print(IRPF,'%')\n",
    "print(INSS,'%')\n",
    "salario = salario - (salario * IRPF / 100) - (salario * INSS / 100 - ultimo)\n",
    "valor1 = salario * IRPF / 100 \n",
    "valor2 = salario * INSS / 100 - ultimo\n",
    "print(salario)\n",
    "print(f'o valor de desconto do IRPF {valor1}, o valor do desconto do INSS {valor2} e o seu salario com o desconto é {salario}')"
   ]
  },
  {
   "cell_type": "markdown",
   "metadata": {},
   "source": [
    "2. Para melhorar nosso desafio 01, vamos criar um novo calculando de forma real.\n",
    "Peça o salário do funcionário e calcule o valor do IRPF e INSS do funcionário e quanto ele irá\n",
    "receber no final do mês, considerando as seguintes tabelas e fórmulas:\n",
    "- Para calcular o INSS é calculado sobre o valor bruto do salário\n",
    "- Para calcular o IRPF é aplicado a tabela abaixo sobre o valor bruto menos o valor do INSS"
   ]
  },
  {
   "cell_type": "code",
   "execution_count": null,
   "metadata": {},
   "outputs": [],
   "source": [
    "salario = float(input('Digite o salario'))\n",
    "if  salario <= 1412.00:\n",
    "    INSS = 7.5 * salario / 100\n",
    "elif salario > 1412.00 and salario <= 2666.68:\n",
    "    INSS = 112.9212\n",
    "elif salario > 2666.68 and salario <= 4000.03:\n",
    "    INSS = 160.002\n",
    "elif salario > 4000.03 and salario <= 7786.02:\n",
    "    INSS = 530.0428\n",
    "else:\n",
    "    INSS = 908,85\n",
    "salario = salario - INSS\n",
    "if salario <= 2259.20:\n",
    "    IRPF = 0\n",
    "elif salario > 2259.20 and salario <= 2826.65:\n",
    "    IRPF = 7.5\n",
    "elif salario > 2826.65 and salario <= 3751.05:\n",
    "    IRPF = 15\n",
    "elif salario > 3751.05 and salario <= 4664.68:\n",
    "    IRPF = 22.5\n",
    "else:\n",
    "    IRPF = 27.5\n",
    "print(IRPF)\n",
    "print(INSS)\n",
    "salario = salario - (salario * IRPF / 100) - (salario * INSS / 100)\n",
    "print(salario)\n",
    "print(f'o valor de desconto do IRPF {valor1}, o valor do desconto do INSS {valor2} e o seu salario com o desconto é {salario}')"
   ]
  }
 ],
 "metadata": {
  "kernelspec": {
   "display_name": "Python 3",
   "language": "python",
   "name": "python3"
  },
  "language_info": {
   "codemirror_mode": {
    "name": "ipython",
    "version": 3
   },
   "file_extension": ".py",
   "mimetype": "text/x-python",
   "name": "python",
   "nbconvert_exporter": "python",
   "pygments_lexer": "ipython3",
   "version": "3.12.2"
  }
 },
 "nbformat": 4,
 "nbformat_minor": 2
}
