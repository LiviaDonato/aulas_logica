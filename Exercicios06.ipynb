{
 "cells": [
  {
   "cell_type": "markdown",
   "metadata": {},
   "source": [
    "1. Utilizando o comando for, exiba todos os números ímpares, de 1 a 40.\n"
   ]
  },
  {
   "cell_type": "code",
   "execution_count": 32,
   "metadata": {},
   "outputs": [
    {
     "name": "stdout",
     "output_type": "stream",
     "text": [
      "1\n",
      "3\n",
      "5\n",
      "7\n",
      "9\n",
      "11\n",
      "13\n",
      "15\n",
      "17\n",
      "19\n",
      "21\n",
      "23\n",
      "25\n",
      "27\n",
      "29\n",
      "31\n",
      "33\n",
      "35\n",
      "37\n",
      "39\n"
     ]
    }
   ],
   "source": [
    "for i in range(1, 40):\n",
    "    if i % 2 != 0:\n",
    "        print(i)"
   ]
  },
  {
   "cell_type": "code",
   "execution_count": 33,
   "metadata": {},
   "outputs": [
    {
     "name": "stdout",
     "output_type": "stream",
     "text": [
      "1\n",
      "3\n",
      "5\n",
      "7\n",
      "9\n",
      "11\n",
      "13\n",
      "15\n",
      "17\n",
      "19\n",
      "21\n",
      "23\n",
      "25\n",
      "27\n",
      "29\n",
      "31\n",
      "33\n",
      "35\n",
      "37\n",
      "39\n"
     ]
    }
   ],
   "source": [
    "for i in range(1, 40, 2):\n",
    "    print(i)"
   ]
  },
  {
   "cell_type": "markdown",
   "metadata": {},
   "source": [
    "2. Gere os 6 números do sorteio da mega-sena de forma aleatória."
   ]
  },
  {
   "cell_type": "code",
   "execution_count": 7,
   "metadata": {},
   "outputs": [
    {
     "name": "stdout",
     "output_type": "stream",
     "text": [
      "1º número: 44\n",
      "2º número: 59\n",
      "3º número: 8\n",
      "4º número: 60\n",
      "5º número: 44\n",
      "6º número: 17\n"
     ]
    }
   ],
   "source": [
    "import random\n",
    "for i in range(1, 7):\n",
    "    nr = random.randint(1, 60)\n",
    "    print(f'{i}º número: {nr}')"
   ]
  },
  {
   "cell_type": "markdown",
   "metadata": {},
   "source": [
    "3. Receba 5 números e verifique a soma e a quantidade de todos os pares e ímpares digitados"
   ]
  },
  {
   "cell_type": "code",
   "execution_count": 10,
   "metadata": {},
   "outputs": [
    {
     "name": "stdout",
     "output_type": "stream",
     "text": [
      "soma: 15\n",
      "números pares: 2\n",
      "números impares: 3\n"
     ]
    }
   ],
   "source": [
    "cp = 0\n",
    "ci = 0\n",
    "soma = 0\n",
    "for i in range(5):\n",
    "    valor = int(input('Digite um número'))\n",
    "    if (valor % 2) == 0:\n",
    "        cp += 1\n",
    "    else:\n",
    "        ci += 1\n",
    "    soma += valor\n",
    "print(f'soma: {soma}')\n",
    "print(f'números pares: {cp}')\n",
    "print(f'números impares: {ci}')"
   ]
  },
  {
   "cell_type": "markdown",
   "metadata": {},
   "source": [
    "4. Solicite os parâmetros de início, fim e passo para o laço de repetição usando a função range()\n",
    "e exiba o valor atual da variável de controle a cada iteração. range( x , y , z )"
   ]
  },
  {
   "cell_type": "code",
   "execution_count": 36,
   "metadata": {},
   "outputs": [
    {
     "name": "stdout",
     "output_type": "stream",
     "text": [
      "0\n",
      "1\n",
      "2\n",
      "3\n",
      "4\n",
      "5\n",
      "6\n",
      "7\n",
      "8\n",
      "9\n"
     ]
    }
   ],
   "source": [
    "x = int(input('Digite o valor inicial'))\n",
    "y = int(input('Digite o valor final'))\n",
    "z = int(input('Digite o passo'))\n",
    "for i in range(x, y, z):\n",
    "    print(i)"
   ]
  },
  {
   "cell_type": "markdown",
   "metadata": {},
   "source": [
    "5. Ler do teclado a idade e o sexo de 10 pessoas, calcule e imprima:\n",
    "• idade média das mulheres\n",
    "• idade média dos homens\n",
    "• idade média do grupo"
   ]
  },
  {
   "cell_type": "code",
   "execution_count": 25,
   "metadata": {},
   "outputs": [
    {
     "name": "stdout",
     "output_type": "stream",
     "text": [
      "Idade média das mulheres: 3.0\n",
      "Idade média dos homens: 0\n",
      "Idade média do grupo: 3.0\n"
     ]
    }
   ],
   "source": [
    "m_grupo = 0\n",
    "m_mulher = 0\n",
    "m_homem = 0\n",
    "c_grupo = 0\n",
    "c_mulher = 0\n",
    "c_homem = 0\n",
    "for i in range(5):\n",
    "    idade = int(input('Digite sua idade'))\n",
    "    sexo = input('Digite seu sexo [F/M]')\n",
    "    m_grupo += idade\n",
    "    c_grupo += 1\n",
    "    if sexo == 'F':\n",
    "        m_mulher += idade\n",
    "        c_mulher += 1\n",
    "    else:\n",
    "        m_homem += idade\n",
    "        c_homem += 1\n",
    "if c_mulher != 0:\n",
    "    m_mulher = m_mulher / c_mulher\n",
    "else:\n",
    "    m_homem = m_homem / c_homem\n",
    "m_grupo = m_grupo / c_grupo\n",
    "print(f'Idade média das mulheres: {m_mulher}')\n",
    "print(f'Idade média dos homens: {m_homem}')\n",
    "print(f'Idade média do grupo: {m_grupo}')"
   ]
  },
  {
   "cell_type": "code",
   "execution_count": 33,
   "metadata": {},
   "outputs": [
    {
     "name": "stdout",
     "output_type": "stream",
     "text": [
      "Idade média das mulheres: 3.6666666666666665\n",
      "Idade média dos homens: 6.0\n",
      "Idade média do grupo: 4.6\n"
     ]
    }
   ],
   "source": [
    "m_mulher = 0\n",
    "m_homem = 0\n",
    "c_mulher = 0\n",
    "c_homem = 0\n",
    "for i in range(5):\n",
    "    idade = int(input('Digite sua idade'))\n",
    "    sexo = input('Digite seu sexo [F/M]')\n",
    "    if sexo == 'F' or sexo == 'f':\n",
    "        m_mulher += idade\n",
    "        c_mulher += 1\n",
    "    else:\n",
    "        m_homem += idade\n",
    "        c_homem += 1\n",
    "print(f'Idade média das mulheres: {m_mulher / c_mulher}')\n",
    "print(f'Idade média dos homens: {m_homem / c_homem}')\n",
    "print(f'Idade média do grupo: {(m_mulher + m_homem) / (c_mulher + c_homem)}')"
   ]
  },
  {
   "cell_type": "markdown",
   "metadata": {},
   "source": [
    "6. Escreva um programa que mostre todos os números entre 5 e 100 que são divisíveis por 7. Os\n",
    "números obtidos devem ser impressos em sequência."
   ]
  },
  {
   "cell_type": "code",
   "execution_count": 14,
   "metadata": {},
   "outputs": [
    {
     "name": "stdout",
     "output_type": "stream",
     "text": [
      "7\n",
      "14\n",
      "21\n",
      "28\n",
      "35\n",
      "42\n",
      "49\n",
      "56\n",
      "63\n",
      "70\n",
      "77\n",
      "84\n",
      "91\n",
      "98\n"
     ]
    }
   ],
   "source": [
    "for i in range(5, 100):\n",
    "    if i % 7 == 0:\n",
    "        print(i)"
   ]
  },
  {
   "cell_type": "markdown",
   "metadata": {},
   "source": [
    "7. Escreva um programa em Python que receba uma string do usuário e mostre de trás para\n",
    "frente."
   ]
  },
  {
   "cell_type": "code",
   "execution_count": 21,
   "metadata": {},
   "outputs": [
    {
     "name": "stdout",
     "output_type": "stream",
     "text": [
      "trewq\n"
     ]
    }
   ],
   "source": [
    "string = input('Digite uma string')\n",
    "print(f'{string} ao contrario fica: {string[::-1]}')"
   ]
  },
  {
   "cell_type": "code",
   "execution_count": 40,
   "metadata": {},
   "outputs": [
    {
     "name": "stdout",
     "output_type": "stream",
     "text": [
      "vbhjvbfvgfjggg\n"
     ]
    }
   ],
   "source": [
    "palavra = input('Digite uma palavra:')\n",
    "nova_palavra = ''\n",
    "for letra in palavra:\n",
    "    nova_palavra = letra + nova_palavra # coloca a letra antes da palavra que ja estava na variavel por isos fica ao contrario\n",
    "print(nova_palavra) "
   ]
  },
  {
   "cell_type": "markdown",
   "metadata": {},
   "source": [
    "Objetivo:\n",
    "Este programa visa auxiliar o usuário no aprendizado da tabuada de um número específico, fornecendo\n",
    "feedback interativo e estatísticas de desempenho ao final.\n",
    "Funcionalidades:\n",
    "Solicita ao usuário o número que deseja treinar.\n",
    "Apresenta perguntas de multiplicação de 1 a 10 para o número escolhido.\n",
    "Valida cada resposta do usuário, fornecendo feedback em tempo real: \"CORRETO!\" para respostas corretas. \"QUE PENA, VOCÊ ERROU! O valor correto é X.\" para respostas incorretas, substituindo \"X\" pelo valor\n",
    "correto.\n",
    "Exibe estatísticas ao final da sessão: \"Total de acertos: Y\"\n",
    "\"Total de erros: Z\""
   ]
  },
  {
   "cell_type": "code",
   "execution_count": 26,
   "metadata": {},
   "outputs": [
    {
     "name": "stdout",
     "output_type": "stream",
     "text": [
      "1 x 5 = ?\n",
      "CORRETO!\n",
      "2 x 5 = ?\n",
      "QUE PENA, VOCÊ ERROU! o valor correto é 10\n",
      "3 x 5 = ?\n",
      "CORRETO!\n",
      "4 x 5 = ?\n",
      "QUE PENA, VOCÊ ERROU! o valor correto é 20\n",
      "5 x 5 = ?\n",
      "QUE PENA, VOCÊ ERROU! o valor correto é 25\n",
      "6 x 5 = ?\n",
      "QUE PENA, VOCÊ ERROU! o valor correto é 30\n",
      "7 x 5 = ?\n",
      "QUE PENA, VOCÊ ERROU! o valor correto é 35\n",
      "8 x 5 = ?\n",
      "QUE PENA, VOCÊ ERROU! o valor correto é 40\n",
      "9 x 5 = ?\n",
      "QUE PENA, VOCÊ ERROU! o valor correto é 45\n",
      "10 x 5 = ?\n",
      "QUE PENA, VOCÊ ERROU! o valor correto é 50\n",
      "Total de acertos: 2\n",
      "Total de erros: 8\n"
     ]
    }
   ],
   "source": [
    "numero = int(input('Digite o numero da tabuada'))\n",
    "resultado = 0\n",
    "resposta = 0\n",
    "ca = 0\n",
    "ce = 0\n",
    "for i in range(1, 11):\n",
    "    resultado = i * numero\n",
    "    print(f'{i} x {numero} = ?')\n",
    "    resposta = int(input('Digite sua resposta'))\n",
    "    if resposta == resultado:\n",
    "        print('CORRETO!')\n",
    "        ca += 1\n",
    "    else:\n",
    "        print(f'QUE PENA, VOCÊ ERROU! o valor correto é {resultado}')\n",
    "        ce += 1\n",
    "print(f'Total de acertos: {ca}')\n",
    "print(f'Total de erros: {ce}')"
   ]
  }
 ],
 "metadata": {
  "kernelspec": {
   "display_name": "Python 3",
   "language": "python",
   "name": "python3"
  },
  "language_info": {
   "codemirror_mode": {
    "name": "ipython",
    "version": 3
   },
   "file_extension": ".py",
   "mimetype": "text/x-python",
   "name": "python",
   "nbconvert_exporter": "python",
   "pygments_lexer": "ipython3",
   "version": "3.12.3"
  }
 },
 "nbformat": 4,
 "nbformat_minor": 2
}
