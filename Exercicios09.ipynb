{
 "cells": [
  {
   "cell_type": "markdown",
   "metadata": {},
   "source": [
    "1. Crie uma função sem parâmetros que exiba uma linha com 50 * , e uma mensagem de boas\n",
    "vindas, chame essa função por 4 vezes"
   ]
  },
  {
   "cell_type": "code",
   "execution_count": 1,
   "metadata": {},
   "outputs": [
    {
     "name": "stdout",
     "output_type": "stream",
     "text": [
      "**************************************************\n",
      "Seja bem vindo\n",
      "**************************************************\n",
      "Seja bem vindo\n",
      "**************************************************\n",
      "Seja bem vindo\n",
      "**************************************************\n",
      "Seja bem vindo\n"
     ]
    }
   ],
   "source": [
    "def Saudacao():\n",
    "    print('*' * 50)\n",
    "    print('Seja bem vindo')\n",
    "for i in range(4):\n",
    "    Saudacao()"
   ]
  },
  {
   "cell_type": "markdown",
   "metadata": {},
   "source": [
    "2. Crie uma função que contenha uma lista com as cores primárias e exiba cada cor em uma\n",
    "linha"
   ]
  },
  {
   "cell_type": "code",
   "execution_count": 26,
   "metadata": {},
   "outputs": [
    {
     "name": "stdout",
     "output_type": "stream",
     "text": [
      "Azul\n",
      "Vermelho\n",
      "Amarelo\n"
     ]
    }
   ],
   "source": [
    "def cores(cores):\n",
    "    for cor in listacores:\n",
    "        print(cor)\n",
    "listacores = ['Azul', 'Vermelho', 'Amarelo']\n",
    "cores(listacores)"
   ]
  },
  {
   "cell_type": "markdown",
   "metadata": {},
   "source": [
    "3. Crie uma função que recebe um número como parâmetro e exiba a tabuada até o 10, chame\n",
    "essa função por 3 vezes enviando parâmetros diferentes"
   ]
  },
  {
   "cell_type": "code",
   "execution_count": 14,
   "metadata": {},
   "outputs": [
    {
     "name": "stdout",
     "output_type": "stream",
     "text": [
      "1 x 0 = 0\n",
      "1 x 1 = 1\n",
      "1 x 2 = 2\n",
      "1 x 3 = 3\n",
      "1 x 4 = 4\n",
      "1 x 5 = 5\n",
      "1 x 6 = 6\n",
      "1 x 7 = 7\n",
      "1 x 8 = 8\n",
      "1 x 9 = 9\n",
      "1 x 10 = 10\n",
      "2 x 0 = 0\n",
      "2 x 1 = 2\n",
      "2 x 2 = 4\n",
      "2 x 3 = 6\n",
      "2 x 4 = 8\n",
      "2 x 5 = 10\n",
      "2 x 6 = 12\n",
      "2 x 7 = 14\n",
      "2 x 8 = 16\n",
      "2 x 9 = 18\n",
      "2 x 10 = 20\n",
      "3 x 0 = 0\n",
      "3 x 1 = 3\n",
      "3 x 2 = 6\n",
      "3 x 3 = 9\n",
      "3 x 4 = 12\n",
      "3 x 5 = 15\n",
      "3 x 6 = 18\n",
      "3 x 7 = 21\n",
      "3 x 8 = 24\n",
      "3 x 9 = 27\n",
      "3 x 10 = 30\n"
     ]
    }
   ],
   "source": [
    "def numero(nr):\n",
    "    for i in range(11):\n",
    "        print(f'{nr} x {i} = {nr*i}')\n",
    "for i in range(3):\n",
    "    nr = int(input('Digite um numero'))\n",
    "    numero(nr)"
   ]
  },
  {
   "cell_type": "markdown",
   "metadata": {},
   "source": [
    "4. Crie uma função que receba 2 números e o operador matemático para realizar a operação\n",
    "(Ex. envio os parâmetros 2 e 5 e *, fazer a multiplicação), tratar as operações + - * / **"
   ]
  },
  {
   "cell_type": "code",
   "execution_count": 44,
   "metadata": {},
   "outputs": [
    {
     "name": "stdout",
     "output_type": "stream",
     "text": [
      "5 * 5 = 25\n"
     ]
    }
   ],
   "source": [
    "def conta(n1, n2, op):\n",
    "    n1 = int(n1)\n",
    "    n2 = int(n2)\n",
    "    if op == '+':\n",
    "        return(n1 + n2)\n",
    "    elif op == '-':\n",
    "        return(n1 - n2)\n",
    "    elif op == '+':\n",
    "        return(n1 + n2)\n",
    "    elif op == '*':\n",
    "        return(n1 * n2)\n",
    "    elif op == '/':\n",
    "        return(n1 / n2)\n",
    "    elif op == '**':\n",
    "        return(n1 ** n2)\n",
    "    else:\n",
    "        return(\"Digite um operador valido\")\n",
    "n1 = int(input('Digite o primeiro número'))\n",
    "n2 = int(input('Digite o segundo número'))\n",
    "op = input('Digite o operador')\n",
    "print(f'{n1} {op} {n2} = {conta(n1, n2, op)}')"
   ]
  },
  {
   "cell_type": "markdown",
   "metadata": {},
   "source": [
    "5. Crie uma função que gere uma senha aleatória, deve receber como parâmetro a quantidade\n",
    "de caracteres que terá a senha, crie uma lista com todos os caracteres disponíveis para a\n",
    "senha e com o random sorteie a qual de dígitos terá a senha"
   ]
  },
  {
   "cell_type": "code",
   "execution_count": 49,
   "metadata": {},
   "outputs": [
    {
     "name": "stdout",
     "output_type": "stream",
     "text": [
      "Sua senha é g$OcPm\n"
     ]
    }
   ],
   "source": [
    "import random\n",
    "caracteres = '1234567890abcdefghijklmnopqrtuvwxyzçABCDEFGHIJKLMNOPQRSTUVWXYZÇ!@#$%&*/><(){[}]'\n",
    "def sorteio(nr):\n",
    "    senha = \"\"\n",
    "    for i in range(nr):\n",
    "        senha += random.choice(caracteres)\n",
    "    return(senha)\n",
    "nr = int(input())\n",
    "print(f'Sua senha é {sorteio(nr)}')"
   ]
  }
 ],
 "metadata": {
  "kernelspec": {
   "display_name": "Python 3",
   "language": "python",
   "name": "python3"
  },
  "language_info": {
   "codemirror_mode": {
    "name": "ipython",
    "version": 3
   },
   "file_extension": ".py",
   "mimetype": "text/x-python",
   "name": "python",
   "nbconvert_exporter": "python",
   "pygments_lexer": "ipython3",
   "version": "3.12.3"
  }
 },
 "nbformat": 4,
 "nbformat_minor": 2
}
