{
 "cells": [
  {
   "cell_type": "markdown",
   "metadata": {},
   "source": [
    "1. Utilizando o comando while, exiba todos os números pares, de 1 a 20."
   ]
  },
  {
   "cell_type": "code",
   "execution_count": 3,
   "metadata": {},
   "outputs": [
    {
     "name": "stdout",
     "output_type": "stream",
     "text": [
      "0\n",
      "2\n",
      "4\n",
      "6\n",
      "8\n",
      "10\n",
      "12\n",
      "14\n",
      "16\n",
      "18\n",
      "20\n"
     ]
    }
   ],
   "source": [
    "numero = 0\n",
    "while numero <= 20:\n",
    "    if (numero % 2) == 0:\n",
    "        print(numero)\n",
    "    numero += 1"
   ]
  },
  {
   "cell_type": "markdown",
   "metadata": {},
   "source": [
    "2. Gere os 6 números do sorteio da mega-sena de forma aleatória."
   ]
  },
  {
   "cell_type": "code",
   "execution_count": 5,
   "metadata": {},
   "outputs": [
    {
     "name": "stdout",
     "output_type": "stream",
     "text": [
      "11 15 7 17 15 9\n"
     ]
    }
   ],
   "source": [
    "import random\n",
    "while\n",
    "nr = random.randint(1, 60)\n",
    "\n",
    "print(nr)"
   ]
  },
  {
   "cell_type": "markdown",
   "metadata": {},
   "source": [
    "3. Receba alguns número e verifique a soma e a quantidade de todos os pares e ímpares\n",
    "digitados, digite 0 para não receber mais"
   ]
  },
  {
   "cell_type": "code",
   "execution_count": 7,
   "metadata": {},
   "outputs": [
    {
     "name": "stdout",
     "output_type": "stream",
     "text": [
      "15\n",
      "2\n",
      "3\n"
     ]
    }
   ],
   "source": [
    "numero = False\n",
    "cp = 0\n",
    "ci = 0\n",
    "soma = 0\n",
    "while numero == False:\n",
    "    valor = int(input('Digite um número'))\n",
    "    if valor == 0:\n",
    "        numero = True\n",
    "    elif (valor % 2) == 0:\n",
    "        cp += 1\n",
    "    else:\n",
    "        ci += 1\n",
    "    soma += valor\n",
    "print(soma)\n",
    "print(cp)\n",
    "print(ci)"
   ]
  },
  {
   "cell_type": "markdown",
   "metadata": {},
   "source": [
    "4. Faça um programa em Python que leia 5 valores inteiros e:\n",
    "• Encontre e mostre o maior valor\n",
    "• Encontre e mostre o menor valor\n",
    "• Calcule e mostre a média dos números lidos"
   ]
  },
  {
   "cell_type": "code",
   "execution_count": 12,
   "metadata": {},
   "outputs": [
    {
     "name": "stdout",
     "output_type": "stream",
     "text": [
      "23\n",
      "54\n",
      "87\n",
      "12\n",
      "90\n",
      "90\n",
      "12\n"
     ]
    }
   ],
   "source": [
    "numero = 0\n",
    "maior = 0\n",
    "menor = 0\n",
    "for i in range(0, 5):\n",
    "    numero = int(input('Digite um número'))\n",
    "    if numero > maior:\n",
    "        maior = numero\n",
    "    if i == 0:\n",
    "        menor = numero\n",
    "    elif numero < menor:\n",
    "        menor = numero\n",
    "    print(numero)\n",
    "print(maior)\n",
    "print(menor)"
   ]
  }
 ],
 "metadata": {
  "kernelspec": {
   "display_name": "Python 3",
   "language": "python",
   "name": "python3"
  },
  "language_info": {
   "codemirror_mode": {
    "name": "ipython",
    "version": 3
   },
   "file_extension": ".py",
   "mimetype": "text/x-python",
   "name": "python",
   "nbconvert_exporter": "python",
   "pygments_lexer": "ipython3",
   "version": "3.12.2"
  }
 },
 "nbformat": 4,
 "nbformat_minor": 2
}
