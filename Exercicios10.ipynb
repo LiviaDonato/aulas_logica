{
 "cells": [
  {
   "cell_type": "markdown",
   "metadata": {},
   "source": [
    "1. Escreva uma função que utilize uma variável global para contar o número de vezes que foi\n",
    "chamada. A função deve retornar o número atual de chamadas."
   ]
  },
  {
   "cell_type": "code",
   "execution_count": 2,
   "metadata": {},
   "outputs": [
    {
     "name": "stdout",
     "output_type": "stream",
     "text": [
      "A função foi chamada 1 vezes\n",
      "A função foi chamada 2 vezes\n",
      "A função foi chamada 3 vezes\n"
     ]
    }
   ],
   "source": [
    "c_funcao = 0\n",
    "def funcao():\n",
    "    global c_funcao\n",
    "    c_funcao += 1\n",
    "    print(f'A função foi chamada {c_funcao} vezes')\n",
    "for i in range(3):\n",
    "    funcao()"
   ]
  },
  {
   "cell_type": "markdown",
   "metadata": {},
   "source": [
    "2. Crie um algoritmo que receba em variável global o valor atual do dólar e do euro, crie uma\n",
    "função que receba o valor a ser convertido e imprima a conversão em dólar e em euro"
   ]
  },
  {
   "cell_type": "code",
   "execution_count": 4,
   "metadata": {},
   "outputs": [
    {
     "name": "stdout",
     "output_type": "stream",
     "text": [
      "50.00 reais = 9.75 dolares = 9.16 euros\n"
     ]
    }
   ],
   "source": [
    "dolar = 5.13\n",
    "euro = 5.46\n",
    "def conversao(real):\n",
    "    print(f'{real:.2f} reais = {(real/dolar):.2f} dolares = {(real/euro):.2f} euros')\n",
    "real = float(input('Digite o valor em reais'))\n",
    "conversao(real)"
   ]
  },
  {
   "cell_type": "markdown",
   "metadata": {},
   "source": [
    "3. Escreva uma função que recebe um nome e o adicione a uma lista de nomes global. Em\n",
    "seguida, escreva outra função que remova um elemento dessa lista global recebendo o nome."
   ]
  },
  {
   "cell_type": "code",
   "execution_count": 35,
   "metadata": {},
   "outputs": [
    {
     "name": "stdout",
     "output_type": "stream",
     "text": [
      "Você adicionou livia a lista: ['livia']\n",
      "Você tirou livia da lista: []\n"
     ]
    }
   ],
   "source": [
    "lista_n = []\n",
    "def adi_n(nome1):\n",
    "    lista_n.append(nome1)\n",
    "def sub_n(nome2):\n",
    "    lista_n.remove(nome2)\n",
    "nome1 = input('Digite um nome')\n",
    "adi_n(nome1)\n",
    "print(f'Você adicionou {nome1} a lista: {lista_n}')\n",
    "nome2 = input('Digite um nome')\n",
    "sub_n(nome2)\n",
    "print(f'Você tirou {nome2} da lista: {lista_n}')"
   ]
  },
  {
   "cell_type": "markdown",
   "metadata": {},
   "source": [
    "4. Crie um caixa eletrônico: Crie uma variável global para armazenar o saldo, crie função para\n",
    "depositar e sacar, recebendo o valor como parâmetro, crie outra função para consultar o\n",
    "saldo. Crie um menu interativo com while para navegar entre as funções:\n",
    "[1] Depositar [4] Parar programa\n",
    "[2] Sacar\n",
    "[3] Consultar saldo"
   ]
  },
  {
   "cell_type": "code",
   "execution_count": 8,
   "metadata": {},
   "outputs": [
    {
     "name": "stdout",
     "output_type": "stream",
     "text": [
      "MENU:\n",
      "[1] Depositar\n",
      "[2] Sacar\n",
      "[3] Consultar saldo\n",
      "[4] Parar programa\n",
      "Saldo atual: -32221.0\n"
     ]
    }
   ],
   "source": [
    "nr = 0\n",
    "saldo = 0\n",
    "def depositar(d):\n",
    "    global saldo\n",
    "    saldo += d\n",
    "def sacar(s):\n",
    "    global saldo\n",
    "    saldo -= s\n",
    "def consultar():\n",
    "    global saldo\n",
    "    print(f'Saldo atual: {saldo}')\n",
    "print('MENU:')\n",
    "print('[1] Depositar')\n",
    "print('[2] Sacar')\n",
    "print('[3] Consultar saldo')\n",
    "print('[4] Parar programa')\n",
    "while True:\n",
    "    nr = float(input())\n",
    "    if nr == 1:\n",
    "        d = float(input())\n",
    "        depositar(d)\n",
    "    elif nr == 2:\n",
    "        s = float(input())\n",
    "        sacar(s)\n",
    "    elif nr == 3:\n",
    "        consultar()\n",
    "    elif nr == 4:\n",
    "        break\n",
    "    else:\n",
    "        print('Não esta no menu')"
   ]
  },
  {
   "cell_type": "markdown",
   "metadata": {},
   "source": [
    "5. Desenhando um retângulo. Crie um algoritmo que receba em variável global um caractere\n",
    "especial. Em uma função receba 2 parâmetros altura e largura e desenhe de acordo com a\n",
    "largura, a quantidade de vezes que irá repetir o caractere, e de acordo com a altura, o número\n",
    "de linhas que será desenhado. Ex: Caractere +, largura 20 altura 5:\n",
    "\n",
    "++++++++++++++++++++\n",
    "++++++++++++++++++++\n",
    "++++++++++++++++++++\n",
    "++++++++++++++++++++\n",
    "++++++++++++++++++++"
   ]
  },
  {
   "cell_type": "code",
   "execution_count": 27,
   "metadata": {},
   "outputs": [
    {
     "name": "stdout",
     "output_type": "stream",
     "text": [
      "++++++++++++++++++++\n",
      "++++++++++++++++++++\n",
      "++++++++++++++++++++\n",
      "++++++++++++++++++++\n",
      "++++++++++++++++++++\n"
     ]
    }
   ],
   "source": [
    "caractere = input('Digite um caractere')\n",
    "def retangulo(a, l):\n",
    "    for i in range(a):\n",
    "        print(l*caractere)\n",
    "a = int(input('Digite a altura'))\n",
    "l = int(input('Digite a largura'))\n",
    "retangulo(a, l)"
   ]
  },
  {
   "cell_type": "markdown",
   "metadata": {},
   "source": [
    "6. No exercício anterior, inclua uma docstring e os annotations na função para explicar para o\n",
    "usuário, como utiliza-la"
   ]
  },
  {
   "cell_type": "code",
   "execution_count": 37,
   "metadata": {},
   "outputs": [
    {
     "name": "stdout",
     "output_type": "stream",
     "text": [
      "##########\n",
      "##########\n",
      "##########\n",
      "##########\n",
      "##########\n"
     ]
    }
   ],
   "source": [
    "caractere = input('Digite um caractere')\n",
    "def retangulo(a : int, l : int):\n",
    "    '''\n",
    "        Faz um quadrado com o caractere digitado e com as dimensões dos parâmetros, o primeiro é a altura e o segundo a largura\n",
    "    '''\n",
    "    for i in range(a):\n",
    "        print(l*caractere)\n",
    "a = int(input('Digite a altura'))\n",
    "l = int(input('Digite a largura'))\n",
    "retangulo(a, l)"
   ]
  }
 ],
 "metadata": {
  "kernelspec": {
   "display_name": "Python 3",
   "language": "python",
   "name": "python3"
  },
  "language_info": {
   "codemirror_mode": {
    "name": "ipython",
    "version": 3
   },
   "file_extension": ".py",
   "mimetype": "text/x-python",
   "name": "python",
   "nbconvert_exporter": "python",
   "pygments_lexer": "ipython3",
   "version": "3.12.3"
  }
 },
 "nbformat": 4,
 "nbformat_minor": 2
}
