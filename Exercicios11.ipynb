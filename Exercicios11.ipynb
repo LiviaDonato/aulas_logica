{
 "cells": [
  {
   "cell_type": "markdown",
   "metadata": {},
   "source": [
    "1. Faça um Programa que mostre a mensagem \"Seja Bem-Vindo ao SESI 😎\" na tela."
   ]
  },
  {
   "cell_type": "code",
   "execution_count": null,
   "metadata": {},
   "outputs": [],
   "source": [
    "print(\"Seja Bem-Vindo ao SESI 😎\")"
   ]
  },
  {
   "cell_type": "markdown",
   "metadata": {},
   "source": [
    "2. Faça um Programa que peça um número e então mostre a mensagem “O número\n",
    "informado foi [número]”."
   ]
  },
  {
   "cell_type": "code",
   "execution_count": 3,
   "metadata": {},
   "outputs": [
    {
     "name": "stdout",
     "output_type": "stream",
     "text": [
      "O número informado foi 45778\n"
     ]
    }
   ],
   "source": [
    "nr = int(input('Digite um número'))\n",
    "print(f'O número informado foi {nr}')"
   ]
  },
  {
   "cell_type": "markdown",
   "metadata": {},
   "source": [
    "3. Faça um programa que receba 2 números inteiros e exiba a divisão entre eles"
   ]
  },
  {
   "cell_type": "code",
   "execution_count": 6,
   "metadata": {},
   "outputs": [
    {
     "name": "stdout",
     "output_type": "stream",
     "text": [
      "100 / 2 = 50.0\n"
     ]
    }
   ],
   "source": [
    "nr1 = int(input('Digite um número inteiro'))\n",
    "nr2 = int(input('Digite um número inteiro'))\n",
    "print(f\"{nr1} / {nr2} = {nr1/nr2}\")"
   ]
  },
  {
   "cell_type": "markdown",
   "metadata": {},
   "source": [
    "4. Faça um Programa que pergunte quanto você ganha por hora e o número de horas\n",
    "trabalhadas no mês. Calcule e mostre o total do seu salário no referido mês."
   ]
  },
  {
   "cell_type": "code",
   "execution_count": 9,
   "metadata": {},
   "outputs": [
    {
     "name": "stdout",
     "output_type": "stream",
     "text": [
      "Trabalhando 100 horas e ganhando 3 reais por hora, você recebe 300\n"
     ]
    }
   ],
   "source": [
    "dinheiro = int(input('Digite quanto você ganha por hora'))\n",
    "horas = int(input('Digite quantas horas você trabalhou no mês'))\n",
    "print(f'Trabalhando {horas} horas e ganhando {dinheiro} reais por hora, você recebe {horas*dinheiro}')"
   ]
  },
  {
   "cell_type": "markdown",
   "metadata": {},
   "source": [
    "5. Faça um Programa que verifique se uma letra digitada é \"F\" ou \"M\". Conforme a letra\n",
    "escrever: F - Feminino, M - Masculino, Sexo Inválido."
   ]
  },
  {
   "cell_type": "code",
   "execution_count": 12,
   "metadata": {},
   "outputs": [
    {
     "name": "stdout",
     "output_type": "stream",
     "text": [
      "Sexo Inválido\n"
     ]
    }
   ],
   "source": [
    "letra = input('Digite seu sexo [F/M]')\n",
    "if letra in 'Ff':\n",
    "    print('Feminino')\n",
    "elif letra in 'Mm':\n",
    "    print('Masculino')\n",
    "else:\n",
    "    print('Sexo Inválido')"
   ]
  },
  {
   "cell_type": "markdown",
   "metadata": {},
   "source": [
    "6. Tendo como dado de entrada a altura (h) de uma pessoa e o sexo, construa um algoritmo\n",
    "que calcule seu peso ideal, utilizando as seguintes fórmulas:\n",
    "Para homens: (72.7 * altura) – 58 Para mulheres: (62.1 * altura) - 44.7"
   ]
  },
  {
   "cell_type": "code",
   "execution_count": 14,
   "metadata": {},
   "outputs": [
    {
     "name": "stdout",
     "output_type": "stream",
     "text": [
      "Seu peso ideal é 51.05000000000001\n"
     ]
    }
   ],
   "source": [
    "altura = float(input('Digite sua altura'))\n",
    "sexo = input('Digite seu sexo [F/M]')\n",
    "sexo = sexo.lower()\n",
    "if sexo == 'homem':\n",
    "    print(f'Seu peso ideal é {(72.7 * altura) - 58}')\n",
    "elif sexo == 'mulher':\n",
    "    print(f'Seu peso ideal é {(62.1 * altura) - 44.7}')"
   ]
  },
  {
   "cell_type": "markdown",
   "metadata": {},
   "source": [
    "7. Faça um Programa que pergunte quanto você ganha por hora e o número de horas\n",
    "trabalhadas no mês.\n",
    "Calcule e mostre o total do seu salário no referido mês, sabendo-se que são descontados\n",
    "11% para o Imposto de Renda, 8% para o INSS e 5% para o sindicato, faça um programa\n",
    "que nos dê: salário bruto. quanto pagou ao INSS. quanto pagou ao sindicato. o salário\n",
    "líquido. calcule os descontos e o salário líquido, conforme a tabela abaixo:\n",
    "+ Salário Bruto : R$\n",
    "- IR (11%) : R$\n",
    "- INSS (8%) : R$\n",
    "- Sindicato ( 5%) : R$\n",
    "= Salário Liquido : R$\n",
    "Obs.: Salário Bruto - Descontos = Salário Líquido."
   ]
  },
  {
   "cell_type": "code",
   "execution_count": 16,
   "metadata": {},
   "outputs": [
    {
     "name": "stdout",
     "output_type": "stream",
     "text": [
      "+ Salário Bruto : R$100.0\n",
      "- IR (11%) : R$11.0\n",
      "- INSS (8%) : R$8.0\n",
      "- Sindicato ( 5%) : R$5.0\n",
      "= Salário Liquido : R$76.0\n"
     ]
    }
   ],
   "source": [
    "dinheiro = float(input('Digite quanto você ganha por hora'))\n",
    "horas = int(input('Digite quantas horas você trabalhou no mês'))\n",
    "salario = dinheiro*horas\n",
    "IR = salario/100*11\n",
    "INSS = salario/100*8\n",
    "Sindicato = salario/100*5\n",
    "print(f'+ Salário Bruto : R${salario}')\n",
    "print(f'- IR (11%) : R${IR}')\n",
    "print(f'- INSS (8%) : R${INSS}')\n",
    "print(f'- Sindicato ( 5%) : R${Sindicato}')\n",
    "print(f'= Salário Liquido : R${salario-IR-INSS-Sindicato}')"
   ]
  },
  {
   "cell_type": "markdown",
   "metadata": {},
   "source": [
    "8. Faça uma função que peça um valor e mostre na tela se o valor é positivo ou negativo."
   ]
  },
  {
   "cell_type": "code",
   "execution_count": 19,
   "metadata": {},
   "outputs": [
    {
     "name": "stdout",
     "output_type": "stream",
     "text": [
      "negativo\n"
     ]
    }
   ],
   "source": [
    "def nr(valor):\n",
    "    if valor > 0:\n",
    "        print('positivo')\n",
    "    elif valor < 0:\n",
    "        print('negativo')\n",
    "    else:\n",
    "        print('neutro')\n",
    "valor = int(input('Digite um número'))\n",
    "nr(valor)"
   ]
  },
  {
   "cell_type": "markdown",
   "metadata": {},
   "source": [
    "9. Faça uma função que imprima na tela apenas os números ímpares entre 1 e 50."
   ]
  },
  {
   "cell_type": "code",
   "execution_count": 21,
   "metadata": {},
   "outputs": [
    {
     "name": "stdout",
     "output_type": "stream",
     "text": [
      "1\n",
      "3\n",
      "5\n",
      "7\n",
      "9\n",
      "11\n",
      "13\n",
      "15\n",
      "17\n",
      "19\n",
      "21\n",
      "23\n",
      "25\n",
      "27\n",
      "29\n",
      "31\n",
      "33\n",
      "35\n",
      "37\n",
      "39\n",
      "41\n",
      "43\n",
      "45\n",
      "47\n",
      "49\n"
     ]
    }
   ],
   "source": [
    "for i in range(1,50,2):\n",
    "    print(i)"
   ]
  },
  {
   "cell_type": "markdown",
   "metadata": {},
   "source": [
    "10. Faça uma função que receba dois números inteiros e gere os números inteiros que estão\n",
    "no intervalo compreendido por eles."
   ]
  },
  {
   "cell_type": "code",
   "execution_count": 23,
   "metadata": {},
   "outputs": [
    {
     "name": "stdout",
     "output_type": "stream",
     "text": [
      "5\n",
      "6\n",
      "7\n"
     ]
    }
   ],
   "source": [
    "nr1 = int(input('Digite um número'))\n",
    "nr2 = int(input('Digite outro número'))\n",
    "for i in range(nr1+1,nr2):\n",
    "    print(i)"
   ]
  },
  {
   "cell_type": "markdown",
   "metadata": {},
   "source": [
    "11. Faça uma função que peça um número positivo e em seguida mostre este número invertido.\n",
    "Exemplo: 12376489 => 98467321"
   ]
  },
  {
   "cell_type": "code",
   "execution_count": 27,
   "metadata": {},
   "outputs": [
    {
     "name": "stdout",
     "output_type": "stream",
     "text": [
      "54321\n"
     ]
    }
   ],
   "source": [
    "nr = input('Digite um número positivo')\n",
    "print(nr[::-1])"
   ]
  },
  {
   "cell_type": "markdown",
   "metadata": {},
   "source": [
    "12. Faça um Programa que leia um vetor A com 5 números inteiros, calcule e mostre a soma\n",
    "dos quadrados dos elementos do vetor."
   ]
  },
  {
   "cell_type": "code",
   "execution_count": 36,
   "metadata": {},
   "outputs": [
    {
     "name": "stdout",
     "output_type": "stream",
     "text": [
      "8327\n"
     ]
    }
   ],
   "source": [
    "lista1 = [5, 7, 12, 78, 45]\n",
    "lista2 = []\n",
    "for i in lista1:\n",
    "    i = i**2\n",
    "    lista2.append(i)\n",
    "print(sum(lista2))"
   ]
  },
  {
   "cell_type": "markdown",
   "metadata": {},
   "source": [
    "13. Faça um Programa que leia 8 números inteiros e armazene-os num vetor. Armazene os\n",
    "números pares no vetor PAR e os números IMPARES no vetor impar. Imprima os três\n",
    "vetores."
   ]
  },
  {
   "cell_type": "code",
   "execution_count": 42,
   "metadata": {},
   "outputs": [
    {
     "name": "stdout",
     "output_type": "stream",
     "text": [
      "[1, 2, 3, 4, 5, 6, 7, 8]\n",
      "pares: [2, 4, 6, 8]\n",
      "impares: [1, 3, 5, 7]\n"
     ]
    }
   ],
   "source": [
    "lista = []\n",
    "par = []\n",
    "impar = []\n",
    "for i in range(8):\n",
    "    nr = int(input('Digite um número'))\n",
    "    lista.append(nr)\n",
    "for i in lista:\n",
    "    if i % 2 == 0:\n",
    "        par.append(i)\n",
    "    else:\n",
    "        impar.append(i)\n",
    "print(lista)\n",
    "print(f'pares: {par}')\n",
    "print(f'impares: {impar}')"
   ]
  },
  {
   "cell_type": "markdown",
   "metadata": {},
   "source": [
    "14. Numa eleição existem três candidatos. Faça um programa que peça o número total de\n",
    "eleitores. Peça para cada eleitor votar e ao final mostrar o número de votos de cada\n",
    "candidato."
   ]
  },
  {
   "cell_type": "code",
   "execution_count": 50,
   "metadata": {},
   "outputs": [
    {
     "name": "stdout",
     "output_type": "stream",
     "text": [
      "Votos no candidato 1: 1\n",
      "Votos no candidato 2: 1\n",
      "Votos no candidato 3: 1\n"
     ]
    }
   ],
   "source": [
    "candidato1 = 0\n",
    "candidato2 = 0\n",
    "candidato3 = 0\n",
    "eleitores = int(input('Digite a quantidade de eleitores'))\n",
    "for i in range(eleitores):\n",
    "    voto = input('Vota em qual candidato')\n",
    "    if voto == 'candidato1':\n",
    "        candidato1 += 1\n",
    "    elif voto == 'candidato2':\n",
    "        candidato2 += 1\n",
    "    else:\n",
    "        candidato3 += 1\n",
    "print(f'Votos no candidato 1: {candidato1}')\n",
    "print(f'Votos no candidato 2: {candidato2}')\n",
    "print(f'Votos no candidato 3: {candidato3}')"
   ]
  },
  {
   "cell_type": "markdown",
   "metadata": {},
   "source": [
    "15. Faça um Programa que em uma função receba 4 notas bimestrais e mostre a média."
   ]
  },
  {
   "cell_type": "code",
   "execution_count": 52,
   "metadata": {},
   "outputs": [
    {
     "name": "stdout",
     "output_type": "stream",
     "text": [
      "10.0\n"
     ]
    }
   ],
   "source": [
    "lista = []\n",
    "for i in range(4):\n",
    "    nota = int(input('Digite uma nota'))\n",
    "    lista.append(nota)\n",
    "print(sum(lista)/4)"
   ]
  },
  {
   "cell_type": "markdown",
   "metadata": {},
   "source": [
    "16. Faça um Programa que em uma função receba uma medida em metros e converta retorne\n",
    "o valor convertido para centímetros."
   ]
  },
  {
   "cell_type": "code",
   "execution_count": 53,
   "metadata": {},
   "outputs": [
    {
     "name": "stdout",
     "output_type": "stream",
     "text": [
      "1.0 metros = 100.0 centimetros\n"
     ]
    }
   ],
   "source": [
    "metros = float(input('Digite a quantidade de metros'))\n",
    "print(f'{metros} metros = {metros*100} centimetros')"
   ]
  },
  {
   "cell_type": "markdown",
   "metadata": {},
   "source": [
    "17. Faça um programa que receba a temperatura média de cada mês do ano e armazene-as\n",
    "em uma lista. Após isto, calcule a média anual das temperaturas e mostre todas as\n",
    "temperaturas acima da média anual, e em que mês elas ocorreram (mostrar o mês por\n",
    "extenso: 1 – Janeiro, 2 – Fevereiro, . . . )."
   ]
  },
  {
   "cell_type": "code",
   "execution_count": 57,
   "metadata": {},
   "outputs": [
    {
     "name": "stdout",
     "output_type": "stream",
     "text": [
      "28.666666666666668\n",
      "janeiro - 30\n",
      "abril - 38\n",
      "maio - 30\n",
      "junho - 30\n",
      "julho - 29\n",
      "setembro - 34\n",
      "outubro - 35\n"
     ]
    }
   ],
   "source": [
    "temperatura = [30, 28, 25, 38, 30, 30, 29, 26, 34, 35, 20, 19]\n",
    "meses = ['janeiro', 'fevereiro', 'março', 'abril', 'maio', 'junho', 'julho', 'agosto', 'setembro', 'outubro', 'novembro', 'dezembro']\n",
    "media = sum(temperatura)/12\n",
    "print(media)\n",
    "for i in range(12):\n",
    "        if temperatura[i] > media:\n",
    "            print(f'{meses[i]} - {temperatura[i]}')"
   ]
  },
  {
   "cell_type": "markdown",
   "metadata": {},
   "source": [
    "18. Faça um programa que receba o valor de uma dívida e mostre uma tabela com os seguintes\n",
    "dados: valor da dívida, valor dos juros, quantidade de parcelas e valor da parcela. Os juros\n",
    "e a quantidade de parcelas seguem a tabela abaixo:"
   ]
  },
  {
   "cell_type": "code",
   "execution_count": 69,
   "metadata": {},
   "outputs": [
    {
     "name": "stdout",
     "output_type": "stream",
     "text": [
      "Parcelas | Juros | Valor Parc.\n",
      "---------|-------|------------\n",
      "    1    | 1000  |   1000\n",
      "    3    | 100.0 |   366.67\n",
      "    6    | 150.0 |   191.67\n",
      "    9    | 200.0 |   133.33\n",
      "   12    | 250.0 |   104.17\n"
     ]
    }
   ],
   "source": [
    "divida = int(input('Digite o valor da divida'))\n",
    "print(f'Parcelas | Juros | Valor Parc.')\n",
    "print('---------|-------|------------')\n",
    "print(f'    1    | {divida}  |   {divida}')\n",
    "print(f'    3    | {divida*0.1} |   {((divida+(divida*0.1))/3):.2f}')\n",
    "print(f'    6    | {divida*0.15} |   {((divida+(divida*0.15))/6):.2f}')\n",
    "print(f'    9    | {divida*0.20} |   {((divida+(divida*0.20))/9):.2f}')\n",
    "print(f'   12    | {divida*0.25} |   {((divida+(divida*0.25))/12):.2f}')"
   ]
  }
 ],
 "metadata": {
  "kernelspec": {
   "display_name": "Python 3",
   "language": "python",
   "name": "python3"
  },
  "language_info": {
   "codemirror_mode": {
    "name": "ipython",
    "version": 3
   },
   "file_extension": ".py",
   "mimetype": "text/x-python",
   "name": "python",
   "nbconvert_exporter": "python",
   "pygments_lexer": "ipython3",
   "version": "3.12.3"
  }
 },
 "nbformat": 4,
 "nbformat_minor": 2
}
