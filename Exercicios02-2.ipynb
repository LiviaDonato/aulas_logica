{
 "cells": [
  {
   "cell_type": "markdown",
   "metadata": {},
   "source": [
    "1. Leia 2 notas de um aluno, calcule a média e imprima aprovado ou reprovado (para ser\n",
    "aprovado a média deve ser no mínimo 7)"
   ]
  },
  {
   "cell_type": "code",
   "execution_count": 3,
   "metadata": {},
   "outputs": [
    {
     "name": "stdout",
     "output_type": "stream",
     "text": [
      "Aprovado\n"
     ]
    }
   ],
   "source": [
    "nota1 = float(input('Digite a primeira nota:'))\n",
    "nota2 = float(input('Digite a segunda nota:'))\n",
    "media = (nota1 + nota2) / 2\n",
    "if media >= 7:\n",
    "    print('Aprovado')\n",
    "else:\n",
    "    print('Reprovado')"
   ]
  },
  {
   "cell_type": "markdown",
   "metadata": {},
   "source": [
    "2. Peça dois números ao usuário e mostre qual o maior e qual o menor"
   ]
  },
  {
   "cell_type": "code",
   "execution_count": 1,
   "metadata": {},
   "outputs": [
    {
     "name": "stdout",
     "output_type": "stream",
     "text": [
      "o maior número é o 87.0 e o menor é o 33.0\n"
     ]
    }
   ],
   "source": [
    "numero1 = float(input('Digite o primeiro número:'))\n",
    "numero2 = float(input('Digite o segundo número:'))\n",
    "if numero1 > numero2:\n",
    "    print(f'o maior número é o {numero1} e o menor é o {numero2}')\n",
    "elif numero1 == numero2:\n",
    "    print('os dois são iguais')\n",
    "else:\n",
    "    print(f'o maior número é o {numero2} e o menor é o {numero1}')"
   ]
  },
  {
   "cell_type": "markdown",
   "metadata": {},
   "source": [
    "3. Receba um inteiro e diga se é par ou ímpar."
   ]
  },
  {
   "cell_type": "code",
   "execution_count": 9,
   "metadata": {},
   "outputs": [
    {
     "name": "stdout",
     "output_type": "stream",
     "text": [
      "é um número ímpar\n"
     ]
    }
   ],
   "source": [
    "valor = int(input('Digite o primeiro número:'))\n",
    "numero = valor % 2\n",
    "if numero == 0:\n",
    "    print('é um número par')\n",
    "else:\n",
    "    print('é um número ímpar')"
   ]
  },
  {
   "cell_type": "markdown",
   "metadata": {},
   "source": [
    "4. Receba um número inteiro e diga se é positivo ou negativo"
   ]
  },
  {
   "cell_type": "code",
   "execution_count": 11,
   "metadata": {},
   "outputs": [
    {
     "name": "stdout",
     "output_type": "stream",
     "text": [
      "é um número negativo\n"
     ]
    }
   ],
   "source": [
    "valor = int(input('Digite o primeiro número:'))\n",
    "if valor > 0:\n",
    "    print('é um número positivo')\n",
    "else:\n",
    "    print('é um número negativo')"
   ]
  },
  {
   "cell_type": "markdown",
   "metadata": {},
   "source": [
    "5. Pergunte o ano de nascimento de uma pessoa e diga se ele é maior de idade"
   ]
  },
  {
   "cell_type": "code",
   "execution_count": 15,
   "metadata": {},
   "outputs": [
    {
     "name": "stdout",
     "output_type": "stream",
     "text": [
      "ele não é maior de idade\n"
     ]
    }
   ],
   "source": [
    "ano = int(input('Qual seu ano de nascimento:'))\n",
    "idade = 2024 - ano\n",
    "if idade >= 18:\n",
    "    print('é maior de idade')\n",
    "else:\n",
    "    print('não é maior de idade')"
   ]
  },
  {
   "cell_type": "markdown",
   "metadata": {},
   "source": [
    "6. Ler dois números inteiros e informar se estes são iguais ou diferentes."
   ]
  },
  {
   "cell_type": "code",
   "execution_count": 17,
   "metadata": {},
   "outputs": [
    {
     "name": "stdout",
     "output_type": "stream",
     "text": [
      "eles não são iguais\n"
     ]
    }
   ],
   "source": [
    "numero1 = int(input('Digite o primeiro número:'))\n",
    "numero2 = int(input('Digite o segundo número:'))\n",
    "if numero1 == numero2:\n",
    "    print('eles são iguais')\n",
    "else:\n",
    "    print('eles não diferentes')"
   ]
  },
  {
   "cell_type": "markdown",
   "metadata": {},
   "source": [
    "7. Receba a velocidade do carro e exiba que foi multado se for maior que 80km/h, o valor da\n",
    "multa será R$ 7,00 por cada km excedido, exibir o valor da multa"
   ]
  },
  {
   "cell_type": "code",
   "execution_count": 19,
   "metadata": {},
   "outputs": [
    {
     "name": "stdout",
     "output_type": "stream",
     "text": [
      "não foi multado\n"
     ]
    }
   ],
   "source": [
    "velocidade = float(input('Digite a velocidade do carro:'))\n",
    "sobra = velocidade - 80\n",
    "multa = sobra * 7\n",
    "if velocidade > 80:\n",
    "    print(f'multa de: {multa:.2f}')\n",
    "else:\n",
    "    print('não foi multado')"
   ]
  },
  {
   "cell_type": "markdown",
   "metadata": {},
   "source": [
    "Crie um programa que receba três números e os imprima em ordem crescente."
   ]
  },
  {
   "cell_type": "code",
   "execution_count": 16,
   "metadata": {},
   "outputs": [
    {
     "name": "stdout",
     "output_type": "stream",
     "text": [
      "Em ordem crescente: [12.0, 56.0, 98.0]\n"
     ]
    }
   ],
   "source": [
    "a = float(input('Digite o primeiro número:'))\n",
    "b = float(input('Digite o segundo número:'))\n",
    "c = float(input('Digite o terceiro número:'))\n",
    "lista = [a, b, c]\n",
    "lista.sort()\n",
    "print('Em ordem crescente:', lista)"
   ]
  },
  {
   "cell_type": "markdown",
   "metadata": {},
   "source": [
    "Escreva um programa que calcule o preço a ser pago por um produto considerando um desconto de 10% se o valor da compra for maior que R$ 100,00."
   ]
  },
  {
   "cell_type": "code",
   "execution_count": 14,
   "metadata": {},
   "outputs": [
    {
     "name": "stdout",
     "output_type": "stream",
     "text": [
      "O preço é: 180.0\n"
     ]
    }
   ],
   "source": [
    "numero = float(input('Digite o preço:'))\n",
    "desconto = numero * 10 / 100\n",
    "if numero > 100:\n",
    "    print('O preço é:', numero - desconto)\n",
    "else:\n",
    "    print('O preço é:', numero)"
   ]
  },
  {
   "cell_type": "markdown",
   "metadata": {},
   "source": [
    "Desenvolva um programa que receba o valor de 3 lados de um triângulo e verifique se pode formar um triângulo."
   ]
  },
  {
   "cell_type": "code",
   "execution_count": 9,
   "metadata": {},
   "outputs": [
    {
     "name": "stdout",
     "output_type": "stream",
     "text": [
      "não pode formar um triângulo\n"
     ]
    }
   ],
   "source": [
    "a = float(input('Digite o primeiro número:'))\n",
    "b = float(input('Digite o segundo número:'))\n",
    "c = float(input('Digite o terceiro número:'))\n",
    "if (a + b < c) or (b + c < a) or (a + c < b):\n",
    "    print('pode formar um triângulo')\n",
    "else:\n",
    "    print('não pode formar um triângulo')"
   ]
  },
  {
   "cell_type": "markdown",
   "metadata": {},
   "source": [
    "Crie um programa que receba 2 valores e troque os valores das variáveis entre si, ex.: var a=1 e b=2 , exibir \"O valor da variável a=2 e b=1\""
   ]
  },
  {
   "cell_type": "code",
   "execution_count": 15,
   "metadata": {},
   "outputs": [
    {
     "name": "stdout",
     "output_type": "stream",
     "text": [
      "O valor da variável valor1 = 98.0 e valor2 = 98.0\n"
     ]
    }
   ],
   "source": [
    "valor1 = float(input('Digite o primeiro número:'))\n",
    "valor2 = float(input('Digite o segundo número:'))\n",
    "valor1 = valor2\n",
    "valor2 = valor1\n",
    "print(f'O valor da variável valor1 = {valor2} e valor2 = {valor1}')"
   ]
  },
  {
   "cell_type": "markdown",
   "metadata": {},
   "source": [
    "Refaça o exercício anterior, sem utilizar variáveis adicionais"
   ]
  },
  {
   "cell_type": "code",
   "execution_count": null,
   "metadata": {},
   "outputs": [],
   "source": [
    "valor1 = float(input('Digite o primeiro número:'))\n",
    "valor2 = float(input('Digite o segundo número:'))\n",
    "valor1 = valor2\n",
    "valor2 = valor1\n",
    "print(f'O valor da variável valor1 = {valor2} e valor2 = {valor1}')"
   ]
  }
 ],
 "metadata": {
  "kernelspec": {
   "display_name": "Python 3",
   "language": "python",
   "name": "python3"
  },
  "language_info": {
   "codemirror_mode": {
    "name": "ipython",
    "version": 3
   },
   "file_extension": ".py",
   "mimetype": "text/x-python",
   "name": "python",
   "nbconvert_exporter": "python",
   "pygments_lexer": "ipython3",
   "version": "3.12.2"
  }
 },
 "nbformat": 4,
 "nbformat_minor": 2
}
