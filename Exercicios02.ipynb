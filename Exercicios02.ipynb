{
 "cells": [
  {
   "cell_type": "markdown",
   "metadata": {},
   "source": [
    "1. Leia 2 notas de um aluno, calcule a média e imprima aprovado ou reprovado (para ser\n",
    "aprovado a média deve ser no mínimo 7)"
   ]
  },
  {
   "cell_type": "code",
   "execution_count": 3,
   "metadata": {},
   "outputs": [
    {
     "name": "stdout",
     "output_type": "stream",
     "text": [
      "Aprovado\n"
     ]
    }
   ],
   "source": [
    "nota1 = float(input('Digite a primeira nota:'))\n",
    "nota2 = float(input('Digite a segunda nota:'))\n",
    "media = (nota1 + nota2) / 2\n",
    "if media >= 7:\n",
    "    print('Aprovado')\n",
    "else:\n",
    "    print('Reprovado')"
   ]
  },
  {
   "cell_type": "markdown",
   "metadata": {},
   "source": [
    "2. Peça dois números ao usuário e mostre qual o maior e qual o menor"
   ]
  },
  {
   "cell_type": "code",
   "execution_count": 5,
   "metadata": {},
   "outputs": [
    {
     "name": "stdout",
     "output_type": "stream",
     "text": [
      "o maior número é o 40.0 e o menor é o 18.0\n"
     ]
    }
   ],
   "source": [
    "numero1 = float(input('Digite o primeiro número:'))\n",
    "numero2 = float(input('Digite o segundo número:'))\n",
    "if numero1 > numero2:\n",
    "    print(f'o maior número é o {numero1} e o menor é o {numero2}')\n",
    "else:\n",
    "    print(f'o maior número é o {numero2} e o menor é o {numero1}')"
   ]
  },
  {
   "cell_type": "markdown",
   "metadata": {},
   "source": [
    "3. Receba um inteiro e diga se é par ou ímpar."
   ]
  },
  {
   "cell_type": "code",
   "execution_count": 9,
   "metadata": {},
   "outputs": [
    {
     "name": "stdout",
     "output_type": "stream",
     "text": [
      "é um número ímpar\n"
     ]
    }
   ],
   "source": [
    "valor = int(input('Digite o primeiro número:'))\n",
    "numero = valor % 2\n",
    "if numero == 0:\n",
    "    print('é um número par')\n",
    "else:\n",
    "    print('é um número ímpar')"
   ]
  },
  {
   "cell_type": "markdown",
   "metadata": {},
   "source": [
    "4. Receba um número inteiro e diga se é positivo ou negativo"
   ]
  },
  {
   "cell_type": "code",
   "execution_count": 11,
   "metadata": {},
   "outputs": [
    {
     "name": "stdout",
     "output_type": "stream",
     "text": [
      "é um número negativo\n"
     ]
    }
   ],
   "source": [
    "valor = int(input('Digite o primeiro número:'))\n",
    "if valor > 0:\n",
    "    print('é um número positivo')\n",
    "else:\n",
    "    print('é um número negativo')"
   ]
  },
  {
   "cell_type": "markdown",
   "metadata": {},
   "source": [
    "5. Pergunte o ano de nascimento de uma pessoa e diga se ele é maior de idade"
   ]
  },
  {
   "cell_type": "code",
   "execution_count": 15,
   "metadata": {},
   "outputs": [
    {
     "name": "stdout",
     "output_type": "stream",
     "text": [
      "ele não é maior de idade\n"
     ]
    }
   ],
   "source": [
    "ano = int(input('Qual seu ano de nascimento:'))\n",
    "idade = 2024 - ano\n",
    "if idade >= 18:\n",
    "    print('é maior de idade')\n",
    "else:\n",
    "    print('não é maior de idade')"
   ]
  },
  {
   "cell_type": "markdown",
   "metadata": {},
   "source": [
    "6. Ler dois números inteiros e informar se estes são iguais ou diferentes."
   ]
  },
  {
   "cell_type": "code",
   "execution_count": 17,
   "metadata": {},
   "outputs": [
    {
     "name": "stdout",
     "output_type": "stream",
     "text": [
      "eles não são iguais\n"
     ]
    }
   ],
   "source": [
    "numero1 = int(input('Digite o primeiro número:'))\n",
    "numero2 = int(input('Digite o segundo número:'))\n",
    "if numero1 == numero2:\n",
    "    print('eles são iguais')\n",
    "else:\n",
    "    print('eles não são iguais')"
   ]
  },
  {
   "cell_type": "markdown",
   "metadata": {},
   "source": [
    "7. Receba a velocidade do carro e exiba que foi multado se for maior que 80km/h, o valor da\n",
    "multa será R$ 7,00 por cada km excedido, exibir o valor da multa"
   ]
  },
  {
   "cell_type": "code",
   "execution_count": 20,
   "metadata": {},
   "outputs": [
    {
     "name": "stdout",
     "output_type": "stream",
     "text": [
      "multa de: 140.0\n"
     ]
    }
   ],
   "source": [
    "velocidade = float(input('Digite o primeiro número:'))\n",
    "sobra = velocidade - 80\n",
    "multa = sobra * 7\n",
    "if velocidade > 80:\n",
    "    print(f'multa de: {multa}')\n",
    "else:\n",
    "    print('não foi multado')"
   ]
  }
 ],
 "metadata": {
  "kernelspec": {
   "display_name": "Python 3",
   "language": "python",
   "name": "python3"
  },
  "language_info": {
   "codemirror_mode": {
    "name": "ipython",
    "version": 3
   },
   "file_extension": ".py",
   "mimetype": "text/x-python",
   "name": "python",
   "nbconvert_exporter": "python",
   "pygments_lexer": "ipython3",
   "version": "3.12.2"
  }
 },
 "nbformat": 4,
 "nbformat_minor": 2
}
