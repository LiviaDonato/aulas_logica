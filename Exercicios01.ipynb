{
 "cells": [
  {
   "cell_type": "markdown",
   "metadata": {},
   "source": [
    "00 - Faça um programa que leia algo pelo teclado e mostre na\n",
    "tela o seu tipo primitivo."
   ]
  },
  {
   "cell_type": "code",
   "execution_count": 4,
   "metadata": {},
   "outputs": [
    {
     "name": "stdout",
     "output_type": "stream",
     "text": [
      "<class 'str'>\n"
     ]
    }
   ],
   "source": [
    "valor = input('Digite um caractere:')\n",
    "print(type(valor))"
   ]
  },
  {
   "cell_type": "markdown",
   "metadata": {},
   "source": [
    "01 - Crie um programa que leia dois números e mostre a soma\n",
    "entre eles."
   ]
  },
  {
   "cell_type": "code",
   "execution_count": 45,
   "metadata": {},
   "outputs": [
    {
     "name": "stdout",
     "output_type": "stream",
     "text": [
      "18.0\n"
     ]
    }
   ],
   "source": [
    "numero1 = float(input('Digite o primeiro número:'))\n",
    "numero2 = float(input('Digite o segundo número:'))\n",
    "soma = numero1 + numero2\n",
    "print(soma)"
   ]
  },
  {
   "cell_type": "markdown",
   "metadata": {},
   "source": [
    "02 - Crie um programa que leia um número inteiro e mostre na\n",
    "tela o seu sucessor e antecessor."
   ]
  },
  {
   "cell_type": "code",
   "execution_count": 6,
   "metadata": {},
   "outputs": [
    {
     "name": "stdout",
     "output_type": "stream",
     "text": [
      "11 9\n"
     ]
    }
   ],
   "source": [
    "numero = int(input('Digite o número:'))\n",
    "sucessor = numero + 1\n",
    "antecessor = numero - 1\n",
    "print(sucessor, antecessor)"
   ]
  },
  {
   "cell_type": "markdown",
   "metadata": {},
   "source": [
    "03 - Crie um programa que leia um número e mostre o seu\n",
    "dobro, triplo e raiz quadrada."
   ]
  },
  {
   "cell_type": "code",
   "execution_count": 19,
   "metadata": {},
   "outputs": [
    {
     "name": "stdout",
     "output_type": "stream",
     "text": [
      "18.0 27.0 3.0\n"
     ]
    }
   ],
   "source": [
    "numero = float(input('Digite o número:'))\n",
    "dobro = numero * 2\n",
    "triplo = numero * 3\n",
    "raiz_quadrada = numero ** 0.5\n",
    "print(dobro, triplo, raiz_quadrada)"
   ]
  },
  {
   "cell_type": "markdown",
   "metadata": {},
   "source": [
    "04 - Crie um programa que leia duas notas de um aluno, calcule\n",
    "e mostre sua média."
   ]
  },
  {
   "cell_type": "code",
   "execution_count": 44,
   "metadata": {},
   "outputs": [
    {
     "name": "stdout",
     "output_type": "stream",
     "text": [
      "9.0\n"
     ]
    }
   ],
   "source": [
    "nota1 = float(input('Digite a primeira nota:'))\n",
    "nota2 = float(input('Digite a segunda nota:'))\n",
    "media = (nota1 + nota2) / 2\n",
    "print(media)"
   ]
  },
  {
   "cell_type": "markdown",
   "metadata": {},
   "source": [
    "05 - Crie um programa que leia o valor em metros e o exiba\n",
    "convertido em centímetros e milímetros."
   ]
  },
  {
   "cell_type": "code",
   "execution_count": 23,
   "metadata": {},
   "outputs": [
    {
     "name": "stdout",
     "output_type": "stream",
     "text": [
      "100.0 1000.0\n"
     ]
    }
   ],
   "source": [
    "metros = float(input('Digite o número de metros:'))\n",
    "centimetros = metros * 100\n",
    "milimetros = metros * 1000\n",
    "print(centimetros, milimetros)"
   ]
  },
  {
   "cell_type": "markdown",
   "metadata": {},
   "source": [
    "06 - Crie um programa que leia um numero qualquer e mostre\n",
    "na tela a sua tabuada."
   ]
  },
  {
   "cell_type": "code",
   "execution_count": 26,
   "metadata": {},
   "outputs": [
    {
     "name": "stdout",
     "output_type": "stream",
     "text": [
      "5 x 1 = 5\n",
      "5 x 2 = 10\n",
      "5 x 3 = 15\n",
      "5 x 4 = 20\n",
      "5 x 5 = 25\n",
      "5 x 6 = 30\n",
      "5 x 7 = 35\n",
      "5 x 8 = 40\n",
      "5 x 9 = 45\n",
      "5 x 10 = 50\n"
     ]
    }
   ],
   "source": [
    "numero = int(input('Digite o número:'))\n",
    "um = numero * 1\n",
    "dois = numero * 2\n",
    "tres = numero * 3\n",
    "quatro = numero * 4\n",
    "cinco = numero * 5\n",
    "seis = numero * 6\n",
    "sete = numero * 7\n",
    "oito = numero * 8\n",
    "nove = numero * 9\n",
    "dez = numero * 10\n",
    "print(f'{numero} x 1 = {um}')\n",
    "print(f'{numero} x 2 = {dois}')\n",
    "print(f'{numero} x 3 = {tres}')\n",
    "print(f'{numero} x 4 = {quatro}')\n",
    "print(f'{numero} x 5 = {cinco}')\n",
    "print(f'{numero} x 6 = {seis}')\n",
    "print(f'{numero} x 7 = {sete}')\n",
    "print(f'{numero} x 8 = {oito}')\n",
    "print(f'{numero} x 9 = {nove}')\n",
    "print(f'{numero} x 10 = {dez}')"
   ]
  },
  {
   "cell_type": "markdown",
   "metadata": {},
   "source": [
    "07 - Crie um programa que leia quanto dinheiro a pessoa tem na\n",
    "carteira e mostre quantos dólares ela pode contar."
   ]
  },
  {
   "cell_type": "code",
   "execution_count": 37,
   "metadata": {},
   "outputs": [
    {
     "name": "stdout",
     "output_type": "stream",
     "text": [
      "20.0\n"
     ]
    }
   ],
   "source": [
    "dinheiro = int(input('Digite quanto dinheiro você tem:'))\n",
    "dolar = dinheiro * 0.2\n",
    "print(dolar)"
   ]
  },
  {
   "cell_type": "markdown",
   "metadata": {},
   "source": [
    "08 - Crie um programa que leia a largura e a altura de uma\n",
    "parede em metros, calcule a sua área e a quantidade de tinta\n",
    "necessária para pintá-lo, sabendo que cada litro de tinta pinta\n",
    "uma área de 2m2."
   ]
  },
  {
   "cell_type": "code",
   "execution_count": 34,
   "metadata": {},
   "outputs": [
    {
     "name": "stdout",
     "output_type": "stream",
     "text": [
      "Área: 1.0 Tinta: 0.5\n"
     ]
    }
   ],
   "source": [
    "largura = float(input('Digite a largura:'))\n",
    "altura = float(input('Digite a altura:'))\n",
    "area = largura * altura\n",
    "tinta = area / 2\n",
    "print(f'Área: {area} Tinta: {tinta}')"
   ]
  },
  {
   "cell_type": "markdown",
   "metadata": {},
   "source": [
    "09 - Faça um algoritmo que leia o preço do produto e mostre\n",
    "seu novo preço com 5% de desconto."
   ]
  },
  {
   "cell_type": "code",
   "execution_count": 39,
   "metadata": {},
   "outputs": [
    {
     "name": "stdout",
     "output_type": "stream",
     "text": [
      "95.0\n"
     ]
    }
   ],
   "source": [
    "preco = float(input('Digite o preço:'))\n",
    "desconto = preco * 5 / 100\n",
    "valor = preco - desconto\n",
    "print(valor)"
   ]
  },
  {
   "cell_type": "markdown",
   "metadata": {},
   "source": [
    "10 - Faça um algoritmo que leia o salário do funcionário e\n",
    "mostre seu novo salário com 15% de aumento."
   ]
  },
  {
   "cell_type": "code",
   "execution_count": 40,
   "metadata": {},
   "outputs": [
    {
     "name": "stdout",
     "output_type": "stream",
     "text": [
      "115.0\n"
     ]
    }
   ],
   "source": [
    "salario = float(input('Digite o salario do funcionario:'))\n",
    "aumento = preco * 15 / 100\n",
    "valor = salario + aumento\n",
    "print(valor)"
   ]
  },
  {
   "cell_type": "markdown",
   "metadata": {},
   "source": [
    "11 - Faça um algoritmo que receba um valor em graus Celsius e\n",
    "converta para farenheit."
   ]
  },
  {
   "cell_type": "code",
   "execution_count": 42,
   "metadata": {},
   "outputs": [
    {
     "name": "stdout",
     "output_type": "stream",
     "text": [
      "32.0\n"
     ]
    }
   ],
   "source": [
    "celsius = float(input('Digite a temperatura em celsius:'))\n",
    "farenheit = celsius * 1.8 + 32\n",
    "print(farenheit)"
   ]
  },
  {
   "cell_type": "markdown",
   "metadata": {},
   "source": [
    "12 - Faça um algoritmo que pergunte a quantidade de km\n",
    "percorridos por um carro alugado e a quantidade de dias pelos\n",
    "quais ele foi alugado. Calcule o preço a pagar, sabendo que o\n",
    "carro custa R$60 por dia e R$0.15 por km rodado."
   ]
  },
  {
   "cell_type": "code",
   "execution_count": 43,
   "metadata": {},
   "outputs": [
    {
     "name": "stdout",
     "output_type": "stream",
     "text": [
      "127.5\n"
     ]
    }
   ],
   "source": [
    "km = float(input('Digite a quantidade de km percorridos:'))\n",
    "dias = float(input('Digite a quantidade de dias alugados:'))\n",
    "valor1 = dias * 60\n",
    "valor2 = km * 0.15\n",
    "numero = valor1 + valor2\n",
    "print(numero)"
   ]
  }
 ],
 "metadata": {
  "kernelspec": {
   "display_name": "Python 3",
   "language": "python",
   "name": "python3"
  },
  "language_info": {
   "codemirror_mode": {
    "name": "ipython",
    "version": 3
   },
   "file_extension": ".py",
   "mimetype": "text/x-python",
   "name": "python",
   "nbconvert_exporter": "python",
   "pygments_lexer": "ipython3",
   "version": "3.12.2"
  }
 },
 "nbformat": 4,
 "nbformat_minor": 2
}
