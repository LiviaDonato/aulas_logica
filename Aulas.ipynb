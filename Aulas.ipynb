{
 "cells": [
  {
   "cell_type": "markdown",
   "metadata": {},
   "source": [
    "Aula 15/02/2024 - Comandos de saída(print) / Tipos de dados (string, int, float, bool) / Operações Aritiméticas (+, -, *, **, /, //, %)"
   ]
  },
  {
   "cell_type": "code",
   "execution_count": null,
   "metadata": {},
   "outputs": [
    {
     "name": "stdout",
     "output_type": "stream",
     "text": [
      "Hello, world!\n"
     ]
    }
   ],
   "source": [
    "print('Hello, world!') # a funcao print serve para exibir na tela, todos os textos entre aspas"
   ]
  },
  {
   "cell_type": "code",
   "execution_count": null,
   "metadata": {},
   "outputs": [],
   "source": [
    "# print('Hello, world!') # tudo depois do '#' vira comentario"
   ]
  },
  {
   "cell_type": "code",
   "execution_count": null,
   "metadata": {},
   "outputs": [],
   "source": [
    "# int = numero inteiro\n",
    "# float = numero com '.' com casa decimal\n",
    "# bool = dado logico só recebe verdadeiro ou falso \n",
    "# str = conjunto de caracteres"
   ]
  },
  {
   "cell_type": "code",
   "execution_count": null,
   "metadata": {},
   "outputs": [
    {
     "name": "stdout",
     "output_type": "stream",
     "text": [
      "meu primeiro código em python, usando aspas duplas\n",
      "meu primeiro código em python, usando aspas duplas\n",
      "123\n",
      "70.5\n",
      "True\n",
      "Sesi\n",
      "14\n",
      "86\n",
      "string 10 70.5 False\n"
     ]
    }
   ],
   "source": [
    "# testes\n",
    "print(\"meu primeiro código em python, usando aspas duplas\") # shift + alt + seta para baixo duplica a linha\n",
    "print(\"meu primeiro código em python, usando aspas duplas\")\n",
    "print(123) # numero não precisa de aspas\n",
    "# print(texto) # sem aspas nao imprime\n",
    "print(70.5) # numero float\n",
    "print(True) # valor bool, precisa da primeira letra maiuscula, campo lógico (verdadeiro ou falso) (True ou False)\n",
    "print('Sesi') # letra, tipo string\n",
    "print(8 + 6) # imprime o resultado\n",
    "print('8' + '6') # imprime 86, o computador entende como string, faz concatenação\n",
    "print('string', 10, 70.5, False) # pode imprimir várias infirmações ao mesmo tempo separando elas com ','"
   ]
  },
  {
   "cell_type": "code",
   "execution_count": null,
   "metadata": {},
   "outputs": [
    {
     "name": "stdout",
     "output_type": "stream",
     "text": [
      "60\n",
      "80\n",
      "1316223135288\n",
      "1609.0\n",
      "1\n",
      "27\n",
      "2\n",
      "7.0\n"
     ]
    }
   ],
   "source": [
    "# exemplos de Operações Aritiméticas\n",
    "print(10 + 50) # + é o nosso operador de SOMA (número inteiro ou decimal)\n",
    "print(67 + 13) # - é o operador de SUBTRAÇÂO (n° inteiro ou decimal)\n",
    "print(4214328 * 312321) # * é o operador de MULTIPLICAÇÃO\n",
    "print(4827 / 3) # / é o operador de DIVISÃO, sempre retorna um valor float mesmo numeros inteiros\n",
    "print(31 % 2) # % é o operador de SOBRA/RESTO da divisão (MÓDULO)\n",
    "print(3 ** 3) # ** é o operador de EXPONENCIAÇÂO 3³ \n",
    "print(7 // 3) # // é o operador de DiVISÂO INTEIRA\n",
    "print ( (8 +6) / 2) # O parênteses define a maior ordem de precedência\n"
   ]
  },
  {
   "cell_type": "markdown",
   "metadata": {},
   "source": [
    "Aula 22/02/2024 - Comandos de entrada(input) / Variáveis / Pseudocódigos"
   ]
  },
  {
   "cell_type": "code",
   "execution_count": null,
   "metadata": {},
   "outputs": [
    {
     "name": "stdout",
     "output_type": "stream",
     "text": [
      "Desenvolvimento de Sistemas\n",
      "curso\n",
      "Desenvolvimento de Sistemas\n",
      "curso Desenvolvimento de Sistemas\n"
     ]
    }
   ],
   "source": [
    "# declarando minha primeira variável \n",
    "# lemos da seguinte forma:\n",
    "# variavel 'curso' recebe(=) a string 'Desenvolvimento de Sistemas'\n",
    "# recebe e armazena o texto 'Desenvolvimento de Sistemas'\n",
    "curso = 'Desenvolvimento de Sistemas'\n",
    "# exiba o valor armazenado \n",
    "print('Desenvolvimento de Sistemas') # errado, ja tinha definido a variavel \n",
    "print('curso') # nao pode ter aspas\n",
    "print(curso) # jeito correto de usar uma variavel\n",
    "print('curso', curso) # precisa da virgula"
   ]
  },
  {
   "cell_type": "code",
   "execution_count": null,
   "metadata": {},
   "outputs": [
    {
     "name": "stdout",
     "output_type": "stream",
     "text": [
      "Olá Donato, você tem 15 anos, hoje está fazendo 32.7 ºC\n"
     ]
    }
   ],
   "source": [
    "# criando e atribuindo uma variavel\n",
    "idade = 15\n",
    "temperatura = 32.7\n",
    "nome = 'Donato'\n",
    "print('Olá', nome + ',', 'você tem', idade, 'anos' + ',', 'hoje está fazendo', temperatura, 'ºC')"
   ]
  },
  {
   "cell_type": "code",
   "execution_count": null,
   "metadata": {},
   "outputs": [
    {
     "name": "stdout",
     "output_type": "stream",
     "text": [
      "Olá Donato, você tem 15 anos, hoje está fazendo 32.7 ºC\n",
      "Olá Donato , você tem 15 anos, hoje está fazendo 32.7 ºC\n",
      "Olá Donato, você tem 15 anos, hoje está fazendo 32.7 ºC\n"
     ]
    }
   ],
   "source": [
    "# soluções professor\n",
    "idade = 15\n",
    "temperatura = 32.7\n",
    "nome = 'Donato'\n",
    "print('Olá Donato, você tem 15 anos, hoje está fazendo 32.7 ºC') # errado, qualquer alteração nas variaveis não mudaria na resposta\n",
    "print('Olá', nome, ', você tem', idade, 'anos, hoje está fazendo', temperatura, 'ºC') # entre Donato e a ',' tem um espaço que nao devia ter\n",
    "print(f'Olá {nome}, você tem {idade} anos, hoje está fazendo {temperatura} ºC') # mais facil"
   ]
  },
  {
   "cell_type": "code",
   "execution_count": 13,
   "metadata": {},
   "outputs": [
    {
     "ename": "NameError",
     "evalue": "name 'salario' is not defined",
     "output_type": "error",
     "traceback": [
      "\u001b[1;31m---------------------------------------------------------------------------\u001b[0m",
      "\u001b[1;31mNameError\u001b[0m                                 Traceback (most recent call last)",
      "Cell \u001b[1;32mIn[13], line 4\u001b[0m\n\u001b[0;32m      2\u001b[0m chovendo \u001b[38;5;241m=\u001b[39m \u001b[38;5;28;01mFalse\u001b[39;00m\n\u001b[0;32m      3\u001b[0m dia \u001b[38;5;241m=\u001b[39m \u001b[38;5;28;01mTrue\u001b[39;00m\n\u001b[1;32m----> 4\u001b[0m \u001b[38;5;28mprint\u001b[39m(\u001b[38;5;124m'\u001b[39m\u001b[38;5;124mSalario\u001b[39m\u001b[38;5;124m'\u001b[39m, \u001b[43msalario\u001b[49m) \u001b[38;5;66;03m# ocorrerá um erro, pois não existe uma variavel com o nome salario, então não consegue encontrar nada para exibir\u001b[39;00m\n\u001b[0;32m      5\u001b[0m \u001b[38;5;66;03m# NameError: name 'salario' is not defined\u001b[39;00m\n",
      "\u001b[1;31mNameError\u001b[0m: name 'salario' is not defined"
     ]
    }
   ],
   "source": [
    "# declarando variaveis lógicas, recebe apenas True ou False\n",
    "chovendo = False\n",
    "dia = True\n",
    "print('Salario', salario) # ocorrerá um erro, pois não existe uma variavel com o nome salario, então não consegue encontrar nada para exibir\n",
    "# NameError: name 'salario' is not defined\n"
   ]
  },
  {
   "cell_type": "code",
   "execution_count": null,
   "metadata": {},
   "outputs": [],
   "source": [
    "# declarendo um constante, diferentemente da variavel que posso alterar o valor na constante não é permitido, declaramos com o nome todo em maiusculo\n",
    "PI = 3.1415\n"
   ]
  },
  {
   "cell_type": "code",
   "execution_count": null,
   "metadata": {},
   "outputs": [
    {
     "name": "stdout",
     "output_type": "stream",
     "text": [
      "Donato 15\n",
      "Ricardo 34\n"
     ]
    }
   ],
   "source": [
    "print(nome, idade) # mesmo em outro codigo as variaveis continuam com seus valores\n",
    "idade = 34\n",
    "nome = 'Ricardo'\n",
    "print(nome, idade) # pode redefinir os valores"
   ]
  },
  {
   "cell_type": "code",
   "execution_count": null,
   "metadata": {},
   "outputs": [
    {
     "name": "stdout",
     "output_type": "stream",
     "text": [
      "Donato 15 70\n",
      "Seu nome é Donato, você tem 15 anos e pesa 70\n"
     ]
    }
   ],
   "source": [
    "# passo1 - Receber o nome da pessoa\n",
    "nome = 'Donato'\n",
    "# passo2 - Receber a idade da pessoa\n",
    "idade = 15\n",
    "# passo3 - Receber o peso da pessoa\n",
    "peso = 70 # não lembro\n",
    "# passo4 - Exibir o nome, a idade, e o peso\n",
    "print(nome, idade, peso)\n",
    "print(f'Seu nome é {nome}, você tem {idade} anos e pesa {peso}')"
   ]
  },
  {
   "cell_type": "code",
   "execution_count": null,
   "metadata": {},
   "outputs": [
    {
     "name": "stdout",
     "output_type": "stream",
     "text": [
      "dncduf 89 358\n",
      "Seu nome é dncduf, você tem 89 anos e pesa 358kg\n"
     ]
    }
   ],
   "source": [
    "# passo1: Receber o nome da pessoa\n",
    "nome = input('Digite seu nome:')\n",
    "# passo2: Receber a idade da pessoa\n",
    "idade = input('Digite sua idade:')\n",
    "# passo3: Receber o peso da pessoa\n",
    "peso = input('Digite seu peso:')\n",
    "# passo4: Exibir o nome, a idade, e o peso\n",
    "print(nome, idade, peso)\n",
    "print(f'Seu nome é {nome}, você tem {idade} anos e pesa {peso}kg')"
   ]
  },
  {
   "cell_type": "code",
   "execution_count": null,
   "metadata": {},
   "outputs": [
    {
     "name": "stdout",
     "output_type": "stream",
     "text": [
      "<class 'int'> <class 'str'> <class 'str'>\n",
      "<class 'str'> <class 'int'> <class 'float'>\n"
     ]
    }
   ],
   "source": [
    "# exibindo os tipos das variaveis\n",
    "# tudo o que recebemos do input é do tipo string \n",
    "print(type(nome), type(idade), type(peso))\n",
    "nome = input('Digite seu nome:')\n",
    "idade = int(input('Digite sua idade:')) # posso converter essa string recebida pro tipo inteiro\n",
    "peso = float(input('Digite seu peso:')) # tambem é possivel converter para o tipo float\n",
    "print(type(nome), type(idade), type(peso))"
   ]
  },
  {
   "cell_type": "markdown",
   "metadata": {},
   "source": [
    "23/02/2024 - Operações com variáveis / Atualizando valor da variável"
   ]
  },
  {
   "cell_type": "code",
   "execution_count": null,
   "metadata": {},
   "outputs": [],
   "source": [
    "# ERRADO, SE ALTERAR OS NÚMEROS DAS VARIAVEIS NÃO VAI MUDAR O RESULTADO\n",
    "# receber o primeiro numero\n",
    "numero1 = 2\n",
    "# receber o segundo numero\n",
    "numero2 = 7\n",
    "# somar o primeiro numero + o segundo numero\n",
    "soma = numero1 + numero2 # se colocar 2 + 7, para que criou as variaveis?\n",
    "# exibir o resultado\n",
    "print(soma)\n",
    "print(type(soma))"
   ]
  },
  {
   "cell_type": "code",
   "execution_count": null,
   "metadata": {},
   "outputs": [
    {
     "name": "stdout",
     "output_type": "stream",
     "text": [
      "121\n"
     ]
    }
   ],
   "source": [
    "# ERRADO, OS NÚMEROS ESTÃO COMO STRING\n",
    "# receber o primeiro numero\n",
    "numero1 = input('Digite o primeiro número:')\n",
    "# receber o segundo numero\n",
    "numero2 = input('Digite o segundo número:')\n",
    "# somar o primeiro numero + o segundo numero\n",
    "soma = numero1 + numero2 # se colocar 2 + 7, para que criou as variaveis?\n",
    "# exibir o resultado\n",
    "print(soma)\n",
    "print(type(soma))\n"
   ]
  },
  {
   "cell_type": "code",
   "execution_count": null,
   "metadata": {},
   "outputs": [
    {
     "name": "stdout",
     "output_type": "stream",
     "text": [
      "3\n",
      "<class 'int'>\n"
     ]
    }
   ],
   "source": [
    "# FORMA CORRETA\n",
    "# MAS SÓ RECEBE NÚMEROS INTEIROS\n",
    "# receber o primeiro numero\n",
    "numero1 = int(input('Digite o primeiro número:'))\n",
    "# receber o segundo numero\n",
    "numero2 = int(input('Digite o segundo número:'))\n",
    "# somar o primeiro numero + o segundo numero\n",
    "soma = numero1 + numero2 # se colocar 2 + 7, para que criou as variaveis?\n",
    "# exibir o resultado\n",
    "print(soma)\n",
    "print(type(soma))"
   ]
  },
  {
   "cell_type": "code",
   "execution_count": null,
   "metadata": {},
   "outputs": [
    {
     "name": "stdout",
     "output_type": "stream",
     "text": [
      "4022.7074000000002\n",
      "<class 'float'>\n"
     ]
    }
   ],
   "source": [
    "# FORMA CORRETA\n",
    "# receber o primeiro numero\n",
    "numero1 = float(input('Digite o primeiro número:'))\n",
    "# receber o segundo numero\n",
    "numero2 = float(input('Digite o segundo número:'))\n",
    "# somar o primeiro numero + o segundo numero\n",
    "soma = numero1 + numero2 \n",
    "# exibir o resultado\n",
    "print(soma)\n",
    "print(type(soma))"
   ]
  },
  {
   "cell_type": "code",
   "execution_count": null,
   "metadata": {},
   "outputs": [
    {
     "ename": "NameError",
     "evalue": "name 'numero3' is not defined",
     "output_type": "error",
     "traceback": [
      "\u001b[1;31m---------------------------------------------------------------------------\u001b[0m",
      "\u001b[1;31mNameError\u001b[0m                                 Traceback (most recent call last)",
      "Cell \u001b[1;32mIn[7], line 7\u001b[0m\n\u001b[0;32m      5\u001b[0m numero2 \u001b[38;5;241m=\u001b[39m \u001b[38;5;28mfloat\u001b[39m(\u001b[38;5;28minput\u001b[39m(\u001b[38;5;124m'\u001b[39m\u001b[38;5;124mDigite o segundo número:\u001b[39m\u001b[38;5;124m'\u001b[39m))\n\u001b[0;32m      6\u001b[0m \u001b[38;5;66;03m# somar o primeiro numero + o segundo numero\u001b[39;00m\n\u001b[1;32m----> 7\u001b[0m soma \u001b[38;5;241m=\u001b[39m numero1 \u001b[38;5;241m+\u001b[39m numero2 \u001b[38;5;241m+\u001b[39m \u001b[43mnumero3\u001b[49m \u001b[38;5;66;03m# nao reconhece pq a ordem está errada\u001b[39;00m\n\u001b[0;32m      8\u001b[0m \u001b[38;5;66;03m# exibir o resultado\u001b[39;00m\n\u001b[0;32m      9\u001b[0m \u001b[38;5;28mprint\u001b[39m(soma)\n",
      "\u001b[1;31mNameError\u001b[0m: name 'numero3' is not defined"
     ]
    }
   ],
   "source": [
    "# ORDEM ERRADA\n",
    "# receber o primeiro numero\n",
    "numero1 = float(input('Digite o primeiro número:'))\n",
    "# receber o segundo numero\n",
    "numero2 = float(input('Digite o segundo número:'))\n",
    "# somar o primeiro numero + o segundo numero\n",
    "soma = numero1 + numero2 + numero3 # nao reconhece pq a ordem está errada\n",
    "# exibir o resultado\n",
    "print(soma)\n",
    "print(type(soma))\n",
    "numero3 = float(input('Digite o segundo número:'))"
   ]
  },
  {
   "cell_type": "code",
   "execution_count": null,
   "metadata": {},
   "outputs": [
    {
     "name": "stdout",
     "output_type": "stream",
     "text": [
      "6.0\n",
      "<class 'float'>\n"
     ]
    }
   ],
   "source": [
    "# CONTINUA NA ORDEM ERRADA\n",
    "# receber o primeiro numero\n",
    "numero1 = float(input('Digite o primeiro número:'))\n",
    "# receber o segundo numero\n",
    "numero2 = float(input('Digite o segundo número:'))\n",
    "# exibir o resultado\n",
    "print(soma)\n",
    "print(type(soma))\n",
    "numero3 = float(input('Digite o segundo número:'))\n",
    "# somar o primeiro numero + o segundo numero\n",
    "soma = numero1 + numero2 + numero3 # nao reconhece pq a ordem está errada"
   ]
  },
  {
   "cell_type": "code",
   "execution_count": null,
   "metadata": {},
   "outputs": [
    {
     "name": "stdout",
     "output_type": "stream",
     "text": [
      "3.0\n",
      "<class 'float'>\n"
     ]
    }
   ],
   "source": [
    "# JEITO CORRETO\n",
    "# receber o primeiro numero\n",
    "numero1 = float(input('Digite o primeiro número:'))\n",
    "# receber o segundo numero\n",
    "numero2 = float(input('Digite o segundo número:'))\n",
    "# receber o terceiro numero\n",
    "numero3 = float(input('Digite o segundo número:'))\n",
    "# somar o primeiro numero + o segundo numero\n",
    "soma = numero1 + numero2 + numero3 # nao reconhece pq a ordem está errada\n",
    "# exibir o resultado\n",
    "print(soma)\n",
    "print(type(soma))"
   ]
  },
  {
   "cell_type": "code",
   "execution_count": null,
   "metadata": {},
   "outputs": [
    {
     "name": "stdout",
     "output_type": "stream",
     "text": [
      "5.059324805361763e+63\n"
     ]
    }
   ],
   "source": [
    "# MUNHA TENTATIVA DE MULTIPLICAÇÃO\n",
    "numero1 = float(input('Digite o primeiro número:'))\n",
    "numero2 = float(input('Digite o primeiro número:'))\n",
    "numero3 = float(input('Digite o primeiro número:'))\n",
    "multiplicacao = (numero1 * numero2 * numero3)\n",
    "print(multiplicacao)"
   ]
  },
  {
   "cell_type": "code",
   "execution_count": null,
   "metadata": {},
   "outputs": [
    {
     "name": "stdout",
     "output_type": "stream",
     "text": [
      "8.0\n"
     ]
    }
   ],
   "source": [
    "# PRIMEIRA TENTATIVA (para mim está certo pois foi pedido um codigo usando duas variaveis)\n",
    "# receber o preço do celular\n",
    "valor_cel = float(input('Digite o valor do celular:'))\n",
    "# receber o valor do desconto\n",
    "desconto = float(input('Digite o valor do desconto:'))\n",
    "# calcular o novo valor do celular\n",
    "print(valor_cel - desconto)"
   ]
  },
  {
   "cell_type": "code",
   "execution_count": null,
   "metadata": {},
   "outputs": [
    {
     "name": "stdout",
     "output_type": "stream",
     "text": [
      "20.0\n",
      "Você obteve R$3.0 de desconto, e pagou R$20.0\n"
     ]
    }
   ],
   "source": [
    "# CERTO\n",
    "# receber o preço do celular\n",
    "valor_cel = float(input('Digite o valor do celular:'))\n",
    "# receber o valor do desconto\n",
    "desconto = float(input('Digite o valor do desconto:'))\n",
    "# calcular o novo valor do celular\n",
    "valor_cel = (valor_cel - desconto)\n",
    "# exibir o resultado\n",
    "print(valor_cel)\n",
    "print(f'Você obteve R${desconto} de desconto, e pagou R${valor_cel}')"
   ]
  },
  {
   "cell_type": "code",
   "execution_count": null,
   "metadata": {},
   "outputs": [
    {
     "name": "stdout",
     "output_type": "stream",
     "text": [
      "2535\n",
      "6426225\n",
      "O valor final é 192786750\n"
     ]
    }
   ],
   "source": [
    "# atualizando o valor da variavel\n",
    "numero = 65 * 39\n",
    "print(numero)\n",
    "numero = numero ** 2\n",
    "print(numero)\n",
    "numero = numero * (50 - 20)\n",
    "print(f'O valor final é {numero}')"
   ]
  },
  {
   "cell_type": "code",
   "execution_count": null,
   "metadata": {},
   "outputs": [
    {
     "name": "stdout",
     "output_type": "stream",
     "text": [
      "12000\n"
     ]
    }
   ],
   "source": [
    "# ATIVIDADE\n",
    "valor = 100\n",
    "dias = 15\n",
    "horas = 8\n",
    "valor = (valor * dias * horas)\n",
    "print(valor)"
   ]
  },
  {
   "cell_type": "code",
   "execution_count": null,
   "metadata": {},
   "outputs": [
    {
     "name": "stdout",
     "output_type": "stream",
     "text": [
      "Trabalhando 10h por dia, por 27475 dias e ganhando 123 por hora, o salario é R$33794250\n"
     ]
    }
   ],
   "source": [
    "# EVOLUÇÃO NA ATIVIDADE\n",
    "valor = int(input('Digite o preço:'))\n",
    "dias = int(input('Digite quantos dias trabalhou:'))\n",
    "horas = int(input('Digite quantas horas trabalhou:'))\n",
    "salario = (valor * dias * horas)\n",
    "print(f'Trabalhando {horas}h por dia, por {dias} dias e ganhando {valor} por hora, o salario é R${salario}')"
   ]
  },
  {
   "cell_type": "code",
   "execution_count": null,
   "metadata": {},
   "outputs": [],
   "source": [
    "# lembrar que em vez de usar ('%.1f' % valor) fazer (valor:.1f)\n",
    "# pesquisar 'import random'"
   ]
  },
  {
   "cell_type": "markdown",
   "metadata": {},
   "source": [
    "29/02/2024 - Operadores relacionais / Estrutura condicional"
   ]
  },
  {
   "cell_type": "code",
   "execution_count": null,
   "metadata": {},
   "outputs": [
    {
     "name": "stdout",
     "output_type": "stream",
     "text": [
      "a > b ? False\n",
      "a == b ? False\n",
      "a != b ? True\n",
      "a > 2 ? False\n",
      "a == 2 ? True\n"
     ]
    }
   ],
   "source": [
    "a = 2 # atribui 2 ao valor a\n",
    "b = 3 # atribui 3 ao valor b\n",
    "print(f'a > b ? {a > b}') # compara a com b e retorna True ou False, dempendendo se a é maior que b\n",
    "print(f'a == b ? {a == b}') # compara se a é igual a b\n",
    "print(f'a != b ? {a != b}') # compara se a é diferente de b\n",
    "print(f'a > 2 ? {a > 2}') # compara se a é maior que b\n",
    "print(f'a == 2 ? {a == 2}') # compara se a é igual a b"
   ]
  },
  {
   "cell_type": "code",
   "execution_count": null,
   "metadata": {},
   "outputs": [
    {
     "name": "stdout",
     "output_type": "stream",
     "text": [
      "Posso entrar\n",
      "fim\n"
     ]
    }
   ],
   "source": [
    "tenho_ingresso = True\n",
    "if tenho_ingresso == True: # se tenho_ingresso igual a True, printa 'Posso entrar'\n",
    "    print('Posso entrar')\n",
    "print('fim') # printa o 'fim' tambem"
   ]
  },
  {
   "cell_type": "code",
   "execution_count": null,
   "metadata": {},
   "outputs": [],
   "source": [
    "tenho_ingresso = False\n",
    "if tenho_ingresso == True: # se tenho_ingresso igual a True, printa 'Posso entrar'\n",
    "    print('Posso entrar')\n",
    "    print('fim') # não printa nenhum dos dois, pois o dois estão com tab"
   ]
  },
  {
   "cell_type": "code",
   "execution_count": null,
   "metadata": {},
   "outputs": [
    {
     "name": "stdout",
     "output_type": "stream",
     "text": [
      "fim\n"
     ]
    }
   ],
   "source": [
    "# receber o valor da idade\n",
    "idade = int(input('Qual sua idade:'))\n",
    "# verificar SE é maior ou igual a 18 ENTÃo\n",
    "if idade >= 18:\n",
    "# se for exibir 'Maior Idade'\n",
    "    print('Maior Idade')\n",
    "print('fim') # se não, printa somente o 'fim'"
   ]
  },
  {
   "cell_type": "code",
   "execution_count": null,
   "metadata": {},
   "outputs": [
    {
     "name": "stdout",
     "output_type": "stream",
     "text": [
      "Posso entrar\n",
      "fim\n"
     ]
    }
   ],
   "source": [
    "tenho_ingresso = True\n",
    "if tenho_ingresso == True:\n",
    "    print('Posso entrar') # se for verdade faz isso\n",
    "else:\n",
    "    print('Estou barrado') # se não faz isso\n",
    "print('fim')"
   ]
  },
  {
   "cell_type": "markdown",
   "metadata": {},
   "source": [
    "01/03/2024 - Operadores Lógicos e Estrutura condicional\n"
   ]
  },
  {
   "cell_type": "code",
   "execution_count": null,
   "metadata": {},
   "outputs": [
    {
     "name": "stdout",
     "output_type": "stream",
     "text": [
      "False\n"
     ]
    }
   ],
   "source": [
    "a = 2\n",
    "b = 3\n",
    "c = 5\n",
    "#      False   e   False  == imprime False\n",
    "print((a > 2) and (b < 2)) # só se a for maior que 2 *E* b for menor que 2 imprime True\n",
    "#      False  ou  False  == imprime False\n",
    "print((a > 2) or (b < 2)) # só se a for maior que 2 *OU* b for menor que 2 imprime True\n",
    "#      False  ou  True  == imprime True\n",
    "print((a > 2) or (b < 5)) # só se a for maior que 2 *OU* b for menor que 5 imprime True\n",
    "idade = 18\n",
    "#       False    ou    True\n",
    "print(idade > 18 or idade == 18) # True\n",
    "#          idade >= 18"
   ]
  },
  {
   "cell_type": "code",
   "execution_count": null,
   "metadata": {},
   "outputs": [
    {
     "name": "stdout",
     "output_type": "stream",
     "text": [
      "Seu IMC é: 19.4\n",
      "Peso ideal!\n"
     ]
    }
   ],
   "source": [
    "altura = float(input('Digite sua altura em metros:'))\n",
    "peso = float(input('Digite seu peso em kg:'))\n",
    "imc = peso / (altura ** 2)\n",
    "print(f'Seu IMC é: {imc:.1f}')\n",
    "if imc < 18.5:\n",
    "    print('Abaixo do peso ideal!')\n",
    "elif imc >= 18.6 and imc <= 24.9: # elif é o else mais o if\n",
    "    print('Peso ideal!')          # pode colocar quantos quiser\n",
    "elif imc >= 25 and imc <= 29.9:   # ele só é executado se a condição anterior for falsa\n",
    "    print('Sobrepeso!')           # se colocar varios if o codigo fica lento\n",
    "else:\n",
    "    print('Obesidade!')"
   ]
  },
  {
   "cell_type": "code",
   "execution_count": null,
   "metadata": {},
   "outputs": [
    {
     "name": "stdout",
     "output_type": "stream",
     "text": [
      "3 3 6\n",
      "isosceles\n"
     ]
    }
   ],
   "source": [
    "# só funciona no python\n",
    "lado1 = input('Digite lado 1:')\n",
    "lado2 = input('Digite lado 2:')\n",
    "lado3 = input('Digite lado 3:')\n",
    "if (lado1 == lado2 == lado3): # todos os lados iguais\n",
    "    print(lado1, lado2, lado3)\n",
    "    print('equilatero')\n",
    "elif ((lado1 == lado2 != lado3) or (lado2 == lado3 != lado1) or (lado3 == lado1 != lado2)): # dois lados iguais e um diferente\n",
    "    print(lado1, lado2, lado3)\n",
    "    print('isosceles')\n",
    "elif (lado1 != lado2 != lado3): # todos os lados diferentes\n",
    "    print(lado1, lado2, lado3)\n",
    "    print('escaleno')"
   ]
  },
  {
   "cell_type": "code",
   "execution_count": null,
   "metadata": {},
   "outputs": [],
   "source": [
    "# funciona nas outras linguagens\n",
    "lado1 = input('Digite lado 1:')\n",
    "lado2 = input('Digite lado 2:')\n",
    "lado3 = input('Digite lado 3:')\n",
    "if ((lado1 == lado2) and (lado2 == lado3)): # todos os lados iguais\n",
    "    print('equilatero')\n",
    "elif ((lado1 != lado2) and (lado2 != lado3)): # todos os lados diferentes\n",
    "    print('escaleno')\n",
    "else:\n",
    "    print('isosceles')"
   ]
  },
  {
   "cell_type": "code",
   "execution_count": null,
   "metadata": {},
   "outputs": [
    {
     "name": "stdout",
     "output_type": "stream",
     "text": [
      "A letra gh é uma consoante\n"
     ]
    }
   ],
   "source": [
    "letra = input('Digite uma letra:')\n",
    "if letra == 'a' or letra == 'e' or letra == 'i' or letra == 'o' or letra == 'u':\n",
    "    print(f'A letra {letra} é uma vogal')\n",
    "elif letra == '1' or letra == '2' or letra == '3' or letra == '4' or letra == '5' or letra == '6' or letra == '7' or letra == '8' or letra == '9' or letra == '0':\n",
    "    print(f'A letra {letra} é um numero')\n",
    "else:\n",
    "    print(f'A letra {letra} é uma consoante')"
   ]
  },
  {
   "cell_type": "markdown",
   "metadata": {},
   "source": [
    "07/03/2024 - Estrutura condicional aninhada / match case"
   ]
  },
  {
   "cell_type": "code",
   "execution_count": 5,
   "metadata": {},
   "outputs": [
    {
     "name": "stdout",
     "output_type": "stream",
     "text": [
      "Você não pode votar\n"
     ]
    }
   ],
   "source": [
    "# pode ir colocando um if dentro do outro infinitamente\n",
    "idade = int(input('Digite sua idade:'))\n",
    "if idade >= 18 and idade <= 70:\n",
    "    print('Você é obrigado a votar')\n",
    "else:\n",
    "    if idade < 16:\n",
    "        print('Você não pode votar')\n",
    "    else:\n",
    "        if idade >= 16 or idade > 70:\n",
    "            print('Seu voto é facultativo')"
   ]
  },
  {
   "cell_type": "code",
   "execution_count": 3,
   "metadata": {},
   "outputs": [
    {
     "name": "stdout",
     "output_type": "stream",
     "text": [
      "56 * 89 = 4984\n"
     ]
    }
   ],
   "source": [
    "# codigo lento\n",
    "n1 = int(input('Digite o primiro número:'))\n",
    "n2 = int(input('Digite o segundo número:'))\n",
    "op = input('Digite uma operação (+ - * / ** % //):')\n",
    "if op == '+':\n",
    "    print(f'{n1} + {n2} =', n1 + n2)\n",
    "if op == '-':\n",
    "    print(f'{n1} - {n2} =', n1 - n2)\n",
    "if op == '*':\n",
    "    print(f'{n1} * {n2} =', n1 * n2)\n",
    "if op == '/':\n",
    "    print(f'{n1} / {n2} =', n1 / n2)\n",
    "if op == '**':\n",
    "    print(f'{n1} ** {n2} =', n1 ** n2)\n",
    "if op == '%':\n",
    "    print(f'{n1} % {n2} =', n1 % n2)\n",
    "if op == '//':\n",
    "    print(f'{n1} // {n2} =', n1 // n2)"
   ]
  },
  {
   "cell_type": "code",
   "execution_count": 2,
   "metadata": {},
   "outputs": [
    {
     "name": "stdout",
     "output_type": "stream",
     "text": [
      "4 + 6 = 10\n"
     ]
    }
   ],
   "source": [
    "# mais compacto\n",
    "n1 = int(input('Digite o primiro número:'))\n",
    "n2 = int(input('Digite o segundo número:'))\n",
    "op = input('Digite uma operação (+ - * / ** //):')\n",
    "match op:\n",
    "    case '+':\n",
    "        print(f'{n1} + {n2} =', n1 + n2)\n",
    "    case '-':\n",
    "        print(f'{n1} - {n2} =', n1 - n2)\n",
    "    case '*':\n",
    "        print(f'{n1} * {n2} =', n1 * n2)\n",
    "    case '/':\n",
    "        print(f'{n1} / {n2} =', n1 / n2)\n",
    "    case '**':\n",
    "        print(f'{n1} ** {n2} =', n1 ** n2)\n",
    "    case '%':\n",
    "        print(f'{n1} % {n2} =', n1 % n2)\n",
    "    case '//':\n",
    "        print(f'{n1} // {n2} =', n1 // n2)\n",
    "    case _ : # é igual ao else do if\n",
    "        print('Operador digitado invalido')"
   ]
  },
  {
   "cell_type": "code",
   "execution_count": null,
   "metadata": {},
   "outputs": [],
   "source": [
    "# .upper() deixa tudo em maiusculo\n",
    "# .lower() deixa tudo em minusculo\n",
    "# capitalize deixa o primeiro caracter em maiusculo\n",
    "# windows + . da pra botar emoji"
   ]
  },
  {
   "cell_type": "markdown",
   "metadata": {},
   "source": [
    "08/03/2024 - Laço de repetição - While"
   ]
  },
  {
   "cell_type": "code",
   "execution_count": null,
   "metadata": {},
   "outputs": [],
   "source": [
    "# errado, mt extenso e para numero de repetições muito altos é impossivel fazer\n",
    "print('Eu vou prestar atenção na aula')\n",
    "print('Eu vou prestar atenção na aula')\n",
    "print('Eu vou prestar atenção na aula')\n",
    "print('Eu vou prestar atenção na aula')\n",
    "print('Eu vou prestar atenção na aula')"
   ]
  },
  {
   "cell_type": "code",
   "execution_count": 3,
   "metadata": {},
   "outputs": [],
   "source": [
    "# não faz nada\n",
    "x = 1\n",
    "while x == 10:\n",
    "    print('Eu vou prestar atenção na aula')\n",
    "print('FIM')"
   ]
  },
  {
   "cell_type": "code",
   "execution_count": null,
   "metadata": {},
   "outputs": [],
   "source": [
    "# repete infinitamente\n",
    "x = 1\n",
    "while x == 1:\n",
    "    print('Eu vou prestar atenção na aula')\n",
    "print('FIM')"
   ]
  },
  {
   "cell_type": "code",
   "execution_count": 9,
   "metadata": {},
   "outputs": [
    {
     "name": "stdout",
     "output_type": "stream",
     "text": [
      "Eu vou prestar atenção na aula\n",
      "Eu vou prestar atenção na aula\n",
      "Eu vou prestar atenção na aula\n",
      "Eu vou prestar atenção na aula\n",
      "Eu vou prestar atenção na aula\n",
      "Eu vou prestar atenção na aula\n",
      "Eu vou prestar atenção na aula\n",
      "Eu vou prestar atenção na aula\n",
      "Eu vou prestar atenção na aula\n",
      "Eu vou prestar atenção na aula\n",
      "FIM\n"
     ]
    }
   ],
   "source": [
    "x = 1\n",
    "while x <= 10:\n",
    "    print('Eu vou prestar atenção na aula')\n",
    "    x += 1 # contador # x = x + 1\n",
    "print('FIM')"
   ]
  },
  {
   "cell_type": "code",
   "execution_count": 3,
   "metadata": {},
   "outputs": [
    {
     "name": "stdout",
     "output_type": "stream",
     "text": [
      "10\n",
      "9\n",
      "8\n",
      "7\n",
      "6\n",
      "5\n",
      "4\n",
      "3\n",
      "2\n",
      "1\n",
      "0\n",
      "Feliz ano novo!\n"
     ]
    }
   ],
   "source": [
    "# contagem regressiva\n",
    "import time # importa uma biblioteca de tempo\n",
    "x = 10\n",
    "while x >= 0:\n",
    "    print(x)\n",
    "    x -= 1 # contador # x = x - 1\n",
    "    time.sleep(1) # dando pausa de 1s na execução\n",
    "print('Feliz ano novo!')"
   ]
  },
  {
   "cell_type": "code",
   "execution_count": 21,
   "metadata": {},
   "outputs": [
    {
     "name": "stdout",
     "output_type": "stream",
     "text": [
      "Seja bem vindo, fgnjghbj\n",
      "Seja bem vindo, rvgfygr\n",
      "Seja bem vindo, gfvjddf\n",
      "Seja bem vindo, svkugvhjjg\n",
      "Seja bem vindo, sair\n"
     ]
    }
   ],
   "source": [
    "texto = '' # string vazia\n",
    "while texto != 'sair':\n",
    "    texto = input('Digite seu nome (Digite \"sair\" para terminar)')\n",
    "    print(f'Seja bem vindo, {texto}')"
   ]
  },
  {
   "cell_type": "code",
   "execution_count": 1,
   "metadata": {},
   "outputs": [
    {
     "name": "stdout",
     "output_type": "stream",
     "text": [
      "Você hackeou a Rede\n",
      "FIM\n"
     ]
    }
   ],
   "source": [
    "# hackeando a Rede\n",
    "senha_senai = '12345'\n",
    "tentativas = 0\n",
    "while True:\n",
    "    senha = input('Qual é a senha? \"Desisto\" para sair')\n",
    "    if senha == senha_senai:\n",
    "        print('Você hackeou a Rede')\n",
    "        break # para parar o while\n",
    "    elif senha == 'Desisto':\n",
    "        break\n",
    "    else:\n",
    "        tentativas += 1\n",
    "        if tentativas == 3: # limite de tentativas\n",
    "            print('Você esta preso tentando hackear a Rede')\n",
    "            break\n",
    "print('FIM')"
   ]
  },
  {
   "cell_type": "markdown",
   "metadata": {},
   "source": [
    "21/03/2024 - Revisão de While"
   ]
  },
  {
   "cell_type": "code",
   "execution_count": 2,
   "metadata": {},
   "outputs": [
    {
     "name": "stdout",
     "output_type": "stream",
     "text": [
      "FIM\n"
     ]
    }
   ],
   "source": [
    "resp = 'S'\n",
    "while resp == 'S':\n",
    "    resp = input('Deseja continuar? [S/N]')\n",
    "print('FIM')"
   ]
  },
  {
   "cell_type": "code",
   "execution_count": 16,
   "metadata": {},
   "outputs": [
    {
     "name": "stdout",
     "output_type": "stream",
     "text": [
      "valor total R$15.00, quantidade de produtos 4\n"
     ]
    }
   ],
   "source": [
    "# mercado\n",
    "quantidade = 0\n",
    "soma = 0\n",
    "while True: # loop infinito\n",
    "    valor = float(input('Digite o valor do produto [-1 para encerrar]'))\n",
    "    if valor == -1:\n",
    "        break # para o loop\n",
    "    soma += valor\n",
    "    quantidade += 1\n",
    "print(f'valor total R${soma:.2f}, quantidade de produtos {c}')"
   ]
  },
  {
   "cell_type": "code",
   "execution_count": 26,
   "metadata": {},
   "outputs": [
    {
     "name": "stdout",
     "output_type": "stream",
     "text": [
      "-=-=-=-=-=-=-=-=-=-=-=-=-=-=-=-=-=-=-=-=-=-=-=-=-=-=-=-=-=-=-=-=-=-\n",
      "             😁😉      JOGO DA ADIVINHAÇÃO      😜😆             \n",
      "=-=-=-=-=-=-=-=-=-=-=-=-=-=-=-=-=-=-=-=-=-=-=-=-=-=-=-=-=-=-=-=-=-=\n",
      "45 é menor que o numero\n",
      "78 é menor que o numero\n",
      "56 é menor que o numero\n",
      "90 é maior que o numero\n",
      "80 é menor que o numero\n",
      "78 é menor que o numero\n",
      "Você acertou o numero era 85\n"
     ]
    }
   ],
   "source": [
    "# JOGO DA ADIVINHAÇÃO\n",
    "import random # importa a biblioteca random\n",
    "numero = random.randint(1, 100) # sorteia um numero aleatorio(randômico)\n",
    "valor = 0\n",
    "print('-=-=-=-=-=-=-=-=-=-=-=-=-=-=-=-=-=-=-=-=-=-=-=-=-=-=-=-=-=-=-=-=-=-')\n",
    "print('             😁😉      JOGO DA ADIVINHAÇÃO      😜😆             ')\n",
    "print('=-=-=-=-=-=-=-=-=-=-=-=-=-=-=-=-=-=-=-=-=-=-=-=-=-=-=-=-=-=-=-=-=-=')\n",
    "while valor != numero:\n",
    "    valor = int(input('Digite um numero'))\n",
    "    if valor > numero:\n",
    "        print(f'{valor} é maior que o numero')\n",
    "    elif valor < numero:\n",
    "        print(f'{valor} é menor que o numero')\n",
    "print(f'Você acertou o numero era {numero}')"
   ]
  },
  {
   "cell_type": "code",
   "execution_count": 25,
   "metadata": {},
   "outputs": [
    {
     "name": "stdout",
     "output_type": "stream",
     "text": [
      "-=-=-=-=-=-=-=-=-=-=-=-=-=-=-=-=-=-=-=-=-=-=-=-=-=-=-=-=-=-=-=-=-=-\n",
      "             😁😉      JOGO DA ADIVINHAÇÃO      😜😆             \n",
      "=-=-=-=-=-=-=-=-=-=-=-=-=-=-=-=-=-=-=-=-=-=-=-=-=-=-=-=-=-=-=-=-=-=\n"
     ]
    },
    {
     "name": "stdout",
     "output_type": "stream",
     "text": [
      "Você chutou 67. Tente um número 👇\n",
      "Você chutou 56. Tente um número 👇\n",
      "Você chutou 34. Tente um número 👆\n",
      "Você chutou 37. Tente um número 👆\n",
      "Você chutou 45. Tente um número 👇\n",
      "Você chutou 40. Tente um número 👆\n",
      "Você chutou 38. Tente um número 👆\n",
      "Você chutou 44. Tente um número 👇\n",
      "Você chutou 42. Tente um número 👆\n",
      "Você chutou 43. Parabens você acertou 👏👏👏\n"
     ]
    }
   ],
   "source": [
    "# JOGO DA ADIVINHAÇÃO (correção do professor)\n",
    "import random # importa a biblioteca random\n",
    "nrSorteado = random.randint(1, 100) # sorteia um numero aleatorio(randômico)\n",
    "print('-=-=-=-=-=-=-=-=-=-=-=-=-=-=-=-=-=-=-=-=-=-=-=-=-=-=-=-=-=-=-=-=-=-')\n",
    "print('             😁😉      JOGO DA ADIVINHAÇÃO      😜😆             ')\n",
    "print('=-=-=-=-=-=-=-=-=-=-=-=-=-=-=-=-=-=-=-=-=-=-=-=-=-=-=-=-=-=-=-=-=-=')\n",
    "acertou = False\n",
    "while acertou == False:\n",
    "    chute = int(input('Digite um número entre 1 e 100:'))\n",
    "    if chute == nrSorteado:\n",
    "        print(f'Você chutou {chute}. Parabens você acertou 👏👏👏')\n",
    "        acertou = True\n",
    "    elif chute > nrSorteado:\n",
    "        print(f'Você chutou {chute}. Tente um número 👇')\n",
    "    else:\n",
    "        print(f'Você chutou {chute}. Tente um número 👆')"
   ]
  },
  {
   "cell_type": "markdown",
   "metadata": {},
   "source": [
    "22/03/2024 - For"
   ]
  },
  {
   "cell_type": "code",
   "execution_count": 4,
   "metadata": {},
   "outputs": [
    {
     "name": "stdout",
     "output_type": "stream",
     "text": [
      "1\n",
      "2\n",
      "3\n",
      "4\n",
      "5\n",
      "6\n",
      "7\n",
      "8\n",
      "9\n",
      "10\n"
     ]
    }
   ],
   "source": [
    "# longo e desnecessario\n",
    "# tem q usar contador\n",
    "x = 1\n",
    "while x <= 10:\n",
    "    print(x)\n",
    "    x += 1"
   ]
  },
  {
   "cell_type": "code",
   "execution_count": 5,
   "metadata": {},
   "outputs": [
    {
     "name": "stdout",
     "output_type": "stream",
     "text": [
      "0\n",
      "1\n",
      "2\n",
      "3\n",
      "4\n",
      "5\n",
      "6\n",
      "7\n",
      "8\n",
      "9\n"
     ]
    }
   ],
   "source": [
    "# forma certa quando se sabe a quantidade de repetições\n",
    "# mas imprime um número a menos pois o computador começa do 0\n",
    "for x in range(10):\n",
    "    print(x)"
   ]
  },
  {
   "cell_type": "code",
   "execution_count": 2,
   "metadata": {},
   "outputs": [
    {
     "name": "stdout",
     "output_type": "stream",
     "text": [
      "Entregar os notebooks\n",
      "1\n",
      "Pegar o notebook 1\n",
      "Pegar o mouse 1\n",
      "Levar notebook até o(a) bgfjgbvf\n",
      "2\n",
      "Pegar o notebook 2\n",
      "Pegar o mouse 2\n",
      "Levar notebook até o(a) rhfbfjf\n",
      "3\n",
      "Não pegar o notebook 3\n",
      "Começar a aula\n"
     ]
    }
   ],
   "source": [
    "alunos = int(input('Número de alunos na sala'))\n",
    "print('Entregar os notebooks')\n",
    "for nr in range(alunos):\n",
    "    nr += 1\n",
    "    print(nr)\n",
    "    nome = input(f'Quem é o nº {nr}?')\n",
    "    presente = input(f'O(a) {nome} veio para a escola? [S/N]')\n",
    "    if presente == 'S':\n",
    "        print(f'Pegar o notebook {nr}')\n",
    "        print(f'Pegar o mouse {nr}')\n",
    "        print(f'Levar notebook até o(a) {nome}')\n",
    "    else:\n",
    "        print(f'Não pegar o notebook {nr}')\n",
    "print('Começar a aula')"
   ]
  },
  {
   "cell_type": "code",
   "execution_count": 4,
   "metadata": {},
   "outputs": [
    {
     "name": "stdout",
     "output_type": "stream",
     "text": [
      "5\n",
      "6\n",
      "7\n",
      "8\n",
      "9\n"
     ]
    }
   ],
   "source": [
    "for x in range(5, 10): # pode colocar o valor inicial e o final\n",
    "    print(x)"
   ]
  },
  {
   "cell_type": "code",
   "execution_count": 5,
   "metadata": {},
   "outputs": [
    {
     "name": "stdout",
     "output_type": "stream",
     "text": [
      "5\n",
      "9\n",
      "13\n",
      "17\n",
      "21\n",
      "25\n",
      "29\n"
     ]
    }
   ],
   "source": [
    "for x in range(5, 30, 4): # pode colocar o valor inicial, final e o passo\n",
    "    print(x)"
   ]
  },
  {
   "cell_type": "code",
   "execution_count": 18,
   "metadata": {},
   "outputs": [
    {
     "name": "stdout",
     "output_type": "stream",
     "text": [
      "5 x 0 = 0\n",
      "5 x 1 = 5\n",
      "5 x 2 = 10\n",
      "5 x 3 = 15\n",
      "5 x 4 = 20\n",
      "5 x 5 = 25\n",
      "5 x 6 = 30\n",
      "5 x 7 = 35\n",
      "5 x 8 = 40\n",
      "5 x 9 = 45\n",
      "5 x 10 = 50\n"
     ]
    }
   ],
   "source": [
    "nr = int(input('Número da tabuada'))\n",
    "for x in range(11):\n",
    "    print(f'{nr} x {x} = {nr * x}')"
   ]
  },
  {
   "cell_type": "code",
   "execution_count": 17,
   "metadata": {},
   "outputs": [
    {
     "name": "stdout",
     "output_type": "stream",
     "text": [
      "S\n",
      "E\n",
      "S\n",
      "I\n",
      "/\n",
      "S\n",
      "E\n",
      "N\n",
      "A\n",
      "I\n"
     ]
    }
   ],
   "source": [
    "for letra in 'SESI/SENAI':\n",
    "    print(letra)"
   ]
  },
  {
   "cell_type": "code",
   "execution_count": 15,
   "metadata": {},
   "outputs": [
    {
     "name": "stdout",
     "output_type": "stream",
     "text": [
      "0\n",
      "1\n",
      "2\n",
      "3\n",
      "4\n",
      "5\n",
      "6\n",
      "7\n",
      "8\n",
      "9\n"
     ]
    }
   ],
   "source": [
    "for x in range(100):\n",
    "    if x == 10:\n",
    "        break\n",
    "    print(x)"
   ]
  },
  {
   "cell_type": "markdown",
   "metadata": {},
   "source": [
    "28/03/2024 - Variáveis Compostas - Vetores/Listas"
   ]
  },
  {
   "cell_type": "code",
   "execution_count": 5,
   "metadata": {},
   "outputs": [
    {
     "name": "stdout",
     "output_type": "stream",
     "text": [
      "['Maçã', 'Banana', 'Abacaxi', 'Uva']\n",
      "Banana\n"
     ]
    }
   ],
   "source": [
    "frutas = ['Maçã', 'Banana', 'Abacaxi', 'Uva']\n",
    "print(frutas)\n",
    "print(frutas[1])"
   ]
  },
  {
   "cell_type": "code",
   "execution_count": 6,
   "metadata": {},
   "outputs": [],
   "source": [
    "# declaração de uma lista vazia\n",
    "lista_vazia = []\n",
    "\n",
    "# declaração de uma lista de números\n",
    "numeros = [5, 8, 10, 40, 3]\n",
    "\n",
    "# declaração de uma lista de strings\n",
    "nomes = ['Ana', 'João', 'Maria']\n",
    "\n",
    "# declarção de uma lista mista\n",
    "lista_mista = [1, 'teste', True, 3,5]"
   ]
  },
  {
   "cell_type": "code",
   "execution_count": 19,
   "metadata": {},
   "outputs": [
    {
     "name": "stdout",
     "output_type": "stream",
     "text": [
      "['Maçã', 'Banana', 'Abacaxi', 'Melancia']\n"
     ]
    }
   ],
   "source": [
    "frutas = ['Maçã', 'Banana', 'Abacaxi', 'Uva']\n",
    "\n",
    "# Alterando o valor de um item da lista\n",
    "frutas[3] = 'Melancia'\n",
    "print(frutas)\n"
   ]
  },
  {
   "cell_type": "code",
   "execution_count": 18,
   "metadata": {},
   "outputs": [
    {
     "name": "stdout",
     "output_type": "stream",
     "text": [
      "['Maçã', 'Banana', 'Abacaxi', 'Uva', 'Laranja']\n",
      "['Maçã', 'Banana', 'Morango', 'Abacaxi', 'Uva', 'Laranja']\n"
     ]
    }
   ],
   "source": [
    "frutas = ['Maçã', 'Banana', 'Abacaxi', 'Uva']\n",
    "\n",
    "# Incluindo um novo item no final da lista\n",
    "frutas.append('Laranja')\n",
    "print(frutas)\n",
    "\n",
    "# Incluindo um novo item em umaposição especifica\n",
    "frutas.insert(2, 'Morango')\n",
    "print(frutas)"
   ]
  },
  {
   "cell_type": "code",
   "execution_count": 30,
   "metadata": {},
   "outputs": [
    {
     "name": "stdout",
     "output_type": "stream",
     "text": [
      "['Maçã', 'Banana', 'Morango', 'Uva', 'Laranja']\n"
     ]
    }
   ],
   "source": [
    "# excluindo itens da lista\n",
    "frutas = ['Maçã', 'Banana', 'Morango', 'Abacaxi', 'Uva', 'Laranja']\n",
    "del frutas[3]\n",
    "print(frutas)"
   ]
  },
  {
   "cell_type": "code",
   "execution_count": 29,
   "metadata": {},
   "outputs": [
    {
     "name": "stdout",
     "output_type": "stream",
     "text": [
      "['Maçã', 'Banana', 'Morango', 'Uva', 'Laranja']\n"
     ]
    }
   ],
   "source": [
    "# excluindo itens da lista\n",
    "frutas = ['Maçã', 'Banana', 'Morango', 'Abacaxi', 'Uva', 'Laranja']\n",
    "frutas.pop(3)\n",
    "print(frutas)"
   ]
  },
  {
   "cell_type": "code",
   "execution_count": 27,
   "metadata": {},
   "outputs": [
    {
     "name": "stdout",
     "output_type": "stream",
     "text": [
      "['Maçã', 'Banana', 'Morango', 'Uva', 'Laranja']\n"
     ]
    }
   ],
   "source": [
    "# excluindo itens da lista\n",
    "frutas = ['Maçã', 'Banana', 'Morango', 'Abacaxi', 'Uva', 'Laranja']\n",
    "frutas.remove('Abacaxi')\n",
    "print(frutas)"
   ]
  },
  {
   "cell_type": "code",
   "execution_count": 39,
   "metadata": {},
   "outputs": [
    {
     "name": "stdout",
     "output_type": "stream",
     "text": [
      "Melancia\n",
      "['Maçã', 'Banana', 'Morango', 'Abacaxi']\n",
      "['Maçã', 'Banana', 'Morango', 'Abacaxi', 'Melancia', 'Uva', 'Laranja']\n",
      "Laranja\n",
      "7\n",
      "['Abacaxi', 'Banana', 'Laranja', 'Maçã', 'Melancia', 'Morango', 'Uva']\n",
      "['Uva', 'Morango', 'Melancia', 'Maçã', 'Laranja', 'Banana', 'Abacaxi']\n"
     ]
    }
   ],
   "source": [
    "# acessando os itens da lista\n",
    "frutas = ['Maçã', 'Banana', 'Morango', 'Abacaxi', 'Melancia', 'Uva', 'Laranja']\n",
    "print(frutas[4]) # posição especifica\n",
    "print(frutas[0:4]) # da posição 0 pega 4 itens\n",
    "print(frutas[0:]) # da posição 0 até o ultimo\n",
    "print(frutas[-1]) # número de itens do fim pro inicio\n",
    "print(len(frutas)) # total de itens da lista\n",
    "frutas.sort()\n",
    "print(frutas) # ordenando lista em ordem crescente\n",
    "frutas.reverse()\n",
    "print(frutas) # ordenando lista em ordem decrescente"
   ]
  },
  {
   "cell_type": "markdown",
   "metadata": {},
   "source": [
    "04/04/2024 - Iteração em lista"
   ]
  },
  {
   "cell_type": "code",
   "execution_count": 3,
   "metadata": {},
   "outputs": [
    {
     "name": "stdout",
     "output_type": "stream",
     "text": [
      "É uma vogal\n"
     ]
    }
   ],
   "source": [
    "# criando uma lista de vogais\n",
    "vogais = ['a', 'e', 'i', 'o', 'u']\n",
    "if 'o' in vogais:\n",
    "    print('É uma vogal')\n",
    "else:\n",
    "    print('Não é uma vogal')"
   ]
  },
  {
   "cell_type": "code",
   "execution_count": 18,
   "metadata": {},
   "outputs": [
    {
     "name": "stdout",
     "output_type": "stream",
     "text": [
      "O caractere 345 não é uma letra\n"
     ]
    }
   ],
   "source": [
    "# recebendo um caractere digitado pelo usuario\n",
    "letra = input('Informe um caractere')\n",
    "vogais = ['a', 'e', 'i', 'o', 'u']\n",
    "consoantes = ['b', 'c', 'd', 'f', 'g', 'h', 'j', 'k', 'l', 'm', 'n', 'p', 'q', 'r', 's', 't', 'v', 'w', 'x', 'y', 'z']\n",
    "numeros = ['1', '2', '3', '4', '5', '6', '7', '8', '9', '0']\n",
    "# lemos da seguinte forma:\n",
    "# SE a letra em MINUSCULO ESTIVER na lista vogais ENTÃO\n",
    "if letra.lower() in vogais:\n",
    "    print(f'O caractere {letra} é uma vogal')\n",
    "elif letra.lower() in consoantes:\n",
    "    print(f'O caractere {letra} é uma consoante')\n",
    "elif letra in numeros:\n",
    "    print(f'O caractere {letra} é um numero')\n",
    "else:\n",
    "    print(f'O caractere {letra} não é uma letra')\n",
    "# o metodo .lower() deixa todas as letras digitadas como minusculo\n",
    "# o metodo .upper() deixa todas as letras digitadas como maiusculo"
   ]
  },
  {
   "cell_type": "code",
   "execution_count": 26,
   "metadata": {},
   "outputs": [
    {
     "name": "stdout",
     "output_type": "stream",
     "text": [
      "O caractere 2353447 é um numero\n"
     ]
    }
   ],
   "source": [
    "# com numeros maiores\n",
    "letra = input('Informe um caractere')\n",
    "vogais = ['a', 'e', 'i', 'o', 'u']\n",
    "consoantes = ['b', 'c', 'd', 'f', 'g', 'h', 'j', 'k', 'l', 'm', 'n', 'p', 'q', 'r', 's', 't', 'v', 'w', 'x', 'y', 'z']\n",
    "numeros = ['1', '2', '3', '4', '5', '6', '7', '8', '9', '0']\n",
    "if letra.lower() in vogais:\n",
    "    print(f'O caractere {letra} é uma vogal')\n",
    "elif letra.lower() in consoantes:\n",
    "    print(f'O caractere {letra} é uma consoante')\n",
    "elif letra[1] in numeros:\n",
    "    print(f'O caractere {letra} é um numero')\n",
    "else:\n",
    "    print(f'O caractere {letra} não é uma letra')"
   ]
  },
  {
   "cell_type": "code",
   "execution_count": 28,
   "metadata": {},
   "outputs": [
    {
     "name": "stdout",
     "output_type": "stream",
     "text": [
      "Pelé\n",
      "Maradona\n",
      "Messi\n",
      "Cristiano Ronaldo\n"
     ]
    }
   ],
   "source": [
    "import time\n",
    "listaNomes = ['Pelé', 'Maradona', 'Messi', 'Cristiano Ronaldo']\n",
    "for nome in listaNomes:\n",
    "    print(nome) # imprime cada item da lista\n",
    "    time.sleep(1)"
   ]
  },
  {
   "cell_type": "code",
   "execution_count": 33,
   "metadata": {},
   "outputs": [
    {
     "name": "stdout",
     "output_type": "stream",
     "text": [
      "26\n",
      "26\n"
     ]
    }
   ],
   "source": [
    "listaNr = [4, 6, 2, 5, 9]\n",
    "soma = 0\n",
    "for nr in listaNr:\n",
    "    soma += nr\n",
    "print(soma)\n",
    "# esse codigo faz a mesma coisa que o sum()\n",
    "soma = sum(listaNr)\n",
    "print(soma)"
   ]
  },
  {
   "cell_type": "code",
   "execution_count": 34,
   "metadata": {},
   "outputs": [
    {
     "name": "stdout",
     "output_type": "stream",
     "text": [
      "A fruta Maçã está na posição 0\n",
      "A fruta Banana está na posição 1\n",
      "A fruta Abacaxi está na posição 2\n",
      "A fruta uva está na posição 3\n"
     ]
    }
   ],
   "source": [
    "listaFrutas = ['Maçã', 'Banana', 'Abacaxi', 'uva']\n",
    "for pos, fruta in enumerate(listaFrutas): # vê a posição e o nome de cada item da lista\n",
    "    print(f'A fruta {fruta} está na posição {pos}')"
   ]
  },
  {
   "cell_type": "code",
   "execution_count": 36,
   "metadata": {},
   "outputs": [
    {
     "name": "stdout",
     "output_type": "stream",
     "text": [
      "Celular\n",
      "Notebook\n",
      "TV\n",
      "Tablet\n",
      "Headset\n"
     ]
    }
   ],
   "source": [
    "produtos = 'Celular,Notebook,TV,Tablet,Headset'\n",
    "listaProdutos = produtos.split(',') # transforma em lista com o separador que estiver nos parenteses\n",
    "for produto in listaProdutos:\n",
    "    print(produto)"
   ]
  },
  {
   "cell_type": "code",
   "execution_count": 39,
   "metadata": {},
   "outputs": [
    {
     "name": "stdout",
     "output_type": "stream",
     "text": [
      "S\n",
      "E\n",
      "N\n",
      "A\n",
      "I\n",
      "S\n",
      "I\n"
     ]
    }
   ],
   "source": [
    "palavra = 'SENAI'\n",
    "for letra in palavra:\n",
    "    print(letra)\n",
    "print(palavra[0])\n",
    "print(palavra[-1])"
   ]
  },
  {
   "cell_type": "markdown",
   "metadata": {},
   "source": [
    "05/04/2024 - Revisão:"
   ]
  },
  {
   "cell_type": "code",
   "execution_count": 6,
   "metadata": {},
   "outputs": [
    {
     "name": "stdout",
     "output_type": "stream",
     "text": [
      "1º ngjnhjjkgb\n",
      "2º gjnbbjtbvjf\n",
      "3º mfnjbhgg\n",
      "4º fffgrfd\n"
     ]
    }
   ],
   "source": [
    "# criando uma lista vazia\n",
    "listaComidas = []\n",
    "# laço de repetição sem um nr de execução definida\n",
    "while True:\n",
    "    # recebendo informação do usuario e armazenando em uma variável\n",
    "    comida = input('Digite a comida que você mais gosta')\n",
    "    # inserindo o valor da variavel no final da nossa lista\n",
    "    listaComidas.append(comida)\n",
    "    # obtendo a resposta do usuario se deseja continuar\n",
    "    resp = input('Deseja continuar? [S/N]')\n",
    "    # verificando condição da resposta dele, se for N ou n sair do laço\n",
    "    if resp in 'Nn':\n",
    "        # parando o laço de repetição while\n",
    "        break\n",
    "# fora do while - após finalizar sua execução e encontrar o break\n",
    "# laço de repetição para exibir os itens da e suas posições\n",
    "for pos, comida in enumerate(listaComidas):\n",
    "    # exibir as variáveis de cada item da lista\n",
    "    print(f'{pos+1}º {comida}')"
   ]
  },
  {
   "cell_type": "markdown",
   "metadata": {},
   "source": [
    "11/04/2024 - Funções"
   ]
  },
  {
   "cell_type": "code",
   "execution_count": 6,
   "metadata": {},
   "outputs": [
    {
     "name": "stdout",
     "output_type": "stream",
     "text": [
      "--------------------\n",
      "    SESI / SENAI\n",
      "--------------------\n"
     ]
    }
   ],
   "source": [
    "print('-' * 20)\n",
    "print('    SESI / SENAI')\n",
    "print('-' * 20)"
   ]
  },
  {
   "cell_type": "code",
   "execution_count": null,
   "metadata": {},
   "outputs": [],
   "source": [
    "print('-' * 20) # muito demorada a manutenção tem que substituir em todos\n",
    "print('    SESI / SENAI')\n",
    "print('-' * 20)\n",
    "print('-' * 20)\n",
    "print('-' * 20)\n",
    "print('-' * 20)\n",
    "print('-' * 20)"
   ]
  },
  {
   "cell_type": "code",
   "execution_count": 15,
   "metadata": {},
   "outputs": [
    {
     "name": "stdout",
     "output_type": "stream",
     "text": [
      "--------------------\n",
      "    SESI / SENAI\n",
      "--------------------\n"
     ]
    }
   ],
   "source": [
    "def Linha():\n",
    "    print('-' * 20)\n",
    "Linha()\n",
    "print('    SESI / SENAI')\n",
    "Linha()"
   ]
  },
  {
   "cell_type": "code",
   "execution_count": null,
   "metadata": {},
   "outputs": [],
   "source": [
    "def Linha():\n",
    "    print('-' * 20) # rapida manutenção só substituir aqui\n",
    "Linha()\n",
    "print('    SESI / SENAI')\n",
    "Linha()\n",
    "Linha()\n",
    "Linha()\n",
    "Linha()\n",
    "Linha()"
   ]
  },
  {
   "cell_type": "code",
   "execution_count": 16,
   "metadata": {},
   "outputs": [
    {
     "name": "stdout",
     "output_type": "stream",
     "text": [
      "--------------------\n",
      "    SESI / SENAI\n",
      "--------------------\n"
     ]
    }
   ],
   "source": [
    "def Cabecalho():\n",
    "    print('-' * 20)\n",
    "    print('    SESI / SENAI')\n",
    "    print('-' * 20)\n",
    "Cabecalho()"
   ]
  },
  {
   "cell_type": "code",
   "execution_count": 19,
   "metadata": {},
   "outputs": [
    {
     "name": "stdout",
     "output_type": "stream",
     "text": [
      "--------------------\n",
      "    SESI / SENAI\n",
      "--------------------\n"
     ]
    }
   ],
   "source": [
    "def Linha(): # criando uma função para alimentar a outra função\n",
    "    print('-' * 20)\n",
    "def Cabecalho():\n",
    "    Linha()\n",
    "    print('    SESI / SENAI')\n",
    "    Linha()\n",
    "Cabecalho()"
   ]
  },
  {
   "cell_type": "code",
   "execution_count": 26,
   "metadata": {},
   "outputs": [
    {
     "name": "stdout",
     "output_type": "stream",
     "text": [
      "djvbhjfv tenha um bom dia!\n",
      "fbdjbvhbf tenha um bom dia!\n",
      "hdfbrj tenha um bom dia!\n"
     ]
    }
   ],
   "source": [
    "nome = ''\n",
    "def Saudacao():\n",
    "    nome = input('Digite seu nome')\n",
    "    print(f'{nome} tenha um bom dia!')\n",
    "Saudacao()\n",
    "Saudacao()\n",
    "Saudacao()"
   ]
  },
  {
   "cell_type": "code",
   "execution_count": 28,
   "metadata": {},
   "outputs": [
    {
     "name": "stdout",
     "output_type": "stream",
     "text": [
      "dfnvjrfng tenha um bom dia!\n",
      "rhbrdgrjd tenha um bom dia!\n",
      "bdfvbrhf tenha um bom dia!\n"
     ]
    }
   ],
   "source": [
    "def Saudacao():\n",
    "    nome = input('Digite seu nome')\n",
    "    print(f'{nome} tenha um bom dia!')\n",
    "for i in range(3):\n",
    "    Saudacao()"
   ]
  },
  {
   "cell_type": "code",
   "execution_count": 35,
   "metadata": {},
   "outputs": [
    {
     "name": "stdout",
     "output_type": "stream",
     "text": [
      "--------------------\n",
      "SESI\n",
      "--------------------\n",
      "--------------------\n",
      "SENAI\n",
      "--------------------\n",
      "--------------------\n",
      "ESCOLA\n",
      "--------------------\n"
     ]
    }
   ],
   "source": [
    "def Cabecalho(texto):\n",
    "    print('-' * 20)\n",
    "    print(texto)\n",
    "    print('-' * 20)\n",
    "Cabecalho('SESI')\n",
    "Cabecalho('SENAI')\n",
    "Cabecalho('ESCOLA')"
   ]
  },
  {
   "cell_type": "code",
   "execution_count": 41,
   "metadata": {},
   "outputs": [
    {
     "name": "stdout",
     "output_type": "stream",
     "text": [
      "A soma de 10 + 5 = 15\n",
      "A soma de 478568576743672 + 18274876879903417827 = 18275355448480161499\n",
      "A soma de 79 + 80 = 159\n",
      "A soma de 10.5 + 37.4 = 47.9\n"
     ]
    }
   ],
   "source": [
    "def Soma(n1, n2):\n",
    "    res = n1 + n2\n",
    "    print(f'A soma de {n1} + {n2} = {res}')\n",
    "Soma(10, 5)\n",
    "Soma(478568576743672, 18274876879903417827)\n",
    "Soma(79, 80)\n",
    "Soma(10.5, 37.4)"
   ]
  },
  {
   "cell_type": "code",
   "execution_count": 45,
   "metadata": {},
   "outputs": [
    {
     "name": "stdout",
     "output_type": "stream",
     "text": [
      "O número 38567 é Impar\n",
      "O número 475658 é Par\n"
     ]
    }
   ],
   "source": [
    "def ParImpar(numero):\n",
    "    if numero % 2 == 0:\n",
    "        print(f'O número {numero} é Par')\n",
    "    else:\n",
    "        print(f'O número {numero} é Impar')\n",
    "ParImpar(37)\n",
    "ParImpar(102)"
   ]
  },
  {
   "cell_type": "code",
   "execution_count": 53,
   "metadata": {},
   "outputs": [
    {
     "name": "stdout",
     "output_type": "stream",
     "text": [
      "O número 345 é Impar\n",
      "O número 4457 é Impar\n"
     ]
    }
   ],
   "source": [
    "def ParImpar(numero): # recebe por parâmetro\n",
    "    if numero % 2 == 0:\n",
    "        print(f'O número {numero} é Par')\n",
    "    else:\n",
    "        print(f'O número {numero} é Impar')\n",
    "numero1 = int(input('Digite um numero'))\n",
    "ParImpar(numero1)\n",
    "numero2 = int(input('Digite um numero'))\n",
    "ParImpar(numero2)"
   ]
  },
  {
   "cell_type": "code",
   "execution_count": 58,
   "metadata": {},
   "outputs": [
    {
     "name": "stdout",
     "output_type": "stream",
     "text": [
      "9.0\n",
      "6.0\n"
     ]
    }
   ],
   "source": [
    "def Media(n1, n2):\n",
    "    res = (n1 + n2) / 2\n",
    "    return(res)\n",
    "# A variável resultado_media recebe o retorno da função média\n",
    "resultado_media = Media(10, 8)\n",
    "print(resultado_media)\n",
    "print(Media(10, 2))"
   ]
  },
  {
   "cell_type": "code",
   "execution_count": 63,
   "metadata": {},
   "outputs": [
    {
     "name": "stdout",
     "output_type": "stream",
     "text": [
      "0 x 0 = 0\n",
      "0 x 1 = 0\n",
      "0 x 2 = 0\n",
      "0 x 3 = 0\n",
      "0 x 4 = 0\n",
      "0 x 5 = 0\n",
      "0 x 6 = 0\n",
      "0 x 7 = 0\n",
      "0 x 8 = 0\n",
      "0 x 9 = 0\n",
      "0 x 10 = 0\n",
      "1 x 0 = 0\n",
      "1 x 1 = 1\n",
      "1 x 2 = 2\n",
      "1 x 3 = 3\n",
      "1 x 4 = 4\n",
      "1 x 5 = 5\n",
      "1 x 6 = 6\n",
      "1 x 7 = 7\n",
      "1 x 8 = 8\n",
      "1 x 9 = 9\n",
      "1 x 10 = 10\n",
      "2 x 0 = 0\n",
      "2 x 1 = 2\n",
      "2 x 2 = 4\n",
      "2 x 3 = 6\n",
      "2 x 4 = 8\n",
      "2 x 5 = 10\n",
      "2 x 6 = 12\n",
      "2 x 7 = 14\n",
      "2 x 8 = 16\n",
      "2 x 9 = 18\n",
      "2 x 10 = 20\n",
      "3 x 0 = 0\n",
      "3 x 1 = 3\n",
      "3 x 2 = 6\n",
      "3 x 3 = 9\n",
      "3 x 4 = 12\n",
      "3 x 5 = 15\n",
      "3 x 6 = 18\n",
      "3 x 7 = 21\n",
      "3 x 8 = 24\n",
      "3 x 9 = 27\n",
      "3 x 10 = 30\n",
      "4 x 0 = 0\n",
      "4 x 1 = 4\n",
      "4 x 2 = 8\n",
      "4 x 3 = 12\n",
      "4 x 4 = 16\n",
      "4 x 5 = 20\n",
      "4 x 6 = 24\n",
      "4 x 7 = 28\n",
      "4 x 8 = 32\n",
      "4 x 9 = 36\n",
      "4 x 10 = 40\n",
      "5 x 0 = 0\n",
      "5 x 1 = 5\n",
      "5 x 2 = 10\n",
      "5 x 3 = 15\n",
      "5 x 4 = 20\n",
      "5 x 5 = 25\n",
      "5 x 6 = 30\n",
      "5 x 7 = 35\n",
      "5 x 8 = 40\n",
      "5 x 9 = 45\n",
      "5 x 10 = 50\n",
      "6 x 0 = 0\n",
      "6 x 1 = 6\n",
      "6 x 2 = 12\n",
      "6 x 3 = 18\n",
      "6 x 4 = 24\n",
      "6 x 5 = 30\n",
      "6 x 6 = 36\n",
      "6 x 7 = 42\n",
      "6 x 8 = 48\n",
      "6 x 9 = 54\n",
      "6 x 10 = 60\n",
      "7 x 0 = 0\n",
      "7 x 1 = 7\n",
      "7 x 2 = 14\n",
      "7 x 3 = 21\n",
      "7 x 4 = 28\n",
      "7 x 5 = 35\n",
      "7 x 6 = 42\n",
      "7 x 7 = 49\n",
      "7 x 8 = 56\n",
      "7 x 9 = 63\n",
      "7 x 10 = 70\n",
      "8 x 0 = 0\n",
      "8 x 1 = 8\n",
      "8 x 2 = 16\n",
      "8 x 3 = 24\n",
      "8 x 4 = 32\n",
      "8 x 5 = 40\n",
      "8 x 6 = 48\n",
      "8 x 7 = 56\n",
      "8 x 8 = 64\n",
      "8 x 9 = 72\n",
      "8 x 10 = 80\n",
      "9 x 0 = 0\n",
      "9 x 1 = 9\n",
      "9 x 2 = 18\n",
      "9 x 3 = 27\n",
      "9 x 4 = 36\n",
      "9 x 5 = 45\n",
      "9 x 6 = 54\n",
      "9 x 7 = 63\n",
      "9 x 8 = 72\n",
      "9 x 9 = 81\n",
      "9 x 10 = 90\n",
      "10 x 0 = 0\n",
      "10 x 1 = 10\n",
      "10 x 2 = 20\n",
      "10 x 3 = 30\n",
      "10 x 4 = 40\n",
      "10 x 5 = 50\n",
      "10 x 6 = 60\n",
      "10 x 7 = 70\n",
      "10 x 8 = 80\n",
      "10 x 9 = 90\n",
      "10 x 10 = 100\n"
     ]
    }
   ],
   "source": [
    "# tabiadas\n",
    "def Tabuada(nr):\n",
    "    for x in range(11):\n",
    "        print(f'{nr} x {x} = {nr*x}')\n",
    "for i in range(11):\n",
    "    Tabuada(i)"
   ]
  },
  {
   "cell_type": "code",
   "execution_count": 69,
   "metadata": {},
   "outputs": [
    {
     "name": "stdout",
     "output_type": "stream",
     "text": [
      "23/06/1856\n",
      "18/09/2023\n",
      "10/12/1974\n"
     ]
    }
   ],
   "source": [
    "def FormatarData(dia, mes, ano):\n",
    "    print(f'{dia}/{mes}/{ano}')\n",
    "for i in range(3):\n",
    "    dia = input('Digite que dia é hoje')\n",
    "    mes = input('Digite em que mes estamos')\n",
    "    ano = input('Digite em que ano estamos')\n",
    "    FormatarData(dia, mes, ano)"
   ]
  },
  {
   "cell_type": "markdown",
   "metadata": {},
   "source": [
    "12/04/2024 - Escopo de Variáveis(Variável local e Global)"
   ]
  },
  {
   "cell_type": "code",
   "execution_count": 1,
   "metadata": {},
   "outputs": [
    {
     "name": "stdout",
     "output_type": "stream",
     "text": [
      "SESI\n"
     ]
    }
   ],
   "source": [
    "def NomeEscola(): # variável global\n",
    "    escola = 'SESI' # variável local\n",
    "    print(escola)\n",
    "NomeEscola()"
   ]
  },
  {
   "cell_type": "code",
   "execution_count": 2,
   "metadata": {},
   "outputs": [
    {
     "ename": "NameError",
     "evalue": "name 'escola' is not defined",
     "output_type": "error",
     "traceback": [
      "\u001b[1;31m---------------------------------------------------------------------------\u001b[0m",
      "\u001b[1;31mNameError\u001b[0m                                 Traceback (most recent call last)",
      "Cell \u001b[1;32mIn[2], line 4\u001b[0m\n\u001b[0;32m      2\u001b[0m     escola \u001b[38;5;241m=\u001b[39m \u001b[38;5;124m'\u001b[39m\u001b[38;5;124mSESI\u001b[39m\u001b[38;5;124m'\u001b[39m \u001b[38;5;66;03m# variável local\u001b[39;00m\n\u001b[0;32m      3\u001b[0m     \u001b[38;5;28mprint\u001b[39m(escola)\n\u001b[1;32m----> 4\u001b[0m \u001b[38;5;28mprint\u001b[39m(\u001b[43mescola\u001b[49m) \u001b[38;5;66;03m# ela não existe fora da função\u001b[39;00m\n\u001b[0;32m      5\u001b[0m NomeEscola()\n",
      "\u001b[1;31mNameError\u001b[0m: name 'escola' is not defined"
     ]
    }
   ],
   "source": [
    "def NomeEscola(): # variável global\n",
    "    escola = 'SESI' # variável local\n",
    "    print(escola)\n",
    "print(escola) # ela não existe fora da função\n",
    "NomeEscola()"
   ]
  },
  {
   "cell_type": "code",
   "execution_count": 3,
   "metadata": {},
   "outputs": [
    {
     "name": "stdout",
     "output_type": "stream",
     "text": [
      "Valor ANTES da função SENAI\n",
      "Valor dentro da função SESI\n",
      "Valor DEPOIS da função SENAI\n"
     ]
    }
   ],
   "source": [
    "def NomeEscola(): # variável global\n",
    "    escola = 'SESI' # variável local\n",
    "    print(f'Valor dentro da função {escola}')\n",
    "escola = 'SENAI'\n",
    "print(f'Valor ANTES da função {escola}')\n",
    "NomeEscola()\n",
    "print(f'Valor DEPOIS da função {escola}')"
   ]
  },
  {
   "cell_type": "code",
   "execution_count": 5,
   "metadata": {},
   "outputs": [
    {
     "name": "stdout",
     "output_type": "stream",
     "text": [
      "Valor ANTES da função SENAI\n",
      "Valor dentro da função SESI\n",
      "Valor DEPOIS da função SESI\n"
     ]
    }
   ],
   "source": [
    "def NomeEscola():\n",
    "    # caso eu queira atualizar o conteúdo da variável escola\n",
    "    # preciso escrever que ela é a global\n",
    "    global escola\n",
    "    escola = 'SESI' # alterando o valor da variável global\n",
    "    print(f'Valor dentro da função {escola}')\n",
    "escola = 'SENAI'\n",
    "print(f'Valor ANTES da função {escola}')\n",
    "NomeEscola()\n",
    "print(f'Valor DEPOIS da função {escola}')"
   ]
  },
  {
   "cell_type": "code",
   "execution_count": 8,
   "metadata": {},
   "outputs": [
    {
     "name": "stdout",
     "output_type": "stream",
     "text": [
      "Fora da função 10\n",
      "Dentro da função 1\n",
      "Fora da função 10\n"
     ]
    }
   ],
   "source": [
    "x = 10 # x é uma variável global\n",
    "# podemos acessar x fora de uma função também\n",
    "print('Fora da função', x)\n",
    "def minhaFuncao():\n",
    "    x = 0 # <- variável local\n",
    "    x += 1\n",
    "    print('Dentro da função', x)\n",
    "minhaFuncao()\n",
    "print('Fora da função', x)"
   ]
  },
  {
   "cell_type": "code",
   "execution_count": 2,
   "metadata": {},
   "outputs": [
    {
     "name": "stdout",
     "output_type": "stream",
     "text": [
      "Fora da função 10\n",
      "Dentro da função 11\n",
      "Fora da função 11\n"
     ]
    }
   ],
   "source": [
    "x = 10 # x é uma variável global\n",
    "# podemos acessar x fora de uma função também\n",
    "print('Fora da função', x)\n",
    "def minhaFuncao():\n",
    "    '''\n",
    "        Aqui posso escrever a descrição do que faz a minha função\n",
    "    ''' # descrição da função\n",
    "    global x # <- dizendo que usaremos a variável x global\n",
    "    x += 1\n",
    "    print('Dentro da função', x)\n",
    "minhaFuncao()\n",
    "print('Fora da função', x)"
   ]
  },
  {
   "cell_type": "code",
   "execution_count": 12,
   "metadata": {},
   "outputs": [
    {
     "name": "stdout",
     "output_type": "stream",
     "text": [
      "Sua senha é LdIR$q*Jr@cQp&AAoQIg\n"
     ]
    }
   ],
   "source": [
    "import random\n",
    "caracteres = '1234567890abcdefghijklmnopqrtuvwxyzçABCDEFGHIJKLMNOPQRSTUVWXYZÇ!@#$%&*/><(){[}]'\n",
    "def sorteio(nr : int): # se chama anotação\n",
    "    senha = \"\"\n",
    "    for i in range(nr):\n",
    "        senha += random.choice(caracteres)\n",
    "    return(senha)\n",
    "nr = int(input())\n",
    "print(f'Sua senha é {sorteio(nr)}')"
   ]
  },
  {
   "cell_type": "code",
   "execution_count": null,
   "metadata": {},
   "outputs": [],
   "source": [
    "# PRIMEIRO JEITO\n",
    "# Ctrl + ' para abrir o terminal\n",
    "# escrever \"cd au\" e apertar tab para completar sozinho\n",
    "# git init cria o repositorio\n",
    "# Arquivo README\n",
    "# digitar git status(da erro)\n",
    "# git add . para \"localizar todos os arquivos\"\n",
    "# poderia ser git add nome_do_arquivo\n",
    "# poderia ser git add pasta\n",
    "# digitar git status(se ficar com escrita verde deu certo)\n",
    "# digitar git commit -m \"Primeiro Commit\"\n",
    "# digitar git status\n",
    "# SEGUNDO JEITO\n",
    "# no controle do codigo-fonte apertar o +\n",
    "# e escrever \"Primeiro Commit\"\n",
    "# clicar em confirmação\n",
    "# GIT LOG PARA VER OS COMMIT"
   ]
  },
  {
   "cell_type": "code",
   "execution_count": null,
   "metadata": {},
   "outputs": [],
   "source": [
    "# git remote add origin https://github.com/LiviaDonato/aula_git.git\n",
    "# para lincar(vincular) repositorio github com o git(remoto) repositorio local"
   ]
  },
  {
   "cell_type": "code",
   "execution_count": null,
   "metadata": {},
   "outputs": [],
   "source": [
    "# PS C:\\Users\\47803773826\\OneDrive - SESISENAISP - Escolas\\Documentos\\Curso DEV\\1º Semestre\\Lógica\\Teste_git> git branch v1\n",
    "# PS C:\\Users\\47803773826\\OneDrive - SESISENAISP - Escolas\\Documentos\\Curso DEV\\1º Semestre\\Lógica\\Teste_git> git checkout v1\n",
    "# Switched to branch 'v1'\n",
    "# PS C:\\Users\\47803773826\\OneDrive - SESISENAISP - Escolas\\Documentos\\Curso DEV\\1º Semestre\\Lógica\\Teste_git> git checkout master\n",
    "# Switched to branch 'master'\n",
    "# PS C:\\Users\\47803773826\\OneDrive - SESISENAISP - Escolas\\Documentos\\Curso DEV\\1º Semestre\\Lógica\\Teste_git> git merge v1\n",
    "# Updating 1d982c8..fe7bffd\n",
    "# Fast-forward\n",
    "# git.py | 3 ++-\n",
    "# 1 file changed, 2 insertions(+), 1 deletion(-)"
   ]
  },
  {
   "cell_type": "code",
   "execution_count": null,
   "metadata": {},
   "outputs": [],
   "source": [
    "# cls no terminal apaga tudo"
   ]
  }
 ],
 "metadata": {
  "kernelspec": {
   "display_name": "Python 3",
   "language": "python",
   "name": "python3"
  },
  "language_info": {
   "codemirror_mode": {
    "name": "ipython",
    "version": 3
   },
   "file_extension": ".py",
   "mimetype": "text/x-python",
   "name": "python",
   "nbconvert_exporter": "python",
   "pygments_lexer": "ipython3",
   "version": "3.12.3"
  }
 },
 "nbformat": 4,
 "nbformat_minor": 2
}
