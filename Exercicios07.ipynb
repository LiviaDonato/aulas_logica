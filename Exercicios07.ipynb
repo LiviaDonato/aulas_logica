{
 "cells": [
  {
   "cell_type": "markdown",
   "metadata": {},
   "source": [
    "1. Crie uma lista de filmes com 7 filmes a sua escolha, e faça as seguintes operações com ela:\n",
    "• Exiba apenas o primeiro o filme da lista\n",
    "• Exiba o filme da posição 4\n",
    "• Substitua o filme da última posição e exiba a lista\n",
    "• Insira um novo filme no final da lista e exiba a lista\n",
    "• Insira um novo filme na posição 5 e exiba a lista\n",
    "• Exclua o primeiro filme e exiba a lista\n",
    "• Exclua o último filme e exiba a lista\n",
    "• Exiba os 3 primeiros filmes da lista\n",
    "• Exiba os 4 últimos filmes da lista\n",
    "• Exiba a quantidade de filmes atualmente na lista\n",
    "• Ordene os filmes em ordem decrescente e exiba-os"
   ]
  },
  {
   "cell_type": "code",
   "execution_count": 45,
   "metadata": {},
   "outputs": [
    {
     "name": "stdout",
     "output_type": "stream",
     "text": [
      "Oppenheimer\n",
      "Ficção Americana\n",
      "['Oppenheimer', 'Assassinos da Lua das Flores', 'A Lagosta', 'Ficção Americana', 'A Sociedade da Neve', 'Som da Liberdade', 'Saltburn']\n",
      "['Oppenheimer', 'Assassinos da Lua das Flores', 'A Lagosta', 'Ficção Americana', 'A Sociedade da Neve', 'Som da Liberdade', 'Saltburn', 'O Sequestro do Voo 375']\n",
      "['Oppenheimer', 'Assassinos da Lua das Flores', 'A Lagosta', 'Ficção Americana', 'Missão: Impossível - Acerto de Contas Parte Um', 'A Sociedade da Neve', 'Som da Liberdade', 'Saltburn', 'O Sequestro do Voo 375']\n",
      "['Assassinos da Lua das Flores', 'A Lagosta', 'Ficção Americana', 'Missão: Impossível - Acerto de Contas Parte Um', 'A Sociedade da Neve', 'Som da Liberdade', 'Saltburn', 'O Sequestro do Voo 375']\n",
      "['Assassinos da Lua das Flores', 'A Lagosta', 'Ficção Americana', 'Missão: Impossível - Acerto de Contas Parte Um', 'A Sociedade da Neve', 'Som da Liberdade', 'Saltburn']\n",
      "['Assassinos da Lua das Flores', 'A Lagosta', 'Ficção Americana']\n",
      "['Missão: Impossível - Acerto de Contas Parte Um', 'A Sociedade da Neve', 'Som da Liberdade', 'Saltburn']\n",
      "7\n",
      "['Saltburn', 'Som da Liberdade', 'A Sociedade da Neve', 'Missão: Impossível - Acerto de Contas Parte Um', 'Ficção Americana', 'A Lagosta', 'Assassinos da Lua das Flores']\n"
     ]
    }
   ],
   "source": [
    "filmes = ['Oppenheimer', 'Assassinos da Lua das Flores', 'A Lagosta', 'Ficção Americana', 'A Sociedade da Neve', 'Som da Liberdade', 'As Marvels']\n",
    "print(filmes[0])\n",
    "print(filmes[3])\n",
    "filmes[-1] = 'Saltburn'\n",
    "print(filmes)\n",
    "filmes.append('O Sequestro do Voo 375')\n",
    "print(filmes)\n",
    "filmes.insert(4, 'Missão: Impossível - Acerto de Contas Parte Um')\n",
    "print(filmes)\n",
    "del filmes[0]\n",
    "print(filmes)\n",
    "filmes.pop(-1)\n",
    "print(filmes)\n",
    "print(filmes[:3])\n",
    "print(filmes[3:])\n",
    "print(len(filmes))\n",
    "filmes.reverse()\n",
    "print(filmes)"
   ]
  },
  {
   "cell_type": "markdown",
   "metadata": {},
   "source": [
    "2. Crie uma lista com os 20 times do campeonato brasileiro de futebol\n",
    "• Exiba o primeiro time da lista como campeão\n",
    "• Exiba os 4 primeiros times como que irão jogar a libertadores\n",
    "• Exiba os 4 últimos times como os que estão rebaixados para a série B"
   ]
  },
  {
   "cell_type": "code",
   "execution_count": 37,
   "metadata": {},
   "outputs": [
    {
     "name": "stdout",
     "output_type": "stream",
     "text": [
      "Campeão: Atlético-MG\n",
      "Vão jogar a libertadores: ['Palmeiras', 'Atlético-MG', 'Grêmio', 'Botafogo']\n",
      "Rebaixados para a série B: ['Vitória', 'Juventude', 'Criciúma', 'Atlético-GO']\n"
     ]
    }
   ],
   "source": [
    "times = ['Palmeiras', 'Atlético-MG', 'Grêmio', 'Botafogo', 'Red Bull Bragantino', 'Fluminense', 'Athletico-PR', 'Internacional', 'Fortaleza', 'São Paulo', 'Cuiabá', 'Corinthians', 'Cruzeiro', 'Vasco', 'Bahia', 'Vitória', 'Juventude', 'Criciúma', 'Atlético-GO']\n",
    "print(f'Campeão: {times[1]}')\n",
    "print(f'Vão jogar a libertadores: {times[:4]}')\n",
    "print(f'Rebaixados para a série B: {times[-4:]}')"
   ]
  },
  {
   "cell_type": "markdown",
   "metadata": {},
   "source": [
    "3. Crie um programa que receba do usuário através do input 6 comidas e refaça todos\n",
    "os itens do exercício 1"
   ]
  },
  {
   "cell_type": "code",
   "execution_count": 42,
   "metadata": {},
   "outputs": [
    {
     "name": "stdout",
     "output_type": "stream",
     "text": [
      "fhbvdhrb\n",
      "hdfvbhrj\n",
      "['fhbvdhrb', 'fvhbsbhjrv', 'bhrfvjhfbr', 'hdfvbhrj', 'hrfbvhbjg', 'Strogonoff']\n",
      "['fhbvdhrb', 'fvhbsbhjrv', 'bhrfvjhfbr', 'hdfvbhrj', 'hrfbvhbjg', 'Strogonoff', 'Feijoada']\n",
      "['fhbvdhrb', 'fvhbsbhjrv', 'bhrfvjhfbr', 'hdfvbhrj', 'Lasanha', 'hrfbvhbjg', 'Strogonoff', 'Feijoada']\n",
      "['fvhbsbhjrv', 'bhrfvjhfbr', 'hdfvbhrj', 'Lasanha', 'hrfbvhbjg', 'Strogonoff', 'Feijoada']\n",
      "['fvhbsbhjrv', 'bhrfvjhfbr', 'hdfvbhrj', 'Lasanha', 'hrfbvhbjg', 'Strogonoff']\n",
      "['fvhbsbhjrv', 'bhrfvjhfbr', 'hdfvbhrj']\n",
      "['Lasanha', 'hrfbvhbjg', 'Strogonoff']\n",
      "6\n",
      "['Strogonoff', 'hrfbvhbjg', 'Lasanha', 'hdfvbhrj', 'bhrfvjhfbr', 'fvhbsbhjrv']\n"
     ]
    }
   ],
   "source": [
    "comidas = []\n",
    "for i in range(6):\n",
    "    comida = input('Digite 6 comidas:')\n",
    "    comidas.append(comida)\n",
    "print(comidas[0])\n",
    "print(comidas[3])\n",
    "comidas[-1] = 'Strogonoff'\n",
    "print(comidas)\n",
    "comidas.append('Feijoada')\n",
    "print(comidas)\n",
    "comidas.insert(4, 'Lasanha')\n",
    "print(comidas)\n",
    "del comidas[0]\n",
    "print(comidas)\n",
    "comidas.pop(-1)\n",
    "print(comidas)\n",
    "print(comidas[:3])\n",
    "print(comidas[3:])\n",
    "print(len(comidas))\n",
    "comidas.reverse()\n",
    "print(comidas)"
   ]
  }
 ],
 "metadata": {
  "kernelspec": {
   "display_name": "Python 3",
   "language": "python",
   "name": "python3"
  },
  "language_info": {
   "codemirror_mode": {
    "name": "ipython",
    "version": 3
   },
   "file_extension": ".py",
   "mimetype": "text/x-python",
   "name": "python",
   "nbconvert_exporter": "python",
   "pygments_lexer": "ipython3",
   "version": "3.12.2"
  }
 },
 "nbformat": 4,
 "nbformat_minor": 2
}
