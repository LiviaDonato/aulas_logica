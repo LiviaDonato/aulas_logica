{
 "cells": [
  {
   "cell_type": "markdown",
   "metadata": {},
   "source": [
    "1. Crie uma lista com os números de 1 a 10 e imprima cada número."
   ]
  },
  {
   "cell_type": "code",
   "execution_count": 1,
   "metadata": {},
   "outputs": [
    {
     "name": "stdout",
     "output_type": "stream",
     "text": [
      "1\n",
      "2\n",
      "3\n",
      "4\n",
      "5\n",
      "6\n",
      "7\n",
      "8\n",
      "9\n",
      "10\n"
     ]
    }
   ],
   "source": [
    "numeros = [1, 2, 3, 4, 5, 6, 7, 8, 9, 10]\n",
    "for n in numeros:\n",
    "    print(n)"
   ]
  },
  {
   "cell_type": "markdown",
   "metadata": {},
   "source": [
    "2. Crie uma lista com os nomes de três amigos e imprima cada nome."
   ]
  },
  {
   "cell_type": "code",
   "execution_count": 2,
   "metadata": {},
   "outputs": [
    {
     "name": "stdout",
     "output_type": "stream",
     "text": [
      "velentina\n",
      "ana\n",
      "bernardo\n"
     ]
    }
   ],
   "source": [
    "amigos = ['velentina', 'ana', 'bernardo']\n",
    "for n in amigos:\n",
    "    print(n)"
   ]
  },
  {
   "cell_type": "markdown",
   "metadata": {},
   "source": [
    "3. Crie uma lista com os meses do ano e imprima apenas os meses que começam com \"J\"."
   ]
  },
  {
   "cell_type": "code",
   "execution_count": 3,
   "metadata": {},
   "outputs": [
    {
     "name": "stdout",
     "output_type": "stream",
     "text": [
      "janeiro\n",
      "junho\n",
      "julho\n"
     ]
    }
   ],
   "source": [
    "meses = ['janeiro', 'fevereiro', 'março', 'abril', 'maio', 'junho', 'julho', 'agosto', 'setembro', 'outubro', 'novembro', 'dezembro']\n",
    "for m in meses:\n",
    "    if m[0] == 'j':\n",
    "        print(m)"
   ]
  },
  {
   "cell_type": "markdown",
   "metadata": {},
   "source": [
    "4. Crie uma lista com as palavras \"gato\", \"cachorro\", \"pássaro\" e \"peixe\", e imprima cada palavra\n",
    "em maiúsculas."
   ]
  },
  {
   "cell_type": "code",
   "execution_count": 4,
   "metadata": {},
   "outputs": [
    {
     "name": "stdout",
     "output_type": "stream",
     "text": [
      "GATO\n",
      "CACHORRO\n",
      "PÁSSARO\n",
      "PEIXE\n"
     ]
    }
   ],
   "source": [
    "animais = ['gato', 'cachorro', 'pássaro', 'peixe']\n",
    "for i in animais:\n",
    "    print(i.upper())"
   ]
  },
  {
   "cell_type": "markdown",
   "metadata": {},
   "source": [
    "5. Crie uma lista com 5 números aleatórios e exiba o nr e seu dobro desse."
   ]
  },
  {
   "cell_type": "code",
   "execution_count": 42,
   "metadata": {},
   "outputs": [
    {
     "name": "stdout",
     "output_type": "stream",
     "text": [
      "Número: 19, seu dobro: 38\n",
      "Número: 39, seu dobro: 78\n",
      "Número: 93, seu dobro: 186\n",
      "Número: 55, seu dobro: 110\n",
      "Número: 54, seu dobro: 108\n",
      "Número: 91, seu dobro: 182\n"
     ]
    }
   ],
   "source": [
    "import random\n",
    "nrs = []\n",
    "for i in range(6):\n",
    "    nrs.append(random.randint(1, 100))\n",
    "for n in nrs:\n",
    "    print(f'Número: {n}, seu dobro: {n*2}')"
   ]
  },
  {
   "cell_type": "markdown",
   "metadata": {},
   "source": [
    "6. Crie uma lista com valores numéricos e encontre o maior e o menor elemento dessa lista."
   ]
  },
  {
   "cell_type": "code",
   "execution_count": 6,
   "metadata": {},
   "outputs": [
    {
     "name": "stdout",
     "output_type": "stream",
     "text": [
      "maior: 97, menor: 5\n"
     ]
    }
   ],
   "source": [
    "nrs = [5, 23, 97, 14, 58]\n",
    "maior = nrs[0]\n",
    "menor = nrs[0]\n",
    "for i in nrs:\n",
    "    if i > maior:\n",
    "        maior = i\n",
    "    if i < menor:\n",
    "        menor = i\n",
    "print(f'maior: {maior}, menor: {menor}')"
   ]
  },
  {
   "cell_type": "markdown",
   "metadata": {},
   "source": [
    "7. Receba uma palavra do usuário e calcule quantas vogais há nesta palavra."
   ]
  },
  {
   "cell_type": "code",
   "execution_count": 43,
   "metadata": {},
   "outputs": [
    {
     "name": "stdout",
     "output_type": "stream",
     "text": [
      "A palavra djyughtbdyu possui 2 vogais\n"
     ]
    }
   ],
   "source": [
    "palavra = input('Digite uma palavra')\n",
    "vogais = ['a', 'e', 'i', 'o', 'u']\n",
    "c = 0\n",
    "for i in palavra:\n",
    "    if i.lower() in vogais:\n",
    "        c += 1\n",
    "print(f'A palavra {palavra} possui {c} vogais')"
   ]
  },
  {
   "cell_type": "code",
   "execution_count": 44,
   "metadata": {},
   "outputs": [
    {
     "name": "stdout",
     "output_type": "stream",
     "text": [
      "A palavra tdcgjyufhvjfhuyhdttytg possui 2 vogais\n"
     ]
    }
   ],
   "source": [
    "palavra = input('Digite uma palavra')\n",
    "c = 0\n",
    "for i in palavra:\n",
    "    if i.lower() in 'aeiou':\n",
    "        c += 1\n",
    "print(f'A palavra {palavra} possui {c} vogais')"
   ]
  },
  {
   "cell_type": "markdown",
   "metadata": {},
   "source": [
    "8. Nessa string ‘Gol;Corsa;Palio;Monza;Fusca;’, faça a separação desses itens para uma lista e\n",
    "exiba o item e a posição que ele está"
   ]
  },
  {
   "cell_type": "code",
   "execution_count": 17,
   "metadata": {},
   "outputs": [
    {
     "name": "stdout",
     "output_type": "stream",
     "text": [
      "O carro Gol está na 1º posição\n",
      "O carro Corsa está na 2º posição\n",
      "O carro Palio está na 3º posição\n",
      "O carro Monza está na 4º posição\n",
      "O carro Fusca está na 5º posição\n"
     ]
    }
   ],
   "source": [
    "palavra = 'Gol;Corsa;Palio;Monza;Fusca;'\n",
    "listaCarros = palavra.split(';')\n",
    "del listaCarros[-1]\n",
    "for pos, carro in enumerate(listaCarros): # vê a posição e o nome de cada item da lista\n",
    "    print(f'O carro {carro} está na {pos+1}º posição')"
   ]
  },
  {
   "cell_type": "markdown",
   "metadata": {},
   "source": [
    "9. Faça um programa que vai ler valores numéricos e guardá-los em uma lista, caso o\n",
    "usuário digite 0, o programa mostre:\n",
    "\n",
    "A – Quantos números foram digitados.\n",
    "\n",
    "B – Mostre a lista em ordem crescente.\n",
    "\n",
    "C – Mostre a lista em ordem decrescente.\n",
    "\n",
    "D – O maior valor\n",
    "\n",
    "E – O menor valor\n",
    "\n",
    "D – Se o valor 5 foi digitado na lista ou não."
   ]
  },
  {
   "cell_type": "code",
   "execution_count": 20,
   "metadata": {},
   "outputs": [
    {
     "name": "stdout",
     "output_type": "stream",
     "text": [
      "Foram digitados 3 números\n",
      "[5, 34, 87]\n",
      "[87, 34, 5]\n",
      "número maior: 87\n",
      "número menor: 5\n",
      "O número 5 foi digitado\n"
     ]
    }
   ],
   "source": [
    "listaNr = []\n",
    "while True:\n",
    "    nr = int(input('Digite um numero'))\n",
    "    if nr == 0:\n",
    "        break\n",
    "    listaNr.append(nr)\n",
    "print(f'Foram digitados {len(listaNr)} números')\n",
    "listaNr.sort()\n",
    "print(listaNr)\n",
    "listaNr.reverse()\n",
    "print(listaNr)\n",
    "maior = listaNr[0]\n",
    "menor = listaNr[0]\n",
    "for i in listaNr:\n",
    "    if i > maior:\n",
    "        maior = i\n",
    "    if i < menor:\n",
    "        menor = i\n",
    "print(f'número maior: {maior}')\n",
    "print(f'número menor: {menor}')\n",
    "if 5 in listaNr:\n",
    "    print('O número 5 foi digitado')\n",
    "else:\n",
    "    print('O número 5 não foi digitado')"
   ]
  },
  {
   "cell_type": "code",
   "execution_count": 19,
   "metadata": {},
   "outputs": [
    {
     "name": "stdout",
     "output_type": "stream",
     "text": [
      "Foram digitados 6 números\n",
      "[1, 23, 28, 65, 76, 95]\n",
      "[95, 76, 65, 28, 23, 1]\n",
      "número maior: 95\n",
      "número menor: 1\n",
      "O número 5 não foi digitado\n"
     ]
    }
   ],
   "source": [
    "listaNr = []\n",
    "while True:\n",
    "    nr = int(input('Digite um numero'))\n",
    "    if nr == 0:\n",
    "        break\n",
    "    listaNr.append(nr)\n",
    "print(f'Foram digitados {len(listaNr)} números')\n",
    "listaNr.sort()\n",
    "print(listaNr)\n",
    "menor = listaNr[0]\n",
    "listaNr.reverse()\n",
    "print(listaNr)\n",
    "maior = listaNr[0]\n",
    "print(f'número maior: {maior}')\n",
    "print(f'número menor: {menor}')\n",
    "if 5 in listaNr:\n",
    "    print('O número 5 foi digitado')\n",
    "else:\n",
    "    print('O número 5 não foi digitado')"
   ]
  },
  {
   "cell_type": "markdown",
   "metadata": {},
   "source": [
    "10. Faça um programa que peça o nome de 6 pessoas e pergunte o sexo delas e\n",
    "armazene em 2 listas, uma de homem caso coloque o sexo ‘M’ e outra de mulher caso\n",
    "coloque o sexo ‘F’, no final exiba a lista de homens e mulheres"
   ]
  },
  {
   "cell_type": "code",
   "execution_count": 22,
   "metadata": {},
   "outputs": [
    {
     "name": "stdout",
     "output_type": "stream",
     "text": [
      "Lista de mulheres: ['uhdhbt', 'rvgryhugrby', 'rwfhurgtu']\n",
      "Lista de homens: ['rybgfrugt', 'ruygvtr', 'rbthbrt']\n"
     ]
    }
   ],
   "source": [
    "listaf = []\n",
    "listam = []\n",
    "for i in range(6):\n",
    "    nome = input('Digite seu nome')\n",
    "    sexo = input('Qual seu sexo? [F/M]')\n",
    "    if sexo in 'Ff':\n",
    "        listaf.append(nome)\n",
    "    elif sexo in 'Mm':\n",
    "        listam.append(nome)\n",
    "print(f'Lista de mulheres: {listaf}')\n",
    "print(f'Lista de homens: {listam}')"
   ]
  }
 ],
 "metadata": {
  "kernelspec": {
   "display_name": "Python 3",
   "language": "python",
   "name": "python3"
  },
  "language_info": {
   "codemirror_mode": {
    "name": "ipython",
    "version": 3
   },
   "file_extension": ".py",
   "mimetype": "text/x-python",
   "name": "python",
   "nbconvert_exporter": "python",
   "pygments_lexer": "ipython3",
   "version": "3.12.3"
  }
 },
 "nbformat": 4,
 "nbformat_minor": 2
}
