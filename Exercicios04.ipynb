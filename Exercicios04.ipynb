{
 "cells": [
  {
   "cell_type": "markdown",
   "metadata": {},
   "source": [
    "1. Peça o salário do funcionário e calcule o valor do IRPF e INSS do funcionário e quanto ele irá\n",
    "receber no final do mês, considerando a seguinte tabela:"
   ]
  },
  {
   "cell_type": "code",
   "execution_count": null,
   "metadata": {},
   "outputs": [],
   "source": [
    "salario = float(input('Digite o salario'))\n",
    "IRPF = 0\n",
    "INSS = 0\n",
    "if salario <= 2259.20:\n",
    "    IRPF = 0\n",
    "elif salario <= 2826.65:\n",
    "    IRPF = 7.5\n",
    "elif salario <= 3751.05:\n",
    "    IRPF = 15\n",
    "elif salario <= 4664.68:\n",
    "    IRPF = 22.5\n",
    "else:\n",
    "    IRPF = 27.5\n",
    "if  salario <= 1412.00:\n",
    "    INSS = 7.5\n",
    "elif salario <= 2666.68:\n",
    "    INSS = 9\n",
    "elif salario <= 4000.03:\n",
    "    INSS = 12\n",
    "elif salario <= 7786.02:\n",
    "    INSS = 14\n",
    "else:\n",
    "    INSS = 908.85 / salario * 100\n",
    "print(f'{IRPF:.2f}%')\n",
    "print(f'{INSS:.2f}%')\n",
    "valor1 = salario * IRPF / 100 \n",
    "valor2 = salario * INSS / 100\n",
    "salario = salario - valor1 - valor2\n",
    "print(f'o valor de desconto do IRPF {valor1:.2f}, o valor de desconto do INSS {valor2:.2f} e o salario com o desconto é {salario:.2f}')"
   ]
  },
  {
   "cell_type": "markdown",
   "metadata": {},
   "source": [
    "2. Para melhorar nosso desafio 01, vamos criar um novo calculando de forma real.\n",
    "Peça o salário do funcionário e calcule o valor do IRPF e INSS do funcionário e quanto ele irá\n",
    "receber no final do mês, considerando as seguintes tabelas e fórmulas:\n",
    "- Para calcular o INSS é calculado sobre o valor bruto do salário\n",
    "- Para calcular o IRPF é aplicado a tabela abaixo sobre o valor bruto menos o valor do INSS"
   ]
  },
  {
   "cell_type": "code",
   "execution_count": null,
   "metadata": {},
   "outputs": [],
   "source": [
    "salario = float(input('Digite o salario'))\n",
    "if  salario <= 1412.00:\n",
    "    INSS = 7.5 * salario / 100\n",
    "elif salario <= 2666.68:\n",
    "    INSS = 112.9212 # 2666.68 - 1412.00 = 1.254,68 * 9 / 100 = 112.9212\n",
    "elif salario <= 4000.03:\n",
    "    INSS = 160.002 # 4000.03 - 2666.68 = 1.333,35 * 12 / 100 = 160,002\n",
    "elif salario <= 7786.02:\n",
    "    INSS = 530.0386 # 7786.02 - 4000.03 = 3.785,99 * 14 / 100 = 530,0386\n",
    "else:\n",
    "    INSS = 908,85\n",
    "salario = salario - INSS\n",
    "if salario <= 2259.20:\n",
    "    IRPF = 0\n",
    "elif salario <= 2826.65:\n",
    "    IRPF = 7.5\n",
    "elif salario <= 3751.05:\n",
    "    IRPF = 15\n",
    "elif salario <= 4664.68:\n",
    "    IRPF = 22.5\n",
    "else:\n",
    "    IRPF = 27.5\n",
    "valor1 = IRPF\n",
    "valor2 = INSS / salario * 100\n",
    "print(f'{valor1:.2f}%')\n",
    "print(f'{valor2:.2f}%')\n",
    "IRPF = salario * IRPF / 100 \n",
    "salario = salario - IRPF - INSS\n",
    "print(f'o valor de desconto do IRPF {IRPF:.2f}, o valor de desconto do INSS {INSS:.2f} e o salario com o desconto é {salario:.2f}')"
   ]
  }
 ],
 "metadata": {
  "language_info": {
   "name": "python"
  }
 },
 "nbformat": 4,
 "nbformat_minor": 2
}
