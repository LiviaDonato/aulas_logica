{
 "cells": [
  {
   "cell_type": "markdown",
   "metadata": {},
   "source": [
    "1. Utilizando o comando while, exiba todos os números pares, de 1 a 20."
   ]
  },
  {
   "cell_type": "code",
   "execution_count": 10,
   "metadata": {},
   "outputs": [
    {
     "name": "stdout",
     "output_type": "stream",
     "text": [
      "Números pares de 1 a 20:\n",
      "0\n",
      "2\n",
      "4\n",
      "6\n",
      "8\n",
      "10\n",
      "12\n",
      "14\n",
      "16\n",
      "18\n",
      "20\n"
     ]
    }
   ],
   "source": [
    "numero = 0\n",
    "print('Números pares de 1 a 20:')\n",
    "while numero <= 20:\n",
    "    if (numero % 2) == 0:\n",
    "        print(numero)\n",
    "    numero += 1"
   ]
  },
  {
   "cell_type": "markdown",
   "metadata": {},
   "source": [
    "2. Gere os 6 números do sorteio da mega-sena de forma aleatória."
   ]
  },
  {
   "cell_type": "code",
   "execution_count": 7,
   "metadata": {},
   "outputs": [
    {
     "name": "stdout",
     "output_type": "stream",
     "text": [
      "1º número: 16\n",
      "2º número: 6\n",
      "3º número: 37\n",
      "4º número: 59\n",
      "5º número: 1\n",
      "6º número: 23\n"
     ]
    }
   ],
   "source": [
    "import random\n",
    "for i in range(1, 7):\n",
    "    nr = random.randint(1, 60)\n",
    "    print(f'{i}º número: {nr}')"
   ]
  },
  {
   "cell_type": "code",
   "execution_count": 8,
   "metadata": {},
   "outputs": [
    {
     "name": "stdout",
     "output_type": "stream",
     "text": [
      "1º número: 48\n",
      "2º número: 40\n",
      "3º número: 45\n",
      "4º número: 34\n",
      "5º número: 2\n",
      "6º número: 19\n"
     ]
    }
   ],
   "source": [
    "import random\n",
    "x = 1\n",
    "while x <= 6:\n",
    "    nr = random.randint(1, 60)\n",
    "    print(f'{x}º número: {nr}')\n",
    "    x += 1"
   ]
  },
  {
   "cell_type": "markdown",
   "metadata": {},
   "source": [
    "3. Receba alguns número e verifique a soma e a quantidade de todos os pares e ímpares\n",
    "digitados, digite 0 para não receber mais"
   ]
  },
  {
   "cell_type": "code",
   "execution_count": 10,
   "metadata": {},
   "outputs": [
    {
     "name": "stdout",
     "output_type": "stream",
     "text": [
      "soma: 15\n",
      "números pares: 2\n",
      "números impares: 3\n"
     ]
    }
   ],
   "source": [
    "numero = False\n",
    "cp = 0\n",
    "ci = 0\n",
    "soma = 0\n",
    "while numero == False:\n",
    "    valor = int(input('Digite um número'))\n",
    "    if valor == 0:\n",
    "        numero = True\n",
    "    elif (valor % 2) == 0:\n",
    "        cp += 1\n",
    "    else:\n",
    "        ci += 1\n",
    "    soma += valor\n",
    "print(f'soma: {soma}')\n",
    "print(f'números pares: {cp}')\n",
    "print(f'números impares: {ci}')"
   ]
  },
  {
   "cell_type": "code",
   "execution_count": 9,
   "metadata": {},
   "outputs": [
    {
     "name": "stdout",
     "output_type": "stream",
     "text": [
      "soma: 15\n",
      "números pares: 2\n",
      "números impares: 3\n"
     ]
    }
   ],
   "source": [
    "numero = False\n",
    "cp = 0\n",
    "ci = 0\n",
    "soma = 0\n",
    "while True:\n",
    "    valor = int(input('Digite um número'))\n",
    "    if valor == 0:\n",
    "        break\n",
    "    elif (valor % 2) == 0:\n",
    "        cp += 1\n",
    "    else:\n",
    "        ci += 1\n",
    "    soma += valor\n",
    "print(f'soma: {soma}')\n",
    "print(f'números pares: {cp}')\n",
    "print(f'números impares: {ci}')"
   ]
  },
  {
   "cell_type": "markdown",
   "metadata": {},
   "source": [
    "4. Faça um programa em Python que leia 5 valores inteiros e:\n",
    "• Encontre e mostre o maior valor\n",
    "• Encontre e mostre o menor valor\n",
    "• Calcule e mostre a média dos números lidos"
   ]
  },
  {
   "cell_type": "code",
   "execution_count": 20,
   "metadata": {},
   "outputs": [
    {
     "name": "stdout",
     "output_type": "stream",
     "text": [
      "1º valor 1\n",
      "2º valor 2\n",
      "3º valor 3\n",
      "4º valor 4\n",
      "5º valor 5\n",
      "maior número: 5\n",
      "menor número: 1\n",
      "média dos números lidos: 3.0\n"
     ]
    }
   ],
   "source": [
    "numero = 0\n",
    "maior = 0\n",
    "menor = 0\n",
    "soma = 0\n",
    "for i in range(1, 6):\n",
    "    numero = int(input('Digite um número'))\n",
    "    soma += numero\n",
    "    if i == 1:\n",
    "        menor = numero\n",
    "        maior = numero\n",
    "    elif numero > maior:\n",
    "        maior = numero\n",
    "    elif numero < menor:\n",
    "        menor = numero\n",
    "    print(f'{i}º valor {numero}')\n",
    "soma = soma / 5\n",
    "print(f'maior número: {maior}')\n",
    "print(f'menor número: {menor}')\n",
    "print(f'média dos números lidos: {soma}')"
   ]
  },
  {
   "cell_type": "code",
   "execution_count": 38,
   "metadata": {},
   "outputs": [
    {
     "name": "stdout",
     "output_type": "stream",
     "text": [
      "1º valor 1\n",
      "2º valor 2\n",
      "3º valor 3\n",
      "4º valor 4\n",
      "5º valor 5\n",
      "maior número: 5\n",
      "menor número: 1\n",
      "média dos números lidos: 3.0\n"
     ]
    }
   ],
   "source": [
    "numero = 0\n",
    "maior = 0\n",
    "menor = 0\n",
    "soma = 0\n",
    "x = 1\n",
    "while x <= 5:\n",
    "    numero = int(input('Digite um número'))\n",
    "    soma += numero\n",
    "    if x == 1:\n",
    "        menor = numero\n",
    "        maior = numero\n",
    "    elif numero > maior:\n",
    "        maior = numero\n",
    "    elif numero < menor:\n",
    "        menor = numero\n",
    "    print(f'{x}º valor {numero}')\n",
    "    x += 1\n",
    "soma = soma / 5\n",
    "print(f'maior número: {maior}')\n",
    "print(f'menor número: {menor}')\n",
    "print(f'média dos números lidos: {soma}')"
   ]
  },
  {
   "cell_type": "markdown",
   "metadata": {},
   "source": [
    "5. Faça um programa que receba um número e mostre seu fatorial. Ex. :\n",
    "5! = 5 * 4 * 3 * 2 * 1 = 120"
   ]
  },
  {
   "cell_type": "code",
   "execution_count": 22,
   "metadata": {},
   "outputs": [
    {
     "name": "stdout",
     "output_type": "stream",
     "text": [
      "o resultado da fatoração desse número é: 120\n"
     ]
    }
   ],
   "source": [
    "numero = int(input('Digite um número'))\n",
    "resultado = 1\n",
    "for i in range(numero, 0, -1):\n",
    "    resultado = resultado * i\n",
    "print(f'o resultado da fatoração desse número é: {resultado}')"
   ]
  },
  {
   "cell_type": "code",
   "execution_count": 2,
   "metadata": {},
   "outputs": [
    {
     "name": "stdout",
     "output_type": "stream",
     "text": [
      "o resultado da fatoração desse número é: 120\n"
     ]
    }
   ],
   "source": [
    "numero = int(input('Digite um número'))\n",
    "resultado = 1\n",
    "x = 1\n",
    "while x <= numero:\n",
    "    resultado = resultado * x\n",
    "    x += 1\n",
    "print(f'o resultado da fatoração desse número é: {resultado}')"
   ]
  },
  {
   "cell_type": "markdown",
   "metadata": {},
   "source": [
    "6. Crie um programa com um menu, onde irá receber 2 números, e pelo menu perguntar qual\n",
    "operação deseja realizar\n",
    "[1] Somar os números\n",
    "[2] Subtrair os números\n",
    "[3] Multiplicar os números\n",
    "[4] Dividir os números\n",
    "[5] Sair"
   ]
  },
  {
   "cell_type": "code",
   "execution_count": 23,
   "metadata": {},
   "outputs": [
    {
     "name": "stdout",
     "output_type": "stream",
     "text": [
      "3.0 + 2.0 = 5.0\n",
      "3.0 * 2.0 = 6.0\n",
      "3.0 - 2.0 = 1.0\n",
      "3.0 / 2.0 = 1.5\n",
      "Sair\n"
     ]
    }
   ],
   "source": [
    "numero1 = float(input('Digite um número'))\n",
    "numero2 = float(input('Digite um número'))\n",
    "valor1 = 0\n",
    "valor2 = 0\n",
    "soma = 0\n",
    "while valor1 != 5:\n",
    "    valor1 = int(input('Digite um número'))\n",
    "    match valor1:\n",
    "        case 1:\n",
    "            valor2 = numero1 + numero2\n",
    "            print(f'{numero1} + {numero2} = {valor2}')\n",
    "        case 2:\n",
    "            valor2 = numero1 - numero2\n",
    "            print(f'{numero1} - {numero2} = {valor2}')\n",
    "        case 3:\n",
    "            valor2 = numero1 * numero2\n",
    "            print(f'{numero1} * {numero2} = {valor2}')\n",
    "        case 4:\n",
    "            valor2 = numero1 / numero2\n",
    "            print(f'{numero1} / {numero2} = {valor2}')\n",
    "        case 5:\n",
    "            print('Sair')\n",
    "        case _:\n",
    "            print('Não esta no menu')"
   ]
  },
  {
   "cell_type": "markdown",
   "metadata": {},
   "source": [
    "7. Crie um sistema bancário, onde começo recebendo o nome do cliente e seu saldo zerado, crie\n",
    "as opções em um menu onde posso, depositar um valor, sacar um valor, consultar o saldo ou\n",
    "sair\n",
    "[1] Depositar\n",
    "[2] Sacar\n",
    "[3] Consultar Saldo\n",
    "[4] Sair"
   ]
  },
  {
   "cell_type": "code",
   "execution_count": 26,
   "metadata": {},
   "outputs": [
    {
     "name": "stdout",
     "output_type": "stream",
     "text": [
      "Depositar: 1.0\n",
      "Depositar: 1.0\n",
      "Depositar: 1.0\n",
      "Sacar: 1.0\n",
      "Consultar Saldo: 2.0\n",
      "Sair\n"
     ]
    }
   ],
   "source": [
    "nome = input('Digite seu nome')\n",
    "valor1 = 0\n",
    "valor2 = 0\n",
    "saldo = 0\n",
    "while valor1 != 4:\n",
    "    valor1 = int(input('Digite um número'))\n",
    "    match valor1:\n",
    "        case 1:\n",
    "            valor2 = float(input('Digite um número'))\n",
    "            print(f'Depositar: {valor2}')\n",
    "            saldo += valor2\n",
    "        case 2:\n",
    "            valor2 = float(input('Digite um número'))\n",
    "            print(f'Sacar: {valor2}')\n",
    "            saldo -= valor2\n",
    "        case 3:\n",
    "            print(f'Consultar Saldo: {saldo}')\n",
    "        case 4:\n",
    "            print('Sair')\n",
    "        case _:\n",
    "            print('Não esta no menu')"
   ]
  },
  {
   "cell_type": "markdown",
   "metadata": {},
   "source": [
    "Crie o jogo Jokenpo (✊, 🖐, ✌ ), onde o computador irá sortear entre pedra, papel e\n",
    "tesoura, e o jogador terá que escolher sua opção, jogar até o usuário digitar SAIR, ao\n",
    "sair, exibir quantas vezes cada um ganhou"
   ]
  },
  {
   "cell_type": "code",
   "execution_count": 6,
   "metadata": {},
   "outputs": [
    {
     "name": "stdout",
     "output_type": "stream",
     "text": [
      "computador: 1\n",
      "pessoa: 0\n",
      "empate: 1\n"
     ]
    }
   ],
   "source": [
    "import random\n",
    "lista = ['🖐', '✊', '✌']\n",
    "sorteio = random.choice(lista)\n",
    "valor = ''\n",
    "c_computador = 0\n",
    "c_pessoa = 0\n",
    "c_impate = 0\n",
    "while valor != 'SAIR':\n",
    "    valor = input('Digite sua opção')\n",
    "    if valor == '🖐' and sorteio == '✊':\n",
    "        c_pessoa += 1\n",
    "    elif valor == '✊' and sorteio == '🖐':\n",
    "        c_computador += 1\n",
    "    elif valor == '🖐' and sorteio == '✌':\n",
    "        c_computador += 1\n",
    "    elif valor == '✊' and sorteio == '✌':\n",
    "        c_pessoa += 1\n",
    "    elif valor == '✌' and sorteio == '🖐':\n",
    "        c_pessoa += 1\n",
    "    elif valor == '✌' and sorteio == '✊':\n",
    "        c_computador += 1\n",
    "    else:\n",
    "        c_impate += 1\n",
    "print(f'computador: {c_computador}')\n",
    "print(f'pessoa: {c_pessoa}')\n",
    "print(f'empate: {c_impate}')"
   ]
  },
  {
   "cell_type": "code",
   "execution_count": null,
   "metadata": {},
   "outputs": [],
   "source": [
    "import random\n",
    "lista = ['🖐', '✊', '✌']\n",
    "sorteio = random.choice(lista)\n",
    "valor = ''\n",
    "c_computador = 0\n",
    "c_pessoa = 0\n",
    "c_impate = 0\n",
    "while valor != 'SAIR':\n",
    "    valor = input('Digite sua opção')\n",
    "    if valor == '🖐':\n",
    "        if sorteio == '✊':\n",
    "            c_pessoa += 1\n",
    "        else:\n",
    "            c_computador += 1\n",
    "    elif valor == '✊':\n",
    "        if sorteio == '🖐':\n",
    "            c_computador += 1\n",
    "        else:\n",
    "            c_pessoa += 1\n",
    "    elif valor == '✌':\n",
    "        if sorteio == '🖐':\n",
    "            c_pessoa += 1\n",
    "        else:\n",
    "            c_computador += 1\n",
    "    else:\n",
    "        c_impate += 1\n",
    "print(f'computador: {c_computador}')\n",
    "print(f'pessoa: {c_pessoa}')\n",
    "print(f'empate: {c_impate}')"
   ]
  }
 ],
 "metadata": {
  "kernelspec": {
   "display_name": "Python 3",
   "language": "python",
   "name": "python3"
  },
  "language_info": {
   "codemirror_mode": {
    "name": "ipython",
    "version": 3
   },
   "file_extension": ".py",
   "mimetype": "text/x-python",
   "name": "python",
   "nbconvert_exporter": "python",
   "pygments_lexer": "ipython3",
   "version": "3.12.2"
  }
 },
 "nbformat": 4,
 "nbformat_minor": 2
}
