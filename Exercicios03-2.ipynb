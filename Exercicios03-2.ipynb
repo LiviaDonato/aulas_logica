{
 "cells": [
  {
   "cell_type": "markdown",
   "metadata": {},
   "source": [
    "1. Pede ao usuário para digitar um número de 1 a 7 e imprime o dia da semana correspondente."
   ]
  },
  {
   "cell_type": "code",
   "execution_count": null,
   "metadata": {},
   "outputs": [],
   "source": [
    "numero = int(input('Digite um número de 1 a 7'))\n",
    "if numero == 1:\n",
    "    print('Segunda-feira')\n",
    "elif numero == 2:\n",
    "    print('Terça-feira')\n",
    "elif numero == 3:\n",
    "    print('Quarta-feira')\n",
    "elif numero == 4:\n",
    "    print('Quinta-feira')\n",
    "elif numero == 5:\n",
    "    print('Sexta-feira')\n",
    "elif numero == 6:\n",
    "    print('Sábado')\n",
    "elif numero == 7:\n",
    "    print('Domingo')\n",
    "else:\n",
    "    print('informação digitada invalida')"
   ]
  },
  {
   "cell_type": "code",
   "execution_count": 50,
   "metadata": {},
   "outputs": [
    {
     "name": "stdout",
     "output_type": "stream",
     "text": [
      "Quinta-feira\n"
     ]
    }
   ],
   "source": [
    "numero = int(input('Digite um número de 1 a 7'))\n",
    "match numero:\n",
    "    case 1:\n",
    "        print('Segunda-feira')\n",
    "    case 2:\n",
    "        print('Terça-feira')\n",
    "    case 3:\n",
    "        print('Quarta-feira')\n",
    "    case 4:\n",
    "        print('Quinta-feira')\n",
    "    case 5:\n",
    "        print('Sexta-feira')\n",
    "    case 6:\n",
    "        print('Sábado')\n",
    "    case 7:\n",
    "        print('Domingo')\n",
    "    case _:\n",
    "        print('informação digitada invalida')"
   ]
  },
  {
   "cell_type": "markdown",
   "metadata": {},
   "source": [
    "2. Pede ao usuário o ano atual e o ano de nascimento e verifique em qual faixa etária ele\n",
    "pertence considerando (abaixo de 10 é criança, de 11 a 17 adolescente, de 18 a 59 adulto,\n",
    "acima de 60 idoso)"
   ]
  },
  {
   "cell_type": "code",
   "execution_count": 6,
   "metadata": {},
   "outputs": [
    {
     "name": "stdout",
     "output_type": "stream",
     "text": [
      "Idoso\n"
     ]
    }
   ],
   "source": [
    "ano_atual = int(input('Digite o ano atual'))\n",
    "ano_nascimento = (int(input('Digite o seu ano de nascimento')))\n",
    "idade = ano_atual - ano_nascimento\n",
    "if idade <= 10:\n",
    "    print('Criança')\n",
    "elif idade > 10 and idade < 18:\n",
    "    print('Adolescente')\n",
    "elif idade > 17 and idade < 60:\n",
    "    print('Adulto')\n",
    "else:\n",
    "    print('Idoso')"
   ]
  },
  {
   "cell_type": "markdown",
   "metadata": {},
   "source": [
    "3. Pede ao usuário para digitar o nome de um mês e imprime o número de dias naquele mês."
   ]
  },
  {
   "cell_type": "code",
   "execution_count": 8,
   "metadata": {},
   "outputs": [
    {
     "name": "stdout",
     "output_type": "stream",
     "text": [
      "31 dias\n"
     ]
    }
   ],
   "source": [
    "mes = input('Digite o mês')\n",
    "if mes == 'abril' or mes == 'junho' or mes == 'setembro' or mes == 'novembro':\n",
    "    print('30 dias')\n",
    "elif mes == 'janeiro' or mes == 'março' or mes == 'maio' or mes == 'julho' or mes == 'agosto' or mes == 'outubro' or mes == 'dezembro':\n",
    "    print('31 dias')\n",
    "else:\n",
    "    print('28 dias')"
   ]
  },
  {
   "cell_type": "code",
   "execution_count": 1,
   "metadata": {},
   "outputs": [
    {
     "name": "stdout",
     "output_type": "stream",
     "text": [
      "30 dias\n"
     ]
    }
   ],
   "source": [
    "mes = input('Digite o mês')\n",
    "if mes.lower() == 'abril' or mes == 'junho' or mes == 'setembro' or mes == 'novembro':\n",
    "    print('30 dias')\n",
    "elif mes.lower() == 'janeiro' or mes == 'março' or mes == 'maio' or mes == 'julho' or mes == 'agosto' or mes == 'outubro' or mes == 'dezembro':\n",
    "    print('31 dias')\n",
    "else:\n",
    "    print('28 dias')"
   ]
  },
  {
   "cell_type": "code",
   "execution_count": null,
   "metadata": {},
   "outputs": [],
   "source": [
    "mes = input('Digite o mês')\n",
    "match mes:\n",
    "    case 'abril', 'junho', 'setembro', 'novembro':\n",
    "        print('30 dias')\n",
    "    case 'janeiro', 'março', 'maio', 'julho', 'agosto', 'outubro', 'dezembro':\n",
    "        print('31 dias')\n",
    "    case _:\n",
    "        print('28 dias')"
   ]
  },
  {
   "cell_type": "markdown",
   "metadata": {},
   "source": [
    "4. Pede ao usuário para digitar 2 notas e calcule sua média, e considere a média acima de 7\n",
    "aprovado, entre 5 e 7, em recuperação, abaixo de 5 reprovado."
   ]
  },
  {
   "cell_type": "code",
   "execution_count": 2,
   "metadata": {},
   "outputs": [
    {
     "name": "stdout",
     "output_type": "stream",
     "text": [
      "Aprovado\n",
      "8.0\n"
     ]
    }
   ],
   "source": [
    "nota1 = float(input('Digite a primeira nota:'))\n",
    "nota2 = float(input('Digite a segunda nota:'))\n",
    "media = (nota1 + nota2) / 2\n",
    "if media > 7:\n",
    "    print('Aprovado')\n",
    "elif media > 4:\n",
    "    print('Em recuperação')\n",
    "else:\n",
    "    print('Reprovado')\n",
    "print(media)"
   ]
  },
  {
   "cell_type": "markdown",
   "metadata": {},
   "source": [
    "5. Pede o salário do funcionário, e calcular o aumento que ele terá, considerando se ganhar até\n",
    "2000, reajuste de 12%, até 4000, reajuste de 10%, acima de 4000 reajuste de 8%, exibir o\n",
    "novo salário"
   ]
  },
  {
   "cell_type": "code",
   "execution_count": 4,
   "metadata": {},
   "outputs": [
    {
     "name": "stdout",
     "output_type": "stream",
     "text": [
      "2240.0\n"
     ]
    }
   ],
   "source": [
    "salario = float(input('Digite o salario'))\n",
    "porcentagem = 0\n",
    "if salario <= 2000:\n",
    "    porcentagem = 12\n",
    "elif salario <= 4000:\n",
    "    porcentagem = 10\n",
    "else:\n",
    "    porcentagem = 8\n",
    "novo_salario = salario * porcentagem / 100\n",
    "print(salario + novo_salario)"
   ]
  }
 ],
 "metadata": {
  "kernelspec": {
   "display_name": "Python 3",
   "language": "python",
   "name": "python3"
  },
  "language_info": {
   "codemirror_mode": {
    "name": "ipython",
    "version": 3
   },
   "file_extension": ".py",
   "mimetype": "text/x-python",
   "name": "python",
   "nbconvert_exporter": "python",
   "pygments_lexer": "ipython3",
   "version": "3.12.2"
  }
 },
 "nbformat": 4,
 "nbformat_minor": 2
}
